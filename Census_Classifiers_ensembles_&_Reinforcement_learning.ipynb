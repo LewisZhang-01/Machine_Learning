{
 "cells": [
  {
   "cell_type": "markdown",
   "id": "b4c02cd1-9dc0-42bc-bbb9-1fa182b2298a",
   "metadata": {
    "tags": []
   },
   "source": [
    "# COMP47490 Assignment 2\n",
    "\n",
    "**Student Name** `Zhi Zhang` <br/>\n",
    "**Student Number** `18210054` <br/>\n",
    "**Dataset** `./census_18210054.csv`"
   ]
  },
  {
   "cell_type": "markdown",
   "id": "b7da25f4-9da3-46de-8c19-ebbb5c3345c2",
   "metadata": {
    "tags": []
   },
   "source": [
    "## Import all required packages"
   ]
  },
  {
   "cell_type": "code",
   "execution_count": 1,
   "id": "3714f5c6-bcc4-4f65-ac6c-a91c6bb84470",
   "metadata": {},
   "outputs": [
    {
     "name": "stderr",
     "output_type": "stream",
     "text": [
      "2022-12-04 18:13:17.118619: I tensorflow/core/platform/cpu_feature_guard.cc:193] This TensorFlow binary is optimized with oneAPI Deep Neural Network Library (oneDNN) to use the following CPU instructions in performance-critical operations:  AVX2 FMA\n",
      "To enable them in other operations, rebuild TensorFlow with the appropriate compiler flags.\n"
     ]
    }
   ],
   "source": [
    "import pandas as pd\n",
    "import numpy as np\n",
    "import time\n",
    "from loguru import logger\n",
    "from IPython.display import display, clear_output\n",
    "import matplotlib\n",
    "import matplotlib.pyplot as plt\n",
    "%matplotlib inline \n",
    "\n",
    "from sklearn.model_selection import train_test_split, cross_val_score, StratifiedKFold\n",
    "from sklearn.preprocessing import LabelEncoder\n",
    "from sklearn.svm import SVC\n",
    "from sklearn.dummy import DummyClassifier\n",
    "from sklearn.metrics import accuracy_score, f1_score, ConfusionMatrixDisplay, balanced_accuracy_score, accuracy_score, precision_score, recall_score\n",
    "from sklearn.tree import DecisionTreeClassifier, DecisionTreeRegressor\n",
    "from sklearn.neural_network import MLPClassifier\n",
    "from sklearn.neighbors import KNeighborsClassifier\n",
    "from sklearn.ensemble import BaggingClassifier\n",
    "\n",
    "import gym\n",
    "from gym import spaces\n",
    "from gym.spaces import Discrete, MultiDiscrete\n",
    "import numpy as np\n",
    "import stable_baselines3 as sb3\n",
    "import torch as th\n",
    "from stable_baselines3.common.env_checker import check_env\n",
    "from stable_baselines3 import DQN, PPO, A2C\n",
    "from stable_baselines3.common.evaluation import evaluate_policy\n",
    "\n",
    "from tensorflow.keras.models import Sequential\n",
    "from tensorflow.keras.layers import Dense, Flatten, InputLayer\n",
    "from tensorflow.keras.optimizers import Adam\n",
    "from rl.agents import DQNAgent\n",
    "from rl.policy import BoltzmannQPolicy\n",
    "from rl.memory import SequentialMemory"
   ]
  },
  {
   "cell_type": "markdown",
   "id": "8bdf3b68-ac07-4fde-9ca9-55fb16b6d97a",
   "metadata": {
    "tags": []
   },
   "source": [
    "# **Question 1** \n",
    "**Using dataset, perform the tasks below using Python and Scikit-learn.**"
   ]
  },
  {
   "cell_type": "markdown",
   "id": "15ed4223-68ea-4182-9138-aaf8d59dc01a",
   "metadata": {
    "jp-MarkdownHeadingCollapsed": true,
    "tags": []
   },
   "source": [
    "## **Question 1a** \n",
    "**Clean and prepare the dataset for machine learning analysis. You can do basic feature engineering to make your techniques scalable, but there is no need to go overboard with the dataset cleaning. Carefully consider the evaluation measure(s) that you use for this exercise and justify why you selected the particular evaluation measure(s). [10 marks]**"
   ]
  },
  {
   "cell_type": "markdown",
   "id": "742e05f6-3646-4858-a36e-d3dd6ae92987",
   "metadata": {
    "tags": []
   },
   "source": [
    "### Load the csv file"
   ]
  },
  {
   "cell_type": "code",
   "execution_count": 2,
   "id": "f88fb372-5e2a-4c6c-8570-da4ee1c24a01",
   "metadata": {},
   "outputs": [
    {
     "data": {
      "text/html": [
       "<div>\n",
       "<style scoped>\n",
       "    .dataframe tbody tr th:only-of-type {\n",
       "        vertical-align: middle;\n",
       "    }\n",
       "\n",
       "    .dataframe tbody tr th {\n",
       "        vertical-align: top;\n",
       "    }\n",
       "\n",
       "    .dataframe thead th {\n",
       "        text-align: right;\n",
       "    }\n",
       "</style>\n",
       "<table border=\"1\" class=\"dataframe\">\n",
       "  <thead>\n",
       "    <tr style=\"text-align: right;\">\n",
       "      <th></th>\n",
       "      <th>age</th>\n",
       "      <th>workclass</th>\n",
       "      <th>fnlwgt</th>\n",
       "      <th>education</th>\n",
       "      <th>education-num</th>\n",
       "      <th>marital-status</th>\n",
       "      <th>occupation</th>\n",
       "      <th>relationship</th>\n",
       "      <th>race</th>\n",
       "      <th>sex</th>\n",
       "      <th>capital-gain</th>\n",
       "      <th>capital-loss</th>\n",
       "      <th>hours-per-week</th>\n",
       "      <th>native-country</th>\n",
       "      <th>Income-category</th>\n",
       "    </tr>\n",
       "  </thead>\n",
       "  <tbody>\n",
       "    <tr>\n",
       "      <th>0</th>\n",
       "      <td>23</td>\n",
       "      <td>Private</td>\n",
       "      <td>157127</td>\n",
       "      <td>Some-college</td>\n",
       "      <td>10</td>\n",
       "      <td>Never-married</td>\n",
       "      <td>Other-service</td>\n",
       "      <td>Not-in-family</td>\n",
       "      <td>White</td>\n",
       "      <td>Female</td>\n",
       "      <td>0</td>\n",
       "      <td>0</td>\n",
       "      <td>20</td>\n",
       "      <td>United-States</td>\n",
       "      <td>&lt;=50K</td>\n",
       "    </tr>\n",
       "    <tr>\n",
       "      <th>1</th>\n",
       "      <td>62</td>\n",
       "      <td>Private</td>\n",
       "      <td>210935</td>\n",
       "      <td>HS-grad</td>\n",
       "      <td>9</td>\n",
       "      <td>Married-civ-spouse</td>\n",
       "      <td>Other-service</td>\n",
       "      <td>Husband</td>\n",
       "      <td>White</td>\n",
       "      <td>Male</td>\n",
       "      <td>0</td>\n",
       "      <td>0</td>\n",
       "      <td>20</td>\n",
       "      <td>United-States</td>\n",
       "      <td>&lt;=50K</td>\n",
       "    </tr>\n",
       "    <tr>\n",
       "      <th>2</th>\n",
       "      <td>42</td>\n",
       "      <td>Private</td>\n",
       "      <td>337629</td>\n",
       "      <td>12th</td>\n",
       "      <td>8</td>\n",
       "      <td>Married-civ-spouse</td>\n",
       "      <td>Craft-repair</td>\n",
       "      <td>Husband</td>\n",
       "      <td>Black</td>\n",
       "      <td>Male</td>\n",
       "      <td>0</td>\n",
       "      <td>0</td>\n",
       "      <td>60</td>\n",
       "      <td>?</td>\n",
       "      <td>&gt;50K</td>\n",
       "    </tr>\n",
       "    <tr>\n",
       "      <th>3</th>\n",
       "      <td>61</td>\n",
       "      <td>State-gov</td>\n",
       "      <td>162678</td>\n",
       "      <td>5th-6th</td>\n",
       "      <td>3</td>\n",
       "      <td>Married-civ-spouse</td>\n",
       "      <td>Transport-moving</td>\n",
       "      <td>Husband</td>\n",
       "      <td>White</td>\n",
       "      <td>Male</td>\n",
       "      <td>0</td>\n",
       "      <td>0</td>\n",
       "      <td>40</td>\n",
       "      <td>United-States</td>\n",
       "      <td>&lt;=50K</td>\n",
       "    </tr>\n",
       "    <tr>\n",
       "      <th>4</th>\n",
       "      <td>46</td>\n",
       "      <td>Local-gov</td>\n",
       "      <td>172822</td>\n",
       "      <td>HS-grad</td>\n",
       "      <td>9</td>\n",
       "      <td>Married-civ-spouse</td>\n",
       "      <td>Transport-moving</td>\n",
       "      <td>Husband</td>\n",
       "      <td>White</td>\n",
       "      <td>Male</td>\n",
       "      <td>0</td>\n",
       "      <td>0</td>\n",
       "      <td>40</td>\n",
       "      <td>United-States</td>\n",
       "      <td>&lt;=50K</td>\n",
       "    </tr>\n",
       "  </tbody>\n",
       "</table>\n",
       "</div>"
      ],
      "text/plain": [
       "   age   workclass   fnlwgt      education   education-num  \\\n",
       "0   23     Private   157127   Some-college              10   \n",
       "1   62     Private   210935        HS-grad               9   \n",
       "2   42     Private   337629           12th               8   \n",
       "3   61   State-gov   162678        5th-6th               3   \n",
       "4   46   Local-gov   172822        HS-grad               9   \n",
       "\n",
       "        marital-status         occupation    relationship    race      sex  \\\n",
       "0        Never-married      Other-service   Not-in-family   White   Female   \n",
       "1   Married-civ-spouse      Other-service         Husband   White     Male   \n",
       "2   Married-civ-spouse       Craft-repair         Husband   Black     Male   \n",
       "3   Married-civ-spouse   Transport-moving         Husband   White     Male   \n",
       "4   Married-civ-spouse   Transport-moving         Husband   White     Male   \n",
       "\n",
       "    capital-gain   capital-loss   hours-per-week  native-country  \\\n",
       "0              0              0               20   United-States   \n",
       "1              0              0               20   United-States   \n",
       "2              0              0               60               ?   \n",
       "3              0              0               40   United-States   \n",
       "4              0              0               40   United-States   \n",
       "\n",
       "   Income-category  \n",
       "0            <=50K  \n",
       "1            <=50K  \n",
       "2             >50K  \n",
       "3            <=50K  \n",
       "4            <=50K  "
      ]
     },
     "execution_count": 2,
     "metadata": {},
     "output_type": "execute_result"
    }
   ],
   "source": [
    "df = pd.read_csv('./census_18210054.csv')\n",
    "df.head()"
   ]
  },
  {
   "cell_type": "markdown",
   "id": "5477e411-c433-4f80-9920-4aa20a670872",
   "metadata": {
    "jp-MarkdownHeadingCollapsed": true,
    "tags": []
   },
   "source": [
    "### Check size of dataframe \n",
    "Show how many rows and columns this dataframe has."
   ]
  },
  {
   "cell_type": "code",
   "execution_count": 3,
   "id": "bda411cc-c798-4b5f-90b7-c209cc2cb709",
   "metadata": {},
   "outputs": [
    {
     "name": "stdout",
     "output_type": "stream",
     "text": [
      "This dataframe have 10000 rows & 15 columns\n"
     ]
    }
   ],
   "source": [
    "print(\"This dataframe have %d rows & %d columns\" % (df.shape[0],df.shape[1]))"
   ]
  },
  {
   "cell_type": "markdown",
   "id": "825c545a-c20a-4f24-8c71-7f3df46700bc",
   "metadata": {
    "jp-MarkdownHeadingCollapsed": true,
    "tags": []
   },
   "source": [
    "### Check spaces in dataframe\n",
    "Sometimes, extra spaces or other characters may be included to affect subsequent operations."
   ]
  },
  {
   "cell_type": "code",
   "execution_count": 4,
   "id": "6b8c4002-3213-4701-b14e-11936b89fcfc",
   "metadata": {},
   "outputs": [
    {
     "data": {
      "text/plain": [
       "Index(['age', ' workclass', ' fnlwgt', ' education', ' education-num',\n",
       "       ' marital-status', ' occupation', ' relationship', ' race', ' sex',\n",
       "       ' capital-gain', ' capital-loss', ' hours-per-week', ' native-country',\n",
       "       ' Income-category'],\n",
       "      dtype='object')"
      ]
     },
     "execution_count": 4,
     "metadata": {},
     "output_type": "execute_result"
    }
   ],
   "source": [
    "df.columns"
   ]
  },
  {
   "cell_type": "markdown",
   "id": "84ddf723-fc34-45af-8e01-db51a23a7b9f",
   "metadata": {},
   "source": [
    "From the above output we can see that there is a space at the beginning of each column name.<br/>\n",
    "We use `.strip()` funtion in pandas to solve this issue."
   ]
  },
  {
   "cell_type": "code",
   "execution_count": 5,
   "id": "20b64c6f-5be5-487b-9e5b-fcff7b680be2",
   "metadata": {},
   "outputs": [
    {
     "data": {
      "text/plain": [
       "Index(['age', 'workclass', 'fnlwgt', 'education', 'education-num',\n",
       "       'marital-status', 'occupation', 'relationship', 'race', 'sex',\n",
       "       'capital-gain', 'capital-loss', 'hours-per-week', 'native-country',\n",
       "       'Income-category'],\n",
       "      dtype='object')"
      ]
     },
     "execution_count": 5,
     "metadata": {},
     "output_type": "execute_result"
    }
   ],
   "source": [
    "df.rename(columns=lambda x:x.strip(),inplace=True)\n",
    "df.columns"
   ]
  },
  {
   "cell_type": "markdown",
   "id": "e38421f7-5dc1-46aa-bb3c-7c1e39ca42bd",
   "metadata": {},
   "source": [
    "Remove space in front or back of all object type columns."
   ]
  },
  {
   "cell_type": "code",
   "execution_count": 6,
   "id": "6cf2b729-27bd-4cda-b1ee-8423dd84a843",
   "metadata": {},
   "outputs": [
    {
     "name": "stdout",
     "output_type": "stream",
     "text": [
      "e.g Before:  [' Private', ' Private', ' Private', ' State-gov', ' Local-gov']\n",
      "e.g After:  ['Private', 'Private', 'Private', 'State-gov', 'Local-gov']\n"
     ]
    }
   ],
   "source": [
    "print(\"e.g Before: \",df.workclass.head().to_list())\n",
    "for col in df.select_dtypes([\"object\"]):\n",
    "    df[col] = df[col].str.strip()\n",
    "print(\"e.g After: \",df.workclass.head().to_list())"
   ]
  },
  {
   "cell_type": "markdown",
   "id": "ccba9605-91e5-44eb-8d9e-79fc35ee369f",
   "metadata": {
    "jp-MarkdownHeadingCollapsed": true,
    "tags": []
   },
   "source": [
    "### Check data types in each column\n",
    "Columns may have wrong data type."
   ]
  },
  {
   "cell_type": "code",
   "execution_count": 7,
   "id": "bf0c49e3-1aba-42df-8a45-4827e44faccb",
   "metadata": {},
   "outputs": [
    {
     "name": "stdout",
     "output_type": "stream",
     "text": [
      "<class 'pandas.core.frame.DataFrame'>\n",
      "RangeIndex: 10000 entries, 0 to 9999\n",
      "Data columns (total 15 columns):\n",
      " #   Column           Non-Null Count  Dtype \n",
      "---  ------           --------------  ----- \n",
      " 0   age              10000 non-null  int64 \n",
      " 1   workclass        10000 non-null  object\n",
      " 2   fnlwgt           10000 non-null  int64 \n",
      " 3   education        10000 non-null  object\n",
      " 4   education-num    10000 non-null  int64 \n",
      " 5   marital-status   10000 non-null  object\n",
      " 6   occupation       10000 non-null  object\n",
      " 7   relationship     10000 non-null  object\n",
      " 8   race             10000 non-null  object\n",
      " 9   sex              10000 non-null  object\n",
      " 10  capital-gain     10000 non-null  int64 \n",
      " 11  capital-loss     10000 non-null  int64 \n",
      " 12  hours-per-week   10000 non-null  int64 \n",
      " 13  native-country   10000 non-null  object\n",
      " 14  Income-category  10000 non-null  object\n",
      "dtypes: int64(6), object(9)\n",
      "memory usage: 1.1+ MB\n"
     ]
    }
   ],
   "source": [
    "df.info()"
   ]
  },
  {
   "cell_type": "code",
   "execution_count": 8,
   "id": "8b90b2fe-2e73-4643-8b2b-12affa3b6dfb",
   "metadata": {},
   "outputs": [
    {
     "data": {
      "text/plain": [
       "age                 int64\n",
       "workclass          object\n",
       "fnlwgt              int64\n",
       "education          object\n",
       "education-num       int64\n",
       "marital-status     object\n",
       "occupation         object\n",
       "relationship       object\n",
       "race               object\n",
       "sex                object\n",
       "capital-gain        int64\n",
       "capital-loss        int64\n",
       "hours-per-week      int64\n",
       "native-country     object\n",
       "Income-category    object\n",
       "dtype: object"
      ]
     },
     "execution_count": 8,
     "metadata": {},
     "output_type": "execute_result"
    }
   ],
   "source": [
    "#df['target_class'] = df['target_class'].astype('category')\n",
    "df.dtypes"
   ]
  },
  {
   "cell_type": "markdown",
   "id": "f8967766-7270-42eb-9e7b-64039fad76c7",
   "metadata": {
    "jp-MarkdownHeadingCollapsed": true,
    "tags": []
   },
   "source": [
    "### Check descriptive stats for continuous features\n",
    "We check the stats for these numeric columns."
   ]
  },
  {
   "cell_type": "code",
   "execution_count": 9,
   "id": "2c90c37c-972e-4ae3-b383-f5fe57dc294b",
   "metadata": {},
   "outputs": [
    {
     "data": {
      "text/html": [
       "<div>\n",
       "<style scoped>\n",
       "    .dataframe tbody tr th:only-of-type {\n",
       "        vertical-align: middle;\n",
       "    }\n",
       "\n",
       "    .dataframe tbody tr th {\n",
       "        vertical-align: top;\n",
       "    }\n",
       "\n",
       "    .dataframe thead th {\n",
       "        text-align: right;\n",
       "    }\n",
       "</style>\n",
       "<table border=\"1\" class=\"dataframe\">\n",
       "  <thead>\n",
       "    <tr style=\"text-align: right;\">\n",
       "      <th></th>\n",
       "      <th>count</th>\n",
       "      <th>mean</th>\n",
       "      <th>std</th>\n",
       "      <th>min</th>\n",
       "      <th>25%</th>\n",
       "      <th>50%</th>\n",
       "      <th>75%</th>\n",
       "      <th>max</th>\n",
       "    </tr>\n",
       "  </thead>\n",
       "  <tbody>\n",
       "    <tr>\n",
       "      <th>age</th>\n",
       "      <td>10000.0</td>\n",
       "      <td>38.6284</td>\n",
       "      <td>13.611372</td>\n",
       "      <td>17.0</td>\n",
       "      <td>28.0</td>\n",
       "      <td>37.0</td>\n",
       "      <td>47.00</td>\n",
       "      <td>90.0</td>\n",
       "    </tr>\n",
       "    <tr>\n",
       "      <th>fnlwgt</th>\n",
       "      <td>10000.0</td>\n",
       "      <td>190902.6015</td>\n",
       "      <td>107064.819162</td>\n",
       "      <td>12285.0</td>\n",
       "      <td>118356.5</td>\n",
       "      <td>179568.0</td>\n",
       "      <td>238187.25</td>\n",
       "      <td>1484705.0</td>\n",
       "    </tr>\n",
       "    <tr>\n",
       "      <th>education-num</th>\n",
       "      <td>10000.0</td>\n",
       "      <td>10.0628</td>\n",
       "      <td>2.596985</td>\n",
       "      <td>1.0</td>\n",
       "      <td>9.0</td>\n",
       "      <td>10.0</td>\n",
       "      <td>12.00</td>\n",
       "      <td>16.0</td>\n",
       "    </tr>\n",
       "    <tr>\n",
       "      <th>capital-gain</th>\n",
       "      <td>10000.0</td>\n",
       "      <td>1100.8549</td>\n",
       "      <td>7595.948246</td>\n",
       "      <td>0.0</td>\n",
       "      <td>0.0</td>\n",
       "      <td>0.0</td>\n",
       "      <td>0.00</td>\n",
       "      <td>99999.0</td>\n",
       "    </tr>\n",
       "    <tr>\n",
       "      <th>capital-loss</th>\n",
       "      <td>10000.0</td>\n",
       "      <td>91.3614</td>\n",
       "      <td>409.960059</td>\n",
       "      <td>0.0</td>\n",
       "      <td>0.0</td>\n",
       "      <td>0.0</td>\n",
       "      <td>0.00</td>\n",
       "      <td>3900.0</td>\n",
       "    </tr>\n",
       "    <tr>\n",
       "      <th>hours-per-week</th>\n",
       "      <td>10000.0</td>\n",
       "      <td>40.3997</td>\n",
       "      <td>12.224422</td>\n",
       "      <td>1.0</td>\n",
       "      <td>40.0</td>\n",
       "      <td>40.0</td>\n",
       "      <td>45.00</td>\n",
       "      <td>99.0</td>\n",
       "    </tr>\n",
       "  </tbody>\n",
       "</table>\n",
       "</div>"
      ],
      "text/plain": [
       "                  count         mean            std      min       25%  \\\n",
       "age             10000.0      38.6284      13.611372     17.0      28.0   \n",
       "fnlwgt          10000.0  190902.6015  107064.819162  12285.0  118356.5   \n",
       "education-num   10000.0      10.0628       2.596985      1.0       9.0   \n",
       "capital-gain    10000.0    1100.8549    7595.948246      0.0       0.0   \n",
       "capital-loss    10000.0      91.3614     409.960059      0.0       0.0   \n",
       "hours-per-week  10000.0      40.3997      12.224422      1.0      40.0   \n",
       "\n",
       "                     50%        75%        max  \n",
       "age                 37.0      47.00       90.0  \n",
       "fnlwgt          179568.0  238187.25  1484705.0  \n",
       "education-num       10.0      12.00       16.0  \n",
       "capital-gain         0.0       0.00    99999.0  \n",
       "capital-loss         0.0       0.00     3900.0  \n",
       "hours-per-week      40.0      45.00       99.0  "
      ]
     },
     "execution_count": 9,
     "metadata": {},
     "output_type": "execute_result"
    }
   ],
   "source": [
    "df.describe().T"
   ]
  },
  {
   "cell_type": "markdown",
   "id": "7df01d7d-8888-4d78-9e1c-8fdde4dd4dac",
   "metadata": {
    "jp-MarkdownHeadingCollapsed": true,
    "tags": []
   },
   "source": [
    "### Check for duplicate row"
   ]
  },
  {
   "cell_type": "code",
   "execution_count": 10,
   "id": "1d4df4ea-0b95-4d1c-99e3-ecb3623abb9f",
   "metadata": {},
   "outputs": [
    {
     "name": "stdout",
     "output_type": "stream",
     "text": [
      "Number of duplicate (excluding first) rows in the table is:  1\n",
      "Number of duplicate rows (including first) in the table is: 2\n"
     ]
    },
    {
     "data": {
      "text/html": [
       "<div>\n",
       "<style scoped>\n",
       "    .dataframe tbody tr th:only-of-type {\n",
       "        vertical-align: middle;\n",
       "    }\n",
       "\n",
       "    .dataframe tbody tr th {\n",
       "        vertical-align: top;\n",
       "    }\n",
       "\n",
       "    .dataframe thead th {\n",
       "        text-align: right;\n",
       "    }\n",
       "</style>\n",
       "<table border=\"1\" class=\"dataframe\">\n",
       "  <thead>\n",
       "    <tr style=\"text-align: right;\">\n",
       "      <th></th>\n",
       "      <th>age</th>\n",
       "      <th>workclass</th>\n",
       "      <th>fnlwgt</th>\n",
       "      <th>education</th>\n",
       "      <th>education-num</th>\n",
       "      <th>marital-status</th>\n",
       "      <th>occupation</th>\n",
       "      <th>relationship</th>\n",
       "      <th>race</th>\n",
       "      <th>sex</th>\n",
       "      <th>capital-gain</th>\n",
       "      <th>capital-loss</th>\n",
       "      <th>hours-per-week</th>\n",
       "      <th>native-country</th>\n",
       "      <th>Income-category</th>\n",
       "    </tr>\n",
       "  </thead>\n",
       "  <tbody>\n",
       "    <tr>\n",
       "      <th>4873</th>\n",
       "      <td>30</td>\n",
       "      <td>Private</td>\n",
       "      <td>144593</td>\n",
       "      <td>HS-grad</td>\n",
       "      <td>9</td>\n",
       "      <td>Never-married</td>\n",
       "      <td>Other-service</td>\n",
       "      <td>Not-in-family</td>\n",
       "      <td>Black</td>\n",
       "      <td>Male</td>\n",
       "      <td>0</td>\n",
       "      <td>0</td>\n",
       "      <td>40</td>\n",
       "      <td>?</td>\n",
       "      <td>&lt;=50K</td>\n",
       "    </tr>\n",
       "    <tr>\n",
       "      <th>5436</th>\n",
       "      <td>30</td>\n",
       "      <td>Private</td>\n",
       "      <td>144593</td>\n",
       "      <td>HS-grad</td>\n",
       "      <td>9</td>\n",
       "      <td>Never-married</td>\n",
       "      <td>Other-service</td>\n",
       "      <td>Not-in-family</td>\n",
       "      <td>Black</td>\n",
       "      <td>Male</td>\n",
       "      <td>0</td>\n",
       "      <td>0</td>\n",
       "      <td>40</td>\n",
       "      <td>?</td>\n",
       "      <td>&lt;=50K</td>\n",
       "    </tr>\n",
       "  </tbody>\n",
       "</table>\n",
       "</div>"
      ],
      "text/plain": [
       "      age workclass  fnlwgt education  education-num marital-status  \\\n",
       "4873   30   Private  144593   HS-grad              9  Never-married   \n",
       "5436   30   Private  144593   HS-grad              9  Never-married   \n",
       "\n",
       "         occupation   relationship   race   sex  capital-gain  capital-loss  \\\n",
       "4873  Other-service  Not-in-family  Black  Male             0             0   \n",
       "5436  Other-service  Not-in-family  Black  Male             0             0   \n",
       "\n",
       "      hours-per-week native-country Income-category  \n",
       "4873              40              ?           <=50K  \n",
       "5436              40              ?           <=50K  "
      ]
     },
     "execution_count": 10,
     "metadata": {},
     "output_type": "execute_result"
    }
   ],
   "source": [
    "#Print the number of duplicates, without the original rows that were duplicated\n",
    "print('Number of duplicate (excluding first) rows in the table is: ', df.duplicated().sum())\n",
    "\n",
    "# Check for duplicate rows. \n",
    "# Use \"keep=False\" to mark all duplicates as true, including the original rows that were duplicated.\n",
    "print('Number of duplicate rows (including first) in the table is:', df[df.duplicated(keep=False)].shape[0])\n",
    "df[df.duplicated(keep=False)]"
   ]
  },
  {
   "cell_type": "markdown",
   "id": "bbe81cea-7cae-4b5d-8c0d-923620b7c403",
   "metadata": {},
   "source": [
    "Verify duplication"
   ]
  },
  {
   "cell_type": "code",
   "execution_count": 11,
   "id": "fb5be161-21e3-4f85-a045-1a0906453996",
   "metadata": {},
   "outputs": [
    {
     "name": "stdout",
     "output_type": "stream",
     "text": [
      "Number of duplicate (excluding first) rows in the table is:  0\n"
     ]
    }
   ],
   "source": [
    "df.drop_duplicates(keep='first',inplace=True)\n",
    "print('Number of duplicate (excluding first) rows in the table is: ', df.duplicated().sum())"
   ]
  },
  {
   "cell_type": "markdown",
   "id": "b0436d12-96e5-4fd7-8f5a-e33c67b39b52",
   "metadata": {
    "jp-MarkdownHeadingCollapsed": true,
    "tags": []
   },
   "source": [
    "### Check Missing Values"
   ]
  },
  {
   "cell_type": "code",
   "execution_count": 12,
   "id": "7d70840d-6686-40d5-8e68-fc44038e9aca",
   "metadata": {},
   "outputs": [
    {
     "data": {
      "text/plain": [
       "age                0\n",
       "workclass          0\n",
       "fnlwgt             0\n",
       "education          0\n",
       "education-num      0\n",
       "marital-status     0\n",
       "occupation         0\n",
       "relationship       0\n",
       "race               0\n",
       "sex                0\n",
       "capital-gain       0\n",
       "capital-loss       0\n",
       "hours-per-week     0\n",
       "native-country     0\n",
       "Income-category    0\n",
       "dtype: int64"
      ]
     },
     "execution_count": 12,
     "metadata": {},
     "output_type": "execute_result"
    }
   ],
   "source": [
    "df.isnull().sum()"
   ]
  },
  {
   "cell_type": "markdown",
   "id": "c48239f0-992d-4ec8-8d92-0c6a96214408",
   "metadata": {},
   "source": [
    "Check if the missing value appears in another form"
   ]
  },
  {
   "cell_type": "code",
   "execution_count": 13,
   "id": "9a4bfc59-8a13-4daf-a1ff-3a088d6558e2",
   "metadata": {},
   "outputs": [
    {
     "name": "stdout",
     "output_type": "stream",
     "text": [
      "Private             6997\n",
      "Self-emp-not-inc     752\n",
      "Local-gov            679\n",
      "?                    569\n",
      "State-gov            376\n",
      "Self-emp-inc         336\n",
      "Federal-gov          286\n",
      "Without-pay            4\n",
      "Name: workclass, dtype: int64\n",
      "HS-grad         3191\n",
      "Some-college    2225\n",
      "Bachelors       1610\n",
      "Masters          525\n",
      "Assoc-voc        437\n",
      "11th             386\n",
      "Assoc-acdm       329\n",
      "10th             287\n",
      "7th-8th          210\n",
      "Prof-school      174\n",
      "9th              160\n",
      "Doctorate        147\n",
      "12th             143\n",
      "5th-6th          108\n",
      "1st-4th           54\n",
      "Preschool         13\n",
      "Name: education, dtype: int64\n",
      "Married-civ-spouse    4678\n",
      "Never-married         3190\n",
      "Divorced              1345\n",
      "Separated              326\n",
      "Widowed                312\n",
      "Married-spouse-abs     140\n",
      "Married-AF-spouse        8\n",
      "Name: marital-status, dtype: int64\n",
      "Prof-specialty       1255\n",
      "Craft-repair         1248\n",
      "Exec-managerial      1227\n",
      "Adm-clerical         1163\n",
      "Sales                1122\n",
      "Other-service        1030\n",
      "Machine-op-inspct     616\n",
      "?                     569\n",
      "Transport-moving      519\n",
      "Handlers-cleaners     386\n",
      "Farming-fishing       319\n",
      "Tech-support          292\n",
      "Protective-serv       201\n",
      "Priv-house-serv        47\n",
      "Armed-Forces            5\n",
      "Name: occupation, dtype: int64\n",
      "Husband           4128\n",
      "Not-in-family     2493\n",
      "Own-child         1558\n",
      "Unmarried         1026\n",
      "Wife               484\n",
      "Other-relative     310\n",
      "Name: relationship, dtype: int64\n",
      "White                 8564\n",
      "Black                  955\n",
      "Asian-Pac-Islander     305\n",
      "Amer-Indian-Eskimo      90\n",
      "Other                   85\n",
      "Name: race, dtype: int64\n",
      "Male      6704\n",
      "Female    3295\n",
      "Name: sex, dtype: int64\n",
      "United-States            8950\n",
      "Mexico                    212\n",
      "?                         174\n",
      "Philippines                54\n",
      "Canada                     41\n",
      "Germany                    38\n",
      "Puerto-Rico                37\n",
      "India                      31\n",
      "Cuba                       30\n",
      "England                    29\n",
      "Japan                      24\n",
      "Guatemala                  23\n",
      "El-Salvador                23\n",
      "China                      22\n",
      "Columbia                   22\n",
      "Italy                      21\n",
      "Vietnam                    21\n",
      "Jamaica                    20\n",
      "Dominican-Republic         20\n",
      "Poland                     17\n",
      "Haiti                      17\n",
      "South                      15\n",
      "Taiwan                     15\n",
      "Iran                       14\n",
      "Portugal                   14\n",
      "Nicaragua                  11\n",
      "Ireland                    11\n",
      "Greece                     11\n",
      "Ecuador                    11\n",
      "Peru                       10\n",
      "Laos                        9\n",
      "Cambodia                    7\n",
      "Trinadad&Tobago             6\n",
      "Hong                        6\n",
      "Thailand                    6\n",
      "Outlying-US-Guam-USVI       6\n",
      "Scotland                    5\n",
      "Yugoslavia                  5\n",
      "France                      5\n",
      "Hungary                     3\n",
      "Honduras                    2\n",
      "Holand-Netherlands          1\n",
      "Name: native-country, dtype: int64\n",
      "<=50K    7556\n",
      ">50K     2443\n",
      "Name: Income-category, dtype: int64\n"
     ]
    }
   ],
   "source": [
    "for col in df.select_dtypes([\"object\"]).columns:\n",
    "    print(df[col].value_counts())"
   ]
  },
  {
   "cell_type": "markdown",
   "id": "ed1a835e-940c-4fe0-aaff-ebb24c2cb55d",
   "metadata": {},
   "source": [
    "`workclass`, `occupation` and `native-country` contain `'?'` as Nan value."
   ]
  },
  {
   "cell_type": "markdown",
   "id": "7d04d278-566a-4051-b46a-107c209a9791",
   "metadata": {
    "jp-MarkdownHeadingCollapsed": true,
    "tags": []
   },
   "source": [
    "### Checking the distribution of numerical features"
   ]
  },
  {
   "cell_type": "code",
   "execution_count": 14,
   "id": "3b47266b-6fbc-4378-988a-fbf01a387ff8",
   "metadata": {},
   "outputs": [
    {
     "name": "stdout",
     "output_type": "stream",
     "text": [
      "37    288\n",
      "35    284\n",
      "30    276\n",
      "23    275\n",
      "24    271\n",
      "     ... \n",
      "83      3\n",
      "84      3\n",
      "88      1\n",
      "85      1\n",
      "86      1\n",
      "Name: age, Length: 72, dtype: int64\n",
      "164190    7\n",
      "112497    6\n",
      "200471    6\n",
      "190290    6\n",
      "99146     5\n",
      "         ..\n",
      "209899    1\n",
      "340269    1\n",
      "161259    1\n",
      "219021    1\n",
      "146879    1\n",
      "Name: fnlwgt, Length: 8518, dtype: int64\n",
      "9     3191\n",
      "10    2225\n",
      "13    1610\n",
      "14     525\n",
      "11     437\n",
      "7      386\n",
      "12     329\n",
      "6      287\n",
      "4      210\n",
      "15     174\n",
      "5      160\n",
      "16     147\n",
      "8      143\n",
      "3      108\n",
      "2       54\n",
      "1       13\n",
      "Name: education-num, dtype: int64\n",
      "0        9169\n",
      "15024      95\n",
      "7688       88\n",
      "7298       68\n",
      "99999      52\n",
      "         ... \n",
      "6360        1\n",
      "2936        1\n",
      "2387        1\n",
      "6723        1\n",
      "2009        1\n",
      "Name: capital-gain, Length: 105, dtype: int64\n",
      "0       9508\n",
      "1902      60\n",
      "1977      58\n",
      "1887      53\n",
      "1485      22\n",
      "        ... \n",
      "2163       1\n",
      "2489       1\n",
      "3900       1\n",
      "2457       1\n",
      "1825       1\n",
      "Name: capital-loss, Length: 73, dtype: int64\n",
      "40    4690\n",
      "50     864\n",
      "45     565\n",
      "60     483\n",
      "35     429\n",
      "      ... \n",
      "92       1\n",
      "61       1\n",
      "88       1\n",
      "76       1\n",
      "67       1\n",
      "Name: hours-per-week, Length: 84, dtype: int64\n"
     ]
    }
   ],
   "source": [
    "for col in df.select_dtypes([\"int64\"]).columns:\n",
    "    print(df[col].value_counts())"
   ]
  },
  {
   "cell_type": "markdown",
   "id": "3c423173-1465-489f-8730-f4f27089ff55",
   "metadata": {},
   "source": [
    "We find `capital-gain` & `capital-loss` are unusual, the vast majority of them are \"0\". In addition, it's both belong to 'capital'. We could combine them and create a new column called `capital-current`."
   ]
  },
  {
   "cell_type": "markdown",
   "id": "318177b9-90b1-4440-9b3d-326b3791e7e7",
   "metadata": {
    "jp-MarkdownHeadingCollapsed": true,
    "tags": []
   },
   "source": [
    "### Check Features in plots"
   ]
  },
  {
   "cell_type": "code",
   "execution_count": 15,
   "id": "2c689e3a-14f1-42da-84dc-661df23ed076",
   "metadata": {},
   "outputs": [
    {
     "data": {
      "image/png": "[encoded data removed]",
      "text/plain": [
       "<Figure size 1440x1800 with 12 Axes>"
      ]
     },
     "metadata": {
      "needs_background": "light"
     },
     "output_type": "display_data"
    }
   ],
   "source": [
    "params = {'axes.titlesize':'20',\n",
    "          'xtick.labelsize':'14',\n",
    "          'ytick.labelsize':'14'}\n",
    "matplotlib.rcParams.update(params)\n",
    "df.hist(figsize=(20, 25), layout=(4,3));\n",
    "plt.grid(visible=True, which='major', color='#666666', linestyle='-')"
   ]
  },
  {
   "cell_type": "markdown",
   "id": "4bfa1c29-d143-4d5e-8b27-3ac10a82edd9",
   "metadata": {},
   "source": [
    "- Category column in **df**"
   ]
  },
  {
   "cell_type": "code",
   "execution_count": 16,
   "id": "9559b959-8e18-49de-a1cd-45ca2f99db80",
   "metadata": {},
   "outputs": [
    {
     "data": {
      "image/png": "[encoded data removed]",
      "text/plain": [
       "<Figure size 504x360 with 1 Axes>"
      ]
     },
     "metadata": {
      "needs_background": "light"
     },
     "output_type": "display_data"
    },
    {
     "data": {
      "image/png": "[encoded data removed]",
      "text/plain": [
       "<Figure size 504x360 with 1 Axes>"
      ]
     },
     "metadata": {
      "needs_background": "light"
     },
     "output_type": "display_data"
    },
    {
     "data": {
      "image/png": "[encoded data removed]",
      "text/plain": [
       "<Figure size 504x360 with 1 Axes>"
      ]
     },
     "metadata": {
      "needs_background": "light"
     },
     "output_type": "display_data"
    },
    {
     "data": {
      "image/png": "[encoded data removed]",
      "text/plain": [
       "<Figure size 504x360 with 1 Axes>"
      ]
     },
     "metadata": {
      "needs_background": "light"
     },
     "output_type": "display_data"
    },
    {
     "data": {
      "image/png": "[encoded data removed]",
      "text/plain": [
       "<Figure size 504x360 with 1 Axes>"
      ]
     },
     "metadata": {
      "needs_background": "light"
     },
     "output_type": "display_data"
    },
    {
     "data": {
      "image/png": "[encoded data removed]",
      "text/plain": [
       "<Figure size 504x360 with 1 Axes>"
      ]
     },
     "metadata": {
      "needs_background": "light"
     },
     "output_type": "display_data"
    },
    {
     "data": {
      "image/png": "[encoded data removed]",
      "text/plain": [
       "<Figure size 504x360 with 1 Axes>"
      ]
     },
     "metadata": {
      "needs_background": "light"
     },
     "output_type": "display_data"
    },
    {
     "data": {
      "image/png": "[encoded data removed]",
      "text/plain": [
       "<Figure size 504x360 with 1 Axes>"
      ]
     },
     "metadata": {
      "needs_background": "light"
     },
     "output_type": "display_data"
    },
    {
     "data": {
      "image/png": "[encoded data removed]",
      "text/plain": [
       "<Figure size 504x360 with 1 Axes>"
      ]
     },
     "metadata": {
      "needs_background": "light"
     },
     "output_type": "display_data"
    }
   ],
   "source": [
    "categorical_columns = df.select_dtypes(['object']).columns\n",
    "for column in categorical_columns:\n",
    "    \n",
    "    df[column].value_counts(dropna=False).plot(kind='barh', title=column, figsize=(7,5),layout=(5, 2), rot=0)\n",
    "    plt.show()"
   ]
  },
  {
   "cell_type": "markdown",
   "id": "487c83c2-2f78-4dd7-a4bb-e90b81e3b3cc",
   "metadata": {
    "jp-MarkdownHeadingCollapsed": true,
    "tags": []
   },
   "source": [
    "### Summary of the issues in data and potential handling strategies"
   ]
  },
  {
   "cell_type": "markdown",
   "id": "43f3d816-e035-4750-83ec-c2bf5120f502",
   "metadata": {},
   "source": [
    "| Feature         |Data Type| Data Quality Issue   | Handling Strategy      \n",
    "|-----------------|---------|----------------------|------------------------\n",
    "|age              |int64    | Need for normalisation | Normalize into 5 classes by encoding.\n",
    "|workclass        |object   | Contain missing value <br/> Wrong data type | Missing value in `?` format, drop it. <br/>Change to `category` type.\n",
    "|fnlwgt           |int64    | Irrelevant data      | Drop it.\n",
    "|education        |object   | Duplicated column    | Drop it.\n",
    "|education-num    |int64    | Wrong data type      | Rename as `education` and change to `category` type.\n",
    "|marital-status   |object   | Wrong data type      | Change to `category` type.\n",
    "|occupation       |object   | Contain missing value <br/> Wrong data type | Missing value in `?` format, drop it. <br/>Change to `category` type.\n",
    "|relationship     |object   | Wrong data type      | Change to `category` type.\n",
    "|race             |object   | Wrong data type      | Change to `category` type.\n",
    "|sex              |object   | Wrong data type      | Change to `category` type.\n",
    "|capital-gain     |int64    | Imbalanced data (1) <br/> & High Outliers | Combine (1) & (2) as new column `capital-current`. <br/> Clamp high outliers to the 95th percentile.\n",
    "|capital-loss     |int64    | Imbalanced data (2) | See above.\n",
    "|hours-per-week   |int64    | Need for normalisation | Normalize into 5 classes by encoding.\n",
    "|native-country   |object   | Contain missing value <br/> Wrong data type <br/> Imbalanced data| Missing value in `?` format, drop it. <br/>Change to `category` type & Binary Encoding.\n",
    "|Income-category  |object   | Wrong data type      | Change to `category` type."
   ]
  },
  {
   "cell_type": "markdown",
   "id": "885016d3-a57b-4e75-afcb-b79bb798970d",
   "metadata": {
    "tags": []
   },
   "source": [
    "### Clean the data using the strategies\n",
    "\n",
    "Store a copy of the training and test data before filling in the missing values."
   ]
  },
  {
   "cell_type": "code",
   "execution_count": 17,
   "id": "302c14f3-3e1b-452c-8e38-2b63050229f5",
   "metadata": {},
   "outputs": [],
   "source": [
    "df_copy = df.copy()"
   ]
  },
  {
   "cell_type": "code",
   "execution_count": 18,
   "id": "df6d6e22-6925-4db3-90dd-2aa861f4c2e9",
   "metadata": {},
   "outputs": [],
   "source": [
    "df = df_copy.copy()"
   ]
  },
  {
   "cell_type": "markdown",
   "id": "9b3e09a0-df65-4f5b-9c38-f0287698ea97",
   "metadata": {
    "tags": []
   },
   "source": [
    "#### **Handel Missing Value**\n",
    "Drop rows if contain `?`"
   ]
  },
  {
   "cell_type": "code",
   "execution_count": 19,
   "id": "841a2fc5-87c8-4cc4-89ed-bb2155640ed4",
   "metadata": {},
   "outputs": [
    {
     "data": {
      "text/plain": [
       "(9264, 15)"
      ]
     },
     "execution_count": 19,
     "metadata": {},
     "output_type": "execute_result"
    }
   ],
   "source": [
    "df_clean = df.replace(\"?\", np.nan).dropna()\n",
    "df_clean.shape"
   ]
  },
  {
   "cell_type": "markdown",
   "id": "1dc0a412-e482-4d24-bcce-ba066e6d0ccb",
   "metadata": {},
   "source": [
    "Check missing value again"
   ]
  },
  {
   "cell_type": "code",
   "execution_count": 20,
   "id": "63eba855-aec3-4272-a98d-3bb8432d05e8",
   "metadata": {},
   "outputs": [
    {
     "data": {
      "text/plain": [
       "0"
      ]
     },
     "execution_count": 20,
     "metadata": {},
     "output_type": "execute_result"
    }
   ],
   "source": [
    "df_clean.isnull().sum().sum()"
   ]
  },
  {
   "cell_type": "markdown",
   "id": "f5da9fae-4c8e-4c76-bc43-068621da6437",
   "metadata": {},
   "source": [
    "#### **Concat columns**\n",
    "Use `capital-gain` - `capital-loss` we get new column called `capital-current`\n"
   ]
  },
  {
   "cell_type": "code",
   "execution_count": 21,
   "id": "8762f1ea-28f9-477a-8d43-0b141568950c",
   "metadata": {},
   "outputs": [],
   "source": [
    "df_clean['capital-current'] = df_clean['capital-gain'] - df_clean['capital-loss']"
   ]
  },
  {
   "cell_type": "markdown",
   "id": "04626527-9e9b-4ff2-9348-87ba6ee35c23",
   "metadata": {
    "tags": []
   },
   "source": [
    "#### **Drop Columns**"
   ]
  },
  {
   "cell_type": "code",
   "execution_count": 22,
   "id": "334786d2-2bdc-4d8d-b3f3-c5501d3f058d",
   "metadata": {},
   "outputs": [],
   "source": [
    "df_clean.drop(columns=['fnlwgt','education','capital-gain','capital-loss'], inplace=True)"
   ]
  },
  {
   "cell_type": "markdown",
   "id": "7dec5cf0-fe5a-4a21-b9d2-25fe735bacdc",
   "metadata": {},
   "source": [
    "Rename column"
   ]
  },
  {
   "cell_type": "code",
   "execution_count": 23,
   "id": "9adf0fce-b581-46b5-8637-aa27628ced55",
   "metadata": {},
   "outputs": [],
   "source": [
    "df_clean.rename(columns={'education-num': 'education'}, inplace=True)"
   ]
  },
  {
   "cell_type": "markdown",
   "id": "fa99b99a-f0f6-4505-b82e-d4ee5ffa1a9f",
   "metadata": {
    "tags": []
   },
   "source": [
    "#### **Data Normalisation**"
   ]
  },
  {
   "cell_type": "markdown",
   "id": "e5afb250-8615-4195-a99f-0a03828f720f",
   "metadata": {},
   "source": [
    "***Normalize into 5 classes by encoding***\n",
    "\n",
    "For `age` and `hours-per-week`"
   ]
  },
  {
   "cell_type": "code",
   "execution_count": 24,
   "id": "030af27d-0fb5-4014-9f26-529779ec1b49",
   "metadata": {},
   "outputs": [
    {
     "name": "stdout",
     "output_type": "stream",
     "text": [
      "20_40      4839\n",
      "40_60      3275\n",
      "under20     578\n",
      "60_80       548\n",
      "over_80      24\n",
      "Name: age, dtype: int64 \n",
      "\n",
      "20_40      5749\n",
      "40_60      2515\n",
      "under20     699\n",
      "60_80       248\n",
      "over_80      53\n",
      "Name: hours-per-week, dtype: int64 \n",
      "\n",
      "Unchanged    8044\n",
      "Positive      764\n",
      "Negative      456\n",
      "Name: capital-current, dtype: int64\n"
     ]
    }
   ],
   "source": [
    "def encode_by_5_bin(in_put):\n",
    "    if in_put <= 20:\n",
    "        return 'under20'\n",
    "    elif in_put <= 40:\n",
    "        return '20_40'\n",
    "    elif in_put <= 60:\n",
    "        return '40_60'\n",
    "    elif in_put <= 80:\n",
    "        return '60_80'\n",
    "    else:\n",
    "        return 'over_80'\n",
    "    \n",
    "def encode_by_3_bin(in_put):\n",
    "    if in_put < 0:\n",
    "        return 'Negative'\n",
    "    elif in_put == 0:\n",
    "        return 'Unchanged'\n",
    "    else:\n",
    "        return 'Positive'\n",
    "    \n",
    "cols = ['age','hours-per-week']\n",
    "\n",
    "for col in cols:\n",
    "    df_clean[col] = df_clean.apply(lambda x: encode_by_5_bin(x[col]), axis=1)\n",
    "    print(df_clean[col].value_counts(),'\\n')\n",
    "\n",
    "df_clean['capital-current'] = df_clean.apply(lambda x: encode_by_3_bin(x['capital-current']), axis=1)\n",
    "print(df_clean['capital-current'].value_counts())"
   ]
  },
  {
   "cell_type": "markdown",
   "id": "2b1a4df6-de4c-4070-ad88-afb654ec8715",
   "metadata": {},
   "source": [
    "***Normalize `native-country` into 2 main class, 'US' & 'Non-US'***"
   ]
  },
  {
   "cell_type": "code",
   "execution_count": 25,
   "id": "d08537d4-f441-45b8-9da1-05db464cb8c0",
   "metadata": {},
   "outputs": [
    {
     "data": {
      "text/plain": [
       "US        8432\n",
       "Non-US     832\n",
       "Name: native-country, dtype: int64"
      ]
     },
     "execution_count": 25,
     "metadata": {},
     "output_type": "execute_result"
    }
   ],
   "source": [
    "df_clean['native-country'] = df_clean['native-country'].apply(lambda x: 'US' if x == 'United-States' else 'Non-US')\n",
    "df_clean['native-country'].value_counts()"
   ]
  },
  {
   "cell_type": "code",
   "execution_count": 26,
   "id": "21599ab9-3ea2-4e71-a5fa-dc323cb97c23",
   "metadata": {},
   "outputs": [],
   "source": [
    "label = LabelEncoder()\n",
    "for cols in df_clean.columns:\n",
    "    df_clean[cols] = label.fit_transform(df_clean[cols])\n",
    "    #df_clean[col] = df_clean[[col]].apply(lambda x: label.fit_transform(x))\n",
    "    #df_clean[col] = df_clean[col].astype('category')"
   ]
  },
  {
   "cell_type": "code",
   "execution_count": 27,
   "id": "ce4e86d6-3d17-4cd7-8477-f7dca448e8de",
   "metadata": {},
   "outputs": [
    {
     "data": {
      "text/plain": [
       "age                category\n",
       "workclass          category\n",
       "education          category\n",
       "marital-status     category\n",
       "occupation         category\n",
       "relationship       category\n",
       "race               category\n",
       "sex                category\n",
       "hours-per-week     category\n",
       "native-country     category\n",
       "Income-category    category\n",
       "capital-current    category\n",
       "dtype: object"
      ]
     },
     "execution_count": 27,
     "metadata": {},
     "output_type": "execute_result"
    }
   ],
   "source": [
    "cols = df_clean.columns\n",
    "df_clean[cols] = df_clean[cols].apply(lambda x: x.astype('category'))\n",
    "df_clean.dtypes"
   ]
  },
  {
   "cell_type": "code",
   "execution_count": 28,
   "id": "1bb4cf81-154e-47a7-8ecb-f77039351817",
   "metadata": {},
   "outputs": [
    {
     "name": "stdout",
     "output_type": "stream",
     "text": [
      "After clean, this dataframe have 9264 rows & 12 columns\n",
      "<class 'pandas.core.frame.DataFrame'>\n",
      "RangeIndex: 9264 entries, 0 to 9263\n",
      "Data columns (total 12 columns):\n",
      " #   Column           Non-Null Count  Dtype   \n",
      "---  ------           --------------  -----   \n",
      " 0   age              9264 non-null   category\n",
      " 1   workclass        9264 non-null   category\n",
      " 2   education        9264 non-null   category\n",
      " 3   marital-status   9264 non-null   category\n",
      " 4   occupation       9264 non-null   category\n",
      " 5   relationship     9264 non-null   category\n",
      " 6   race             9264 non-null   category\n",
      " 7   sex              9264 non-null   category\n",
      " 8   hours-per-week   9264 non-null   category\n",
      " 9   native-country   9264 non-null   category\n",
      " 10  Income-category  9264 non-null   category\n",
      " 11  capital-current  9264 non-null   category\n",
      "dtypes: category(12)\n",
      "memory usage: 112.0 KB\n"
     ]
    }
   ],
   "source": [
    "print(\"After clean, this dataframe have %d rows & %d columns\" % (df_clean.shape[0],df_clean.shape[1]))\n",
    "df_clean.reset_index(drop=True, inplace=True)\n",
    "df_clean.info()"
   ]
  },
  {
   "cell_type": "markdown",
   "id": "6320d5bf-c0ec-4306-aa68-3de92ca18e7b",
   "metadata": {
    "tags": []
   },
   "source": [
    "### Split training set (70%) and test set (30%) **ahead**\n",
    "\n",
    "To avoid **Data Leakage**, we must split the dataset into train and test sets, with the training data used only for feature selection and model fitting. The test set will be utilised exclusively for evaluation and not for model training."
   ]
  },
  {
   "cell_type": "code",
   "execution_count": 29,
   "id": "4ddc92a8-31d5-44b5-939b-9b7d7264a2cd",
   "metadata": {},
   "outputs": [
    {
     "name": "stdout",
     "output_type": "stream",
     "text": [
      "Training set size is 6484\n",
      "Test set size is 2780\n"
     ]
    }
   ],
   "source": [
    "y = df_clean['Income-category']\n",
    "x = df_clean.drop(columns = ['Income-category'])\n",
    "\n",
    "X_train, X_test, y_train, y_test = train_test_split(x, y, test_size=0.3, random_state=42)\n",
    "print(\"Training set size is %d\\nTest set size is %d\" % (X_train.shape[0], X_test.shape[0]))"
   ]
  },
  {
   "cell_type": "markdown",
   "id": "4002c94d-c482-4747-841d-2fcd3b8a215f",
   "metadata": {},
   "source": [
    "Compare Proportion of `Income-category` in original df and split set."
   ]
  },
  {
   "cell_type": "code",
   "execution_count": 30,
   "id": "4b56e63f-97cf-4257-809f-631e97855d4d",
   "metadata": {},
   "outputs": [
    {
     "name": "stdout",
     "output_type": "stream",
     "text": [
      "Original:\n",
      " 0    0.749244\n",
      "1    0.250756\n",
      "Name: Income-category, dtype: float64 \n",
      "\n",
      "Train:\n",
      " 0    0.751542\n",
      "1    0.248458\n",
      "Name: Income-category, dtype: float64 \n",
      "\n",
      "Test:\n",
      " 0    0.743885\n",
      "1    0.256115\n",
      "Name: Income-category, dtype: float64\n"
     ]
    }
   ],
   "source": [
    "print(\"Original:\\n\",df_clean['Income-category'].value_counts()/df_clean['Income-category'].shape[0],\n",
    "      \"\\n\\nTrain:\\n\",y_train.value_counts()/y_train.shape[0],\n",
    "      \"\\n\\nTest:\\n\",y_test.value_counts()/y_test.shape[0])"
   ]
  },
  {
   "cell_type": "markdown",
   "id": "f653c8ab-aa3d-47cd-9743-4f67ca4541e1",
   "metadata": {},
   "source": [
    "The ratio change of the two target classes after separation is `less than 0.01%`, which is an acceptable range."
   ]
  },
  {
   "cell_type": "markdown",
   "id": "630cc13f-3ed4-41b7-9276-81928556da55",
   "metadata": {},
   "source": [
    "### Decide the best evaluation measure"
   ]
  },
  {
   "cell_type": "code",
   "execution_count": 31,
   "id": "71cc2fd8-5258-4c4d-83b0-e0aea3c4b3d5",
   "metadata": {},
   "outputs": [
    {
     "name": "stdout",
     "output_type": "stream",
     "text": [
      "Accuracy: 0.813\n",
      "Accuracy of the dummy classifier: 0.744\n",
      "Precision score: 0.727\n",
      "Recall score: 0.431\n",
      "Macro-averaged F1 score: 0.712\n"
     ]
    },
    {
     "data": {
      "image/png": "[encoded data removed]",
      "text/plain": [
       "<Figure size 432x288 with 2 Axes>"
      ]
     },
     "metadata": {
      "needs_background": "light"
     },
     "output_type": "display_data"
    }
   ],
   "source": [
    "classifier = SVC(random_state=1)\n",
    "classifier.fit(X_train, np.ravel(y_train))\n",
    "y_predicted = classifier.predict(X_test)\n",
    "ConfusionMatrixDisplay.from_estimator(classifier, X_test, y_test);\n",
    "\n",
    "accuracy = accuracy_score(y_test, y_predicted)\n",
    "precision = precision_score(y_test, y_predicted, pos_label=1)\n",
    "recall = recall_score(y_test, y_predicted, pos_label=1)\n",
    "\n",
    "dummy_classifier = DummyClassifier(strategy=\"most_frequent\")\n",
    "dummy_classifier.fit(X_train, y_train)\n",
    "balanced_accuracy = balanced_accuracy_score(y_test, y_predicted)\n",
    "\n",
    "print(f\"Accuracy: {accuracy:.3f}\")\n",
    "print(f\"Accuracy of the dummy classifier: \" f\"{dummy_classifier.score(X_test, y_test):.3f}\")\n",
    "print(f\"Precision score: {precision:.3f}\")\n",
    "print(f\"Recall score: {recall:.3f}\")\n",
    "print(f\"Macro-averaged F1 score: {f1_score(y_test, y_predicted, average='macro'):.3f}\")"
   ]
  },
  {
   "cell_type": "markdown",
   "id": "389bdd00-0815-41b9-9723-1515d7fc0ddc",
   "metadata": {},
   "source": [
    "The above clearly shows that our data set is highly unbalanced. The vast majority of the target classes are `<=50K` (label in '0') have 1953 and only 307 records are classified as `>50K` (label in '1'). Even through the accuracy can still be a useful metric when the class distribution is slightly skewed. However, when there is a significant skew in the class distributions, accuracy might become an unreliable metric of model performance. We acquire a **Macro-averaged F1-score** of `71.2%` which is computed using the arithmetic mean (unweighted mean) of all the per-class F1 scores. This method treats all classes equally regardless of their support values. And it is suitable for usage in this highly unbalanced target class of dataset. We acquire an accuracy score of 74.4% using the dummy classifier which always predicts the positive class of simulation success. \n",
    "\n",
    "As a result, we can substitute the **Macro-averaged F1-score** for accuracy."
   ]
  },
  {
   "cell_type": "markdown",
   "id": "17a77757-c6a4-4c8a-a769-917aa5656457",
   "metadata": {
    "tags": []
   },
   "source": [
    "## **Question 1b** \n",
    "**Evaluate the performance of three basic classifiers on your dataset: a decision tree with depth at most 3, a neural network with at most 10 hidden nodes and 1-NN. You can do basic parameter tuning, but there is no need to go overboard. The goal in this step is simply to create better than random classifiers. [5 marks]**"
   ]
  },
  {
   "cell_type": "markdown",
   "id": "2df7a7f6-e22d-4d14-9c25-725cffa96c10",
   "metadata": {
    "tags": []
   },
   "source": [
    "### Decision Tree (with depth at most 3)"
   ]
  },
  {
   "cell_type": "code",
   "execution_count": 32,
   "id": "6009b1d4-e38e-4700-9127-71ba114a84f4",
   "metadata": {},
   "outputs": [
    {
     "name": "stderr",
     "output_type": "stream",
     "text": [
      "2022-12-04 18:13:29.970 | INFO     | __main__:<module>:6 - Max depth = 3\n",
      "2022-12-04 18:13:29.970 | INFO     | __main__:<module>:7 - Min samples leaf = 10\n",
      "2022-12-04 18:13:29.983 | INFO     | __main__:<module>:14 - Prediction performance on training set: 0.7128890273725256\n",
      "2022-12-04 18:13:29.989 | INFO     | __main__:<module>:21 - Prediction performance on testing set: 0.7083733334636966\n"
     ]
    },
    {
     "name": "stdout",
     "output_type": "stream",
     "text": [
      "\n",
      "--------------------------------------------------------------\n",
      "The Best Decision Trees Classifier is: \n",
      "Max depth =  3 \n",
      "Min samples leaf = 1 \n",
      "with Macro F1-score = 0.708373.\n"
     ]
    }
   ],
   "source": [
    "result = {}\n",
    "full_result = {}\n",
    "for depth in range(2, 4):\n",
    "    for samples_in_leaf in [1, 2, 3, 5, 10]:\n",
    "        clear_output()\n",
    "        logger.info(\"Max depth = {}\".format(depth))\n",
    "        logger.info('Min samples leaf = {}'.format(samples_in_leaf))\n",
    "        dtc = DecisionTreeClassifier(max_depth=depth, min_samples_leaf=samples_in_leaf, random_state=1) \n",
    "        # Fit the decision trees model on the training data.\n",
    "        dtc.fit(X_train, y_train)\n",
    "\n",
    "        # Predict on the training dataset.\n",
    "        y_predicted = dtc.predict(X_train)\n",
    "        logger.info('Prediction performance on training set: {}'.format(f1_score(y_train, y_predicted, average='macro')))\n",
    "\n",
    "        # Predict on the test data.\n",
    "        y_predicted = dtc.predict(X_test)\n",
    "        \n",
    "        score = f1_score(y_test, y_predicted, average='macro')\n",
    "        result[(depth,samples_in_leaf)] = score\n",
    "        logger.info('Prediction performance on testing set: {}'.format(score))\n",
    "\n",
    "#accuracy_rank = dict(sorted(result.items(), key=lambda x: x[1], reverse=True))\n",
    "top = sorted(result.items(), key=lambda x: x[1], reverse=True)[0]\n",
    "print(\"\\n--------------------------------------------------------------\")\n",
    "print(\"The Best Decision Trees Classifier is: \\nMax depth = \",top[0][0],\"\\nMin samples leaf = %d \\nwith Macro F1-score = %f.\" % (top[0][1],top[1]))\n",
    "# Use best parameter train again\n",
    "dtc = DecisionTreeClassifier(max_depth=top[0][0], min_samples_leaf=top[0][1], random_state=1).fit(X_train, y_train)\n",
    "full_result['dtc'] = top[1]"
   ]
  },
  {
   "cell_type": "markdown",
   "id": "eb258e04-6819-4cda-9b78-055192193cb0",
   "metadata": {
    "tags": []
   },
   "source": [
    "### Neural Network (with at most 10 hidden nodes)"
   ]
  },
  {
   "cell_type": "code",
   "execution_count": 33,
   "id": "5952e942-d0eb-4d07-b130-fcafa27e3f53",
   "metadata": {},
   "outputs": [
    {
     "name": "stderr",
     "output_type": "stream",
     "text": [
      "2022-12-04 18:13:39.215 | INFO     | __main__:<module>:6 - hidden_layer_sizes = (10,)\n",
      "2022-12-04 18:13:39.216 | INFO     | __main__:<module>:7 - activation = relu\n",
      "2022-12-04 18:13:39.216 | INFO     | __main__:<module>:8 - solver = adam\n"
     ]
    },
    {
     "name": "stdout",
     "output_type": "stream",
     "text": [
      "Iteration 1, loss = 0.55978025\n",
      "Iteration 2, loss = 0.41623505\n",
      "Iteration 3, loss = 0.39768601\n",
      "Iteration 4, loss = 0.39481900\n",
      "Iteration 5, loss = 0.39482411\n",
      "Iteration 6, loss = 0.38653498\n",
      "Iteration 7, loss = 0.38655848\n"
     ]
    },
    {
     "name": "stderr",
     "output_type": "stream",
     "text": [
      "/opt/anaconda3/lib/python3.9/site-packages/sklearn/neural_network/_multilayer_perceptron.py:702: ConvergenceWarning: Stochastic Optimizer: Maximum iterations (10) reached and the optimization hasn't converged yet.\n",
      "  warnings.warn(\n",
      "2022-12-04 18:13:39.358 | INFO     | __main__:<module>:16 - Prediction performance on training set: 0.7682794601790777\n",
      "2022-12-04 18:13:39.364 | INFO     | __main__:<module>:23 - Prediction performance on testing set: 0.7475950625824164\n"
     ]
    },
    {
     "name": "stdout",
     "output_type": "stream",
     "text": [
      "Iteration 8, loss = 0.38412858\n",
      "Iteration 9, loss = 0.37492232\n",
      "Iteration 10, loss = 0.38544356\n",
      "\n",
      "--------------------------------------------------------------\n",
      "The Best Neural Network is: \n",
      "Hidden layer sizes =  (10,) \n",
      "Activation = relu \n",
      "Solver = adam \n",
      "with Macro F1-score = 0.747595.\n",
      "--------------------------------------------------------------\n",
      "\n",
      "Iteration 1, loss = 0.55978025\n",
      "Iteration 2, loss = 0.41623505\n",
      "Iteration 3, loss = 0.39768601\n",
      "Iteration 4, loss = 0.39481900\n",
      "Iteration 5, loss = 0.39482411\n",
      "Iteration 6, loss = 0.38653498\n",
      "Iteration 7, loss = 0.38655848\n",
      "Iteration 8, loss = 0.38412858\n",
      "Iteration 9, loss = 0.37492232\n",
      "Iteration 10, loss = 0.38544356\n"
     ]
    },
    {
     "name": "stderr",
     "output_type": "stream",
     "text": [
      "/opt/anaconda3/lib/python3.9/site-packages/sklearn/neural_network/_multilayer_perceptron.py:702: ConvergenceWarning: Stochastic Optimizer: Maximum iterations (10) reached and the optimization hasn't converged yet.\n",
      "  warnings.warn(\n"
     ]
    }
   ],
   "source": [
    "result = {}\n",
    "for hls in [(1,),(2,),(3,),(4,),(5,),(6,),(7,),(8,),(9,),(10,)]:\n",
    "    for act in ['logistic', 'tanh', 'relu']:\n",
    "        for sol in ['lbfgs', 'sgd', 'adam']:\n",
    "            clear_output()\n",
    "            logger.info('hidden_layer_sizes = {}'.format(hls)) \n",
    "            logger.info('activation = {}'.format(act))\n",
    "            logger.info('solver = {}'.format(sol))\n",
    "            mlp = MLPClassifier(hidden_layer_sizes=hls, activation=act, max_iter=10, alpha=1e-4, solver=sol, \n",
    "                                verbose=1, random_state=1, learning_rate_init=.1)\n",
    "            # Fit the decision trees model on the training data.\n",
    "            mlp.fit(X_train, y_train)\n",
    "\n",
    "            # Predict on the training dataset.\n",
    "            y_predicted = mlp.predict(X_train)\n",
    "            logger.info('Prediction performance on training set: {}'.format(f1_score(y_train, y_predicted, average='macro')))\n",
    "\n",
    "            # Predict on the test data.\n",
    "            y_predicted = mlp.predict(X_test)\n",
    "\n",
    "            score = f1_score(y_test, y_predicted, average='macro')\n",
    "            result[(sol,act,hls)] = score\n",
    "            logger.info('Prediction performance on testing set: {}'.format(score))\n",
    "\n",
    "#accuracy_rank = dict(sorted(result.items(), key=lambda x: x[1], reverse=True))\n",
    "top = sorted(result.items(), key=lambda x: x[1], reverse=True)[0]\n",
    "print(\"\\n--------------------------------------------------------------\")\n",
    "print(\"The Best Neural Network is: \\nHidden layer sizes = \",top[0][2],\"\\nActivation = %s \\nSolver = %s \\nwith Macro F1-score = %f.\" % (top[0][1],top[0][0],top[1]))\n",
    "print(\"--------------------------------------------------------------\\n\")\n",
    "# Use best parameter train again\n",
    "mlp = MLPClassifier(hidden_layer_sizes=top[0][2], activation=top[0][1], max_iter=10, alpha=1e-4, \n",
    "                    solver=top[0][0], verbose=1, random_state=1, learning_rate_init=.1).fit(X_train, y_train);\n",
    "full_result['mlp'] = top[1]"
   ]
  },
  {
   "cell_type": "markdown",
   "id": "8619d5bd-304f-4682-9506-114397849f84",
   "metadata": {
    "tags": []
   },
   "source": [
    "### K-Nearest Neighbours (with neighbour=1)"
   ]
  },
  {
   "cell_type": "code",
   "execution_count": 34,
   "id": "d6b3b6a9-2fc9-4248-b0ef-b855d0f83658",
   "metadata": {},
   "outputs": [
    {
     "name": "stdout",
     "output_type": "stream",
     "text": [
      "Prediction performance on training set: 0.8869475704537719\n",
      "Prediction performance on testing set: 0.6910626967404624\n",
      "\n",
      "--------------------------------------------------------------\n",
      "The F1 score of KNN Classifier with n_neighbors=1 is 0.6910626967404624\n"
     ]
    }
   ],
   "source": [
    "knn = KNeighborsClassifier(n_neighbors=1) \n",
    "# Fit the KNN model on the credit risk training data\n",
    "knn.fit(X_train, y_train)\n",
    "\n",
    "# Predict on the training dataset\n",
    "y_predicted = knn.predict(X_train)\n",
    "print('Prediction performance on training set: {}'.format(f1_score(y_train, y_predicted, average='macro')))\n",
    "\n",
    "# Predict on the test data using the trained KNN mode\n",
    "y_predicted = knn.predict(X_test)\n",
    "\n",
    "score = f1_score(y_test, y_predicted, average='macro')\n",
    "print('Prediction performance on testing set: {}'.format(score))\n",
    "print(\"\\n--------------------------------------------------------------\")\n",
    "print(\"The F1 score of KNN Classifier with n_neighbors=1 is {}\".format(score))\n",
    "full_result['knn'] = score"
   ]
  },
  {
   "cell_type": "markdown",
   "id": "b6f155cd-932a-4376-a64a-aeeb40dd947b",
   "metadata": {
    "tags": []
   },
   "source": [
    "### Compare the different classifiers"
   ]
  },
  {
   "cell_type": "code",
   "execution_count": 35,
   "id": "6a1e081e-e3b0-4628-b41e-4960213ff64f",
   "metadata": {},
   "outputs": [
    {
     "data": {
      "image/png": "[encoded data removed]",
      "text/plain": [
       "<Figure size 1296x288 with 6 Axes>"
      ]
     },
     "metadata": {
      "needs_background": "light"
     },
     "output_type": "display_data"
    }
   ],
   "source": [
    "fig, ax = plt.subplots(1, 3, figsize=(18, 4))\n",
    "ConfusionMatrixDisplay.from_estimator(dtc, X_test, y_test, ax=ax[0])\\\n",
    "    .ax_.set_title(\"Decision Trees:\\nMax_depth=3, Min_leaf=1\\nMacro-avg F1 score = {:.3f}\".format(full_result['dtc']))\n",
    "ConfusionMatrixDisplay.from_estimator(mlp, X_test, y_test, ax=ax[1])\\\n",
    "    .ax_.set_title(\"Neural Network :\\nhidden_layer_sizes=(10,)\\nactivation=\\'relu\\', solver=\\'adam\\'\\nMacro-avg F1 score = {:.3f}\".format(full_result['mlp']))\n",
    "ConfusionMatrixDisplay.from_estimator(knn, X_test, y_test, ax=ax[2])\\\n",
    "    .ax_.set_title(\"K-Nearest Neighbours :\\nn_neighbors=1\\nMacro-avg F1 score = {:.3f}\".format(full_result['knn']))\n",
    "clear_output()\n",
    "plt.show();"
   ]
  },
  {
   "cell_type": "markdown",
   "id": "f00a2f41-51ed-472b-bb18-a9337c055e9a",
   "metadata": {},
   "source": [
    "<br/>**Insight**\n",
    "\n",
    "From the results above we can see that Neural network with hidden_layer_sizes=(10,) is the best classifier (0.748) followed by decision tree with 0.708. The worst is KNN (n_neighbors=1) which have 0.691 macro-averaged F1 score. All basic classifiers above are better than random. What surprised me most was that Neural network has excellent performance and it comes first in most cases in this comparison."
   ]
  },
  {
   "cell_type": "markdown",
   "id": "0a586158-1805-4fd5-9877-95c2526369c0",
   "metadata": {
    "jp-MarkdownHeadingCollapsed": true,
    "tags": []
   },
   "source": [
    "## **Question 1c** \n",
    "**Apply ensembles with bagging using the three classifiers from Task (b). Investigate the performance of each of these classifiers as the ensemble size increases (e.g., in steps of 2 from 2 to 20 members). Using the best performing ensemble size, investigate how changing the number of instances in the bootstrap samples affects classification performance. [10 marks]**"
   ]
  },
  {
   "cell_type": "markdown",
   "id": "c4cd796f-30b2-48ea-9438-378e9b92ece8",
   "metadata": {
    "jp-MarkdownHeadingCollapsed": true,
    "tags": []
   },
   "source": [
    "### Decision Tree"
   ]
  },
  {
   "cell_type": "code",
   "execution_count": 36,
   "id": "113e1bee-4958-464b-983e-80d3cbc80272",
   "metadata": {},
   "outputs": [
    {
     "name": "stderr",
     "output_type": "stream",
     "text": [
      "2022-12-04 18:13:40.912 | INFO     | __main__:best_ensemble_size:9 - n_estimators=20\n",
      "2022-12-04 18:13:40.913 | INFO     | __main__:best_ensemble_size:10 - Average F1-score for DecisionTreeClassifier_bag is 0.71674\n"
     ]
    },
    {
     "name": "stdout",
     "output_type": "stream",
     "text": [
      "[Decision Tree] The Best ensemble size is 8 with macro-averaged f1-score 0.73763\n"
     ]
    }
   ],
   "source": [
    "def best_ensemble_size(classifier, ensemble_size, X_train, X_test, y_train, y_test):\n",
    "    result = {}\n",
    "    for e_size in ensemble_size:\n",
    "        bag = BaggingClassifier(classifier, n_estimators = e_size, bootstrap = True, random_state=1)\n",
    "        bag.fit(X_train, y_train)\n",
    "        pred = bag.predict(X_test)\n",
    "        scores_bag = f1_score(y_test, pred, average='macro')\n",
    "        clear_output()\n",
    "        logger.info(\"n_estimators={}\".format(e_size))\n",
    "        logger.info(\"Average F1-score for {} is {:.5f}\".format(classifier.__class__.__name__+'_bag',scores_bag))\n",
    "        result[e_size] = scores_bag\n",
    "\n",
    "    # Accuracy rank\n",
    "    return sorted(result.items(), key=lambda x: x[1], reverse=True)[0]\n",
    "\n",
    "ensemble_size = range(2, 21, 2)\n",
    "result = best_ensemble_size(dtc, ensemble_size, X_train, X_test, y_train, y_test)\n",
    "print(\"[Decision Tree] The Best ensemble size is {} with macro-averaged f1-score {:.5f}\".format(result[0],result[1]))"
   ]
  },
  {
   "cell_type": "code",
   "execution_count": 37,
   "id": "b1548a5d-46f7-46ab-81bd-daed7abdf117",
   "metadata": {},
   "outputs": [
    {
     "name": "stderr",
     "output_type": "stream",
     "text": [
      "2022-12-04 18:13:41.065 | INFO     | __main__:best_num_instances:10 - max_samples=1.0\n",
      "2022-12-04 18:13:41.065 | INFO     | __main__:best_num_instances:11 - Average F1-score for DecisionTreeClassifier_bag is 0.73763\n"
     ]
    },
    {
     "name": "stdout",
     "output_type": "stream",
     "text": [
      "[Decision Tree] The Best max_samples is 1.0 with ensemble_size=8 and macro-averaged f1-score 0.73763\n"
     ]
    }
   ],
   "source": [
    "def best_num_instances(classifier, ensemble_size, num_instances, X_train, X_test, y_train, y_test):\n",
    "    result = {}\n",
    "    for instance in num_instances:\n",
    "        bag = BaggingClassifier(classifier, n_estimators = ensemble_size, max_samples = instance, \n",
    "                                bootstrap = True, random_state=1)\n",
    "        bag.fit(X_train, y_train)\n",
    "        pred = bag.predict(X_test)\n",
    "        scores_bag = f1_score(y_test, pred, average='macro')\n",
    "        clear_output()\n",
    "        logger.info(\"max_samples={}\".format(instance))\n",
    "        logger.info(\"Average F1-score for {} is {:.5f}\".format(classifier.__class__.__name__+'_bag',scores_bag))\n",
    "        result[instance] = scores_bag\n",
    "    \n",
    "    # Accuracy rank, Bag estimators num, Best bag\n",
    "    rank = sorted(result.items(), key=lambda x: x[1], reverse=True)[0]\n",
    "    best_bag = BaggingClassifier(classifier, n_estimators = ensemble_size, max_samples = rank[0], \n",
    "                                bootstrap = True, random_state=1).fit(X_train, y_train)\n",
    "    return (rank, bag.n_estimators, best_bag);\n",
    "\n",
    "num_instances = [0.25, 0.5, 0.75, 1.0]\n",
    "rank, num, best_dtcBag = best_num_instances(dtc, 8, num_instances, X_train, X_test, y_train, y_test)\n",
    "full_result['dtc_bag'] = rank[1]\n",
    "print(\"[Decision Tree] The Best max_samples is {} with ensemble_size={} and macro-averaged f1-score {:.5f}\".format(rank[0], num, rank[1]))"
   ]
  },
  {
   "cell_type": "markdown",
   "id": "76c35ee5-49cb-42d1-ba25-91a6d3eda859",
   "metadata": {
    "jp-MarkdownHeadingCollapsed": true,
    "tags": []
   },
   "source": [
    "### Neural Network"
   ]
  },
  {
   "cell_type": "code",
   "execution_count": 38,
   "id": "eec7c609-a9d2-45d4-9f25-3a5608b13441",
   "metadata": {},
   "outputs": [
    {
     "name": "stderr",
     "output_type": "stream",
     "text": [
      "2022-12-04 18:13:53.782 | INFO     | __main__:best_ensemble_size:9 - n_estimators=20\n",
      "2022-12-04 18:13:53.783 | INFO     | __main__:best_ensemble_size:10 - Average F1-score for MLPClassifier_bag is 0.72645\n"
     ]
    },
    {
     "name": "stdout",
     "output_type": "stream",
     "text": [
      "[Neural Network] The Best ensemble size is 20 with macro-average f1-score 0.72645\n"
     ]
    }
   ],
   "source": [
    "ensemble_size = range(2, 21, 2)\n",
    "result = best_ensemble_size(mlp, ensemble_size, X_train, X_test, y_train, y_test)\n",
    "print(\"[Neural Network] The Best ensemble size is {} with macro-average f1-score {:.5f}\".format(result[0],result[1]))"
   ]
  },
  {
   "cell_type": "code",
   "execution_count": 39,
   "id": "0c0a9562-5147-4b64-90ac-1db91b3e2bab",
   "metadata": {
    "tags": []
   },
   "outputs": [
    {
     "name": "stderr",
     "output_type": "stream",
     "text": [
      "2022-12-04 18:13:59.784 | INFO     | __main__:best_num_instances:10 - max_samples=1.0\n",
      "2022-12-04 18:13:59.785 | INFO     | __main__:best_num_instances:11 - Average F1-score for MLPClassifier_bag is 0.72645\n"
     ]
    },
    {
     "name": "stdout",
     "output_type": "stream",
     "text": [
      "Iteration 1, loss = 0.75349977\n",
      "Iteration 2, loss = 0.46182943\n",
      "Iteration 3, loss = 0.44811896\n",
      "Iteration 4, loss = 0.44144187\n",
      "Iteration 5, loss = 0.44328468\n",
      "Iteration 6, loss = 0.43671772\n",
      "Iteration 7, loss = 0.43383538\n",
      "Iteration 8, loss = 0.41585343\n",
      "Iteration 9, loss = 0.40904204\n",
      "Iteration 10, loss = 0.40725553\n"
     ]
    },
    {
     "name": "stderr",
     "output_type": "stream",
     "text": [
      "/opt/anaconda3/lib/python3.9/site-packages/sklearn/neural_network/_multilayer_perceptron.py:702: ConvergenceWarning: Stochastic Optimizer: Maximum iterations (10) reached and the optimization hasn't converged yet.\n",
      "  warnings.warn(\n"
     ]
    },
    {
     "name": "stdout",
     "output_type": "stream",
     "text": [
      "Iteration 1, loss = 0.50156378\n",
      "Iteration 2, loss = 0.46633360\n",
      "Iteration 3, loss = 0.44816615\n",
      "Iteration 4, loss = 0.44617943\n",
      "Iteration 5, loss = 0.44426788\n",
      "Iteration 6, loss = 0.44783014\n",
      "Iteration 7, loss = 0.44588426\n",
      "Iteration 8, loss = 0.45518311\n",
      "Iteration 9, loss = 0.44372021\n",
      "Iteration 10, loss = 0.44583342\n",
      "Iteration 1, loss = 0.51348744\n",
      "Iteration 2, loss = 0.40951304\n",
      "Iteration 3, loss = 0.38370577\n"
     ]
    },
    {
     "name": "stderr",
     "output_type": "stream",
     "text": [
      "/opt/anaconda3/lib/python3.9/site-packages/sklearn/neural_network/_multilayer_perceptron.py:702: ConvergenceWarning: Stochastic Optimizer: Maximum iterations (10) reached and the optimization hasn't converged yet.\n",
      "  warnings.warn(\n"
     ]
    },
    {
     "name": "stdout",
     "output_type": "stream",
     "text": [
      "Iteration 4, loss = 0.37641532\n",
      "Iteration 5, loss = 0.38839540\n",
      "Iteration 6, loss = 0.37263547\n",
      "Iteration 7, loss = 0.37441281\n",
      "Iteration 8, loss = 0.39423484\n",
      "Iteration 9, loss = 0.37670495\n",
      "Iteration 10, loss = 0.37625947\n",
      "Iteration 1, loss = 0.68445307\n",
      "Iteration 2, loss = 0.45396246\n",
      "Iteration 3, loss = 0.44778420\n",
      "Iteration 4, loss = 0.43673049\n",
      "Iteration 5, loss = 0.43059203\n",
      "Iteration 6, loss = 0.42903671\n",
      "Iteration 7, loss = 0.42936225\n",
      "Iteration 8, loss = 0.43092051\n"
     ]
    },
    {
     "name": "stderr",
     "output_type": "stream",
     "text": [
      "/opt/anaconda3/lib/python3.9/site-packages/sklearn/neural_network/_multilayer_perceptron.py:702: ConvergenceWarning: Stochastic Optimizer: Maximum iterations (10) reached and the optimization hasn't converged yet.\n",
      "  warnings.warn(\n"
     ]
    },
    {
     "name": "stdout",
     "output_type": "stream",
     "text": [
      "Iteration 9, loss = 0.43476918\n",
      "Iteration 10, loss = 0.43151774\n",
      "Iteration 1, loss = 0.73461169\n",
      "Iteration 2, loss = 0.43414060\n",
      "Iteration 3, loss = 0.41497982\n",
      "Iteration 4, loss = 0.41009178\n",
      "Iteration 5, loss = 0.38968110\n",
      "Iteration 6, loss = 0.40184694\n",
      "Iteration 7, loss = 0.39627377\n",
      "Iteration 8, loss = 0.38923995\n"
     ]
    },
    {
     "name": "stderr",
     "output_type": "stream",
     "text": [
      "/opt/anaconda3/lib/python3.9/site-packages/sklearn/neural_network/_multilayer_perceptron.py:702: ConvergenceWarning: Stochastic Optimizer: Maximum iterations (10) reached and the optimization hasn't converged yet.\n",
      "  warnings.warn(\n"
     ]
    },
    {
     "name": "stdout",
     "output_type": "stream",
     "text": [
      "Iteration 9, loss = 0.39698993\n",
      "Iteration 10, loss = 0.38739295\n",
      "Iteration 1, loss = 0.77749049\n",
      "Iteration 2, loss = 0.47812036\n",
      "Iteration 3, loss = 0.44125150\n",
      "Iteration 4, loss = 0.42313899\n",
      "Iteration 5, loss = 0.40600033\n",
      "Iteration 6, loss = 0.39588750\n",
      "Iteration 7, loss = 0.39483248\n"
     ]
    },
    {
     "name": "stderr",
     "output_type": "stream",
     "text": [
      "/opt/anaconda3/lib/python3.9/site-packages/sklearn/neural_network/_multilayer_perceptron.py:702: ConvergenceWarning: Stochastic Optimizer: Maximum iterations (10) reached and the optimization hasn't converged yet.\n",
      "  warnings.warn(\n"
     ]
    },
    {
     "name": "stdout",
     "output_type": "stream",
     "text": [
      "Iteration 8, loss = 0.39595513\n",
      "Iteration 9, loss = 0.39306215\n",
      "Iteration 10, loss = 0.38542270\n",
      "Iteration 1, loss = 0.70843331\n",
      "Iteration 2, loss = 0.47479887\n",
      "Iteration 3, loss = 0.45109248\n",
      "Iteration 4, loss = 0.44639617\n",
      "Iteration 5, loss = 0.44766065\n",
      "Iteration 6, loss = 0.44180626\n",
      "Iteration 7, loss = 0.44038519\n"
     ]
    },
    {
     "name": "stderr",
     "output_type": "stream",
     "text": [
      "/opt/anaconda3/lib/python3.9/site-packages/sklearn/neural_network/_multilayer_perceptron.py:702: ConvergenceWarning: Stochastic Optimizer: Maximum iterations (10) reached and the optimization hasn't converged yet.\n",
      "  warnings.warn(\n"
     ]
    },
    {
     "name": "stdout",
     "output_type": "stream",
     "text": [
      "Iteration 8, loss = 0.43503477\n",
      "Iteration 9, loss = 0.43758439\n",
      "Iteration 10, loss = 0.44758426\n",
      "Iteration 1, loss = 0.50986944\n",
      "Iteration 2, loss = 0.44299217\n",
      "Iteration 3, loss = 0.41312230\n",
      "Iteration 4, loss = 0.40515456\n",
      "Iteration 5, loss = 0.39430323\n"
     ]
    },
    {
     "name": "stderr",
     "output_type": "stream",
     "text": [
      "/opt/anaconda3/lib/python3.9/site-packages/sklearn/neural_network/_multilayer_perceptron.py:702: ConvergenceWarning: Stochastic Optimizer: Maximum iterations (10) reached and the optimization hasn't converged yet.\n",
      "  warnings.warn(\n"
     ]
    },
    {
     "name": "stdout",
     "output_type": "stream",
     "text": [
      "Iteration 6, loss = 0.38900550\n",
      "Iteration 7, loss = 0.38469052\n",
      "Iteration 8, loss = 0.37939163\n",
      "Iteration 9, loss = 0.38536339\n",
      "Iteration 10, loss = 0.37877177\n",
      "Iteration 1, loss = 0.50298637\n",
      "Iteration 2, loss = 0.42720658\n",
      "Iteration 3, loss = 0.41235456\n",
      "Iteration 4, loss = 0.40208622\n",
      "Iteration 5, loss = 0.39832458\n",
      "Iteration 6, loss = 0.39030848\n"
     ]
    },
    {
     "name": "stderr",
     "output_type": "stream",
     "text": [
      "/opt/anaconda3/lib/python3.9/site-packages/sklearn/neural_network/_multilayer_perceptron.py:702: ConvergenceWarning: Stochastic Optimizer: Maximum iterations (10) reached and the optimization hasn't converged yet.\n",
      "  warnings.warn(\n"
     ]
    },
    {
     "name": "stdout",
     "output_type": "stream",
     "text": [
      "Iteration 7, loss = 0.38549170\n",
      "Iteration 8, loss = 0.38806234\n",
      "Iteration 9, loss = 0.38902829\n",
      "Iteration 10, loss = 0.37559995\n",
      "Iteration 1, loss = 0.93947044\n",
      "Iteration 2, loss = 0.50445498\n",
      "Iteration 3, loss = 0.46293679\n"
     ]
    },
    {
     "name": "stderr",
     "output_type": "stream",
     "text": [
      "/opt/anaconda3/lib/python3.9/site-packages/sklearn/neural_network/_multilayer_perceptron.py:702: ConvergenceWarning: Stochastic Optimizer: Maximum iterations (10) reached and the optimization hasn't converged yet.\n",
      "  warnings.warn(\n"
     ]
    },
    {
     "name": "stdout",
     "output_type": "stream",
     "text": [
      "Iteration 4, loss = 0.43590773\n",
      "Iteration 5, loss = 0.41951511\n",
      "Iteration 6, loss = 0.40697615\n",
      "Iteration 7, loss = 0.40276915\n",
      "Iteration 8, loss = 0.41238603\n",
      "Iteration 9, loss = 0.42007859\n",
      "Iteration 10, loss = 0.40424621\n",
      "Iteration 1, loss = 0.62793493\n",
      "Iteration 2, loss = 0.48091204\n",
      "Iteration 3, loss = 0.44732018\n",
      "Iteration 4, loss = 0.43240764\n",
      "Iteration 5, loss = 0.41719616\n"
     ]
    },
    {
     "name": "stderr",
     "output_type": "stream",
     "text": [
      "/opt/anaconda3/lib/python3.9/site-packages/sklearn/neural_network/_multilayer_perceptron.py:702: ConvergenceWarning: Stochastic Optimizer: Maximum iterations (10) reached and the optimization hasn't converged yet.\n",
      "  warnings.warn(\n"
     ]
    },
    {
     "name": "stdout",
     "output_type": "stream",
     "text": [
      "Iteration 6, loss = 0.41474900\n",
      "Iteration 7, loss = 0.39318440\n",
      "Iteration 8, loss = 0.39620178\n",
      "Iteration 9, loss = 0.38303256\n",
      "Iteration 10, loss = 0.37807120\n",
      "Iteration 1, loss = 0.59128005\n",
      "Iteration 2, loss = 0.44247762\n"
     ]
    },
    {
     "name": "stderr",
     "output_type": "stream",
     "text": [
      "/opt/anaconda3/lib/python3.9/site-packages/sklearn/neural_network/_multilayer_perceptron.py:702: ConvergenceWarning: Stochastic Optimizer: Maximum iterations (10) reached and the optimization hasn't converged yet.\n",
      "  warnings.warn(\n"
     ]
    },
    {
     "name": "stdout",
     "output_type": "stream",
     "text": [
      "Iteration 3, loss = 0.42647283\n",
      "Iteration 4, loss = 0.41028962\n",
      "Iteration 5, loss = 0.39255504\n",
      "Iteration 6, loss = 0.40237418\n",
      "Iteration 7, loss = 0.39867242\n",
      "Iteration 8, loss = 0.39397963\n",
      "Iteration 9, loss = 0.38766987\n",
      "Iteration 10, loss = 0.38440356\n",
      "Iteration 1, loss = 0.53348164\n",
      "Iteration 2, loss = 0.41520329\n",
      "Iteration 3, loss = 0.39365846\n",
      "Iteration 4, loss = 0.38455378\n"
     ]
    },
    {
     "name": "stderr",
     "output_type": "stream",
     "text": [
      "/opt/anaconda3/lib/python3.9/site-packages/sklearn/neural_network/_multilayer_perceptron.py:702: ConvergenceWarning: Stochastic Optimizer: Maximum iterations (10) reached and the optimization hasn't converged yet.\n",
      "  warnings.warn(\n"
     ]
    },
    {
     "name": "stdout",
     "output_type": "stream",
     "text": [
      "Iteration 5, loss = 0.37671038\n",
      "Iteration 6, loss = 0.36781533\n",
      "Iteration 7, loss = 0.38133300\n",
      "Iteration 8, loss = 0.37172500\n",
      "Iteration 9, loss = 0.36186601\n",
      "Iteration 10, loss = 0.37396873\n",
      "Iteration 1, loss = 0.74527126\n",
      "Iteration 2, loss = 0.46030138\n",
      "Iteration 3, loss = 0.42372035\n",
      "Iteration 4, loss = 0.42141106\n",
      "Iteration 5, loss = 0.42317198\n",
      "Iteration 6, loss = 0.42223117\n",
      "Iteration 7, loss = 0.40975502\n",
      "Iteration 8, loss = 0.40599665\n",
      "Iteration 9, loss = 0.39624366\n"
     ]
    },
    {
     "name": "stderr",
     "output_type": "stream",
     "text": [
      "/opt/anaconda3/lib/python3.9/site-packages/sklearn/neural_network/_multilayer_perceptron.py:702: ConvergenceWarning: Stochastic Optimizer: Maximum iterations (10) reached and the optimization hasn't converged yet.\n",
      "  warnings.warn(\n"
     ]
    },
    {
     "name": "stdout",
     "output_type": "stream",
     "text": [
      "Iteration 10, loss = 0.38923261\n",
      "Iteration 1, loss = 0.68015135\n",
      "Iteration 2, loss = 0.45364418\n",
      "Iteration 3, loss = 0.43799270\n",
      "Iteration 4, loss = 0.42325025\n"
     ]
    },
    {
     "name": "stderr",
     "output_type": "stream",
     "text": [
      "/opt/anaconda3/lib/python3.9/site-packages/sklearn/neural_network/_multilayer_perceptron.py:702: ConvergenceWarning: Stochastic Optimizer: Maximum iterations (10) reached and the optimization hasn't converged yet.\n",
      "  warnings.warn(\n"
     ]
    },
    {
     "name": "stdout",
     "output_type": "stream",
     "text": [
      "Iteration 5, loss = 0.40956400\n",
      "Iteration 6, loss = 0.40490500\n",
      "Iteration 7, loss = 0.40447079\n",
      "Iteration 8, loss = 0.39559718\n",
      "Iteration 9, loss = 0.38952513\n",
      "Iteration 10, loss = 0.39246873\n",
      "Iteration 1, loss = 0.63700583\n",
      "Iteration 2, loss = 0.44436337\n",
      "Iteration 3, loss = 0.43706729\n",
      "Iteration 4, loss = 0.43099760\n",
      "Iteration 5, loss = 0.43086130\n",
      "Iteration 6, loss = 0.40679178\n",
      "Iteration 7, loss = 0.39340033\n",
      "Iteration 8, loss = 0.38839781\n"
     ]
    },
    {
     "name": "stderr",
     "output_type": "stream",
     "text": [
      "/opt/anaconda3/lib/python3.9/site-packages/sklearn/neural_network/_multilayer_perceptron.py:702: ConvergenceWarning: Stochastic Optimizer: Maximum iterations (10) reached and the optimization hasn't converged yet.\n",
      "  warnings.warn(\n"
     ]
    },
    {
     "name": "stdout",
     "output_type": "stream",
     "text": [
      "Iteration 9, loss = 0.38789320\n",
      "Iteration 10, loss = 0.38677808\n",
      "Iteration 1, loss = 0.61224638\n",
      "Iteration 2, loss = 0.45104765\n",
      "Iteration 3, loss = 0.42949783\n"
     ]
    },
    {
     "name": "stderr",
     "output_type": "stream",
     "text": [
      "/opt/anaconda3/lib/python3.9/site-packages/sklearn/neural_network/_multilayer_perceptron.py:702: ConvergenceWarning: Stochastic Optimizer: Maximum iterations (10) reached and the optimization hasn't converged yet.\n",
      "  warnings.warn(\n"
     ]
    },
    {
     "name": "stdout",
     "output_type": "stream",
     "text": [
      "Iteration 4, loss = 0.41169191\n",
      "Iteration 5, loss = 0.40025564\n",
      "Iteration 6, loss = 0.39320819\n",
      "Iteration 7, loss = 0.40818733\n",
      "Iteration 8, loss = 0.39451730\n",
      "Iteration 9, loss = 0.38728852\n",
      "Iteration 10, loss = 0.38653529\n",
      "Iteration 1, loss = 0.47144118\n",
      "Iteration 2, loss = 0.42229295\n",
      "Iteration 3, loss = 0.40960197\n",
      "Iteration 4, loss = 0.40672871\n",
      "Iteration 5, loss = 0.38809278\n",
      "Iteration 6, loss = 0.40378674\n",
      "Iteration 7, loss = 0.40986581\n",
      "Iteration 8, loss = 0.39221143\n",
      "Iteration 9, loss = 0.38144855\n"
     ]
    },
    {
     "name": "stderr",
     "output_type": "stream",
     "text": [
      "/opt/anaconda3/lib/python3.9/site-packages/sklearn/neural_network/_multilayer_perceptron.py:702: ConvergenceWarning: Stochastic Optimizer: Maximum iterations (10) reached and the optimization hasn't converged yet.\n",
      "  warnings.warn(\n"
     ]
    },
    {
     "name": "stdout",
     "output_type": "stream",
     "text": [
      "Iteration 10, loss = 0.38074668\n",
      "Iteration 1, loss = 0.67231495\n",
      "Iteration 2, loss = 0.47737563\n",
      "Iteration 3, loss = 0.44305801\n"
     ]
    },
    {
     "name": "stderr",
     "output_type": "stream",
     "text": [
      "/opt/anaconda3/lib/python3.9/site-packages/sklearn/neural_network/_multilayer_perceptron.py:702: ConvergenceWarning: Stochastic Optimizer: Maximum iterations (10) reached and the optimization hasn't converged yet.\n",
      "  warnings.warn(\n"
     ]
    },
    {
     "name": "stdout",
     "output_type": "stream",
     "text": [
      "Iteration 4, loss = 0.43486566\n",
      "Iteration 5, loss = 0.41538732\n",
      "Iteration 6, loss = 0.41358608\n",
      "Iteration 7, loss = 0.40816248\n",
      "Iteration 8, loss = 0.40563488\n",
      "Iteration 9, loss = 0.40789903\n",
      "Iteration 10, loss = 0.40247198\n",
      "Iteration 1, loss = 0.78721685\n",
      "Iteration 2, loss = 0.48324866\n",
      "Iteration 3, loss = 0.45789607\n",
      "Iteration 4, loss = 0.45507912\n",
      "Iteration 5, loss = 0.44098876\n",
      "Iteration 6, loss = 0.43238155\n",
      "Iteration 7, loss = 0.43322961\n",
      "Iteration 8, loss = 0.44363100\n",
      "Iteration 9, loss = 0.43304644\n"
     ]
    },
    {
     "name": "stderr",
     "output_type": "stream",
     "text": [
      "/opt/anaconda3/lib/python3.9/site-packages/sklearn/neural_network/_multilayer_perceptron.py:702: ConvergenceWarning: Stochastic Optimizer: Maximum iterations (10) reached and the optimization hasn't converged yet.\n",
      "  warnings.warn(\n"
     ]
    },
    {
     "name": "stdout",
     "output_type": "stream",
     "text": [
      "Iteration 10, loss = 0.41336728\n",
      "[Neural Network] The Best number of instance is 1.0 with ensemble_size=20 and macro-average f1-score 0.72645\n"
     ]
    },
    {
     "name": "stderr",
     "output_type": "stream",
     "text": [
      "/opt/anaconda3/lib/python3.9/site-packages/sklearn/neural_network/_multilayer_perceptron.py:702: ConvergenceWarning: Stochastic Optimizer: Maximum iterations (10) reached and the optimization hasn't converged yet.\n",
      "  warnings.warn(\n"
     ]
    }
   ],
   "source": [
    "num_instances = [0.25, 0.5, 0.75, 1.0]\n",
    "rank, num, best_mlpBag = best_num_instances(mlp, 20, num_instances, X_train, X_test, y_train, y_test)\n",
    "full_result['mlp_bag'] = rank[1]\n",
    "print(\"[Neural Network] The Best number of instance is {} with ensemble_size={} and macro-average f1-score {:.5f}\".format(rank[0], num, rank[1]))"
   ]
  },
  {
   "cell_type": "markdown",
   "id": "efa2eb63-5909-4312-b28c-cc41554772bb",
   "metadata": {
    "jp-MarkdownHeadingCollapsed": true,
    "tags": []
   },
   "source": [
    "### K-Nearest Neighbours"
   ]
  },
  {
   "cell_type": "code",
   "execution_count": 40,
   "id": "8993706e-cb9e-4495-91c1-7d2d15e97b3b",
   "metadata": {},
   "outputs": [
    {
     "name": "stderr",
     "output_type": "stream",
     "text": [
      "2022-12-04 18:14:07.331 | INFO     | __main__:best_ensemble_size:9 - n_estimators=20\n",
      "2022-12-04 18:14:07.331 | INFO     | __main__:best_ensemble_size:10 - Average F1-score for KNeighborsClassifier_bag is 0.73918\n"
     ]
    },
    {
     "name": "stdout",
     "output_type": "stream",
     "text": [
      "[K-Nearest Neighbours] The Best ensemble size is 14 with macro-averaged f1-score 0.73944\n"
     ]
    }
   ],
   "source": [
    "ensemble_size = range(2, 21, 2)\n",
    "result = best_ensemble_size(knn, ensemble_size, X_train, X_test, y_train, y_test)\n",
    "print(\"[K-Nearest Neighbours] The Best ensemble size is {} with macro-averaged f1-score {:.5f}\".format(result[0],result[1]))"
   ]
  },
  {
   "cell_type": "code",
   "execution_count": 41,
   "id": "0767a4cd-959f-46dd-a63d-aec572f0850f",
   "metadata": {},
   "outputs": [
    {
     "name": "stderr",
     "output_type": "stream",
     "text": [
      "2022-12-04 18:14:09.461 | INFO     | __main__:best_num_instances:10 - max_samples=1.0\n",
      "2022-12-04 18:14:09.462 | INFO     | __main__:best_num_instances:11 - Average F1-score for KNeighborsClassifier_bag is 0.73944\n"
     ]
    },
    {
     "name": "stdout",
     "output_type": "stream",
     "text": [
      "[K-Nearest Neighbours] The Best number of instance is 1.0 with ensemble_size=14 and macro-averaged f1-score 0.73944\n"
     ]
    }
   ],
   "source": [
    "num_instances = [0.25, 0.5, 0.75, 1.0]\n",
    "rank, num, best_knnBag = best_num_instances(knn, 14, num_instances, X_train, X_test, y_train, y_test)\n",
    "full_result['knn_bag'] = rank[1]\n",
    "print(\"[K-Nearest Neighbours] The Best number of instance is {} with ensemble_size={} and macro-averaged f1-score {:.5f}\".format(rank[0], num, rank[1]))"
   ]
  },
  {
   "cell_type": "markdown",
   "id": "9da967ab-59a9-41a7-b907-c632b4610375",
   "metadata": {
    "tags": []
   },
   "source": [
    "### Compare the different classifiers"
   ]
  },
  {
   "cell_type": "code",
   "execution_count": 42,
   "id": "e8d3d194-0ab8-4a21-9d05-35b0a7fc0972",
   "metadata": {
    "tags": []
   },
   "outputs": [
    {
     "data": {
      "image/png": "[encoded data removed]",
      "text/plain": [
       "<Figure size 1296x288 with 6 Axes>"
      ]
     },
     "metadata": {
      "needs_background": "light"
     },
     "output_type": "display_data"
    }
   ],
   "source": [
    "fig, ax = plt.subplots(1, 3, figsize=(18, 4))\n",
    "ConfusionMatrixDisplay.from_estimator(best_dtcBag, X_test, y_test, ax=ax[0])\\\n",
    "    .ax_.set_title(\"Decision Trees ensembles:\\nMax_depth=3, Min_leaf=1\\nn_estimators={}\\nnum_instances={}\\nMacro-avg F1 score = {:.3f}\"\n",
    "                   .format(best_dtcBag.n_estimators, best_dtcBag.max_samples, full_result['dtc_bag']))\n",
    "ConfusionMatrixDisplay.from_estimator(best_mlpBag, X_test, y_test, ax=ax[1])\\\n",
    "    .ax_.set_title(\"Neural Network ensembles:\\nhidden_layer_sizes=(10,)\\nactivation=\\'relu\\' solver=\\'adam\\'\\nn_estimators={}\\nnum_instances={}\\nMacro-avg F1 score = {:.3f}\"\n",
    "                   .format(best_mlpBag.n_estimators, best_mlpBag.max_samples, full_result['mlp_bag']))\n",
    "ConfusionMatrixDisplay.from_estimator(best_knnBag, X_test, y_test, ax=ax[2])\\\n",
    "    .ax_.set_title(\"K-Nearest Neighbours ensembles:\\nKNN(n_neighbors=1)\\nn_estimators={}\\nnum_instances={}\\nMacro-avg F1 score = {:.3f}\"\n",
    "                   .format(best_knnBag.n_estimators, best_knnBag.max_samples, full_result['knn_bag']))\n",
    "clear_output()\n",
    "plt.show();"
   ]
  },
  {
   "cell_type": "markdown",
   "id": "991c9986-dea7-48d9-8aba-89f6410f5f5c",
   "metadata": {},
   "source": [
    "<br/>**Insight**\n",
    "\n",
    "Ensembling these three classifiers and using the bagging method we were surprised to find that they performed completely differently from their previous independent performance. From above we can see that KNN become the best classifier with 0.739 score followed by decision tree with 0.738. The neural network have lowest score which is 0.726. It seems that neural networks are not suitable for ensembling in this case."
   ]
  },
  {
   "cell_type": "markdown",
   "id": "0d8a18a7-18d8-4356-8552-b3c3ebe75b13",
   "metadata": {
    "jp-MarkdownHeadingCollapsed": true,
    "tags": []
   },
   "source": [
    "## **Question 1d** \n",
    "**Apply ensembles with random subspacing using the three classifiers from Task (b). Investigate the performance of each of these classifiers as the ensemble size increases (e.g., in steps of 2 from 2 to 20 members). Using the best performing ensemble size, investigate how changing the number of features used when applying random subspacing affects classification performance. [10 marks]**"
   ]
  },
  {
   "cell_type": "markdown",
   "id": "517aa1a4-6416-4508-9407-6db30d622082",
   "metadata": {
    "jp-MarkdownHeadingCollapsed": true,
    "tags": []
   },
   "source": [
    "### Decision Tree"
   ]
  },
  {
   "cell_type": "code",
   "execution_count": 43,
   "id": "90a1389c-a395-41c2-9efd-9decccd149b0",
   "metadata": {},
   "outputs": [
    {
     "name": "stderr",
     "output_type": "stream",
     "text": [
      "2022-12-04 18:14:11.048 | INFO     | __main__:best_ensemble_size_randomSub:9 - n_estimators=20\n",
      "2022-12-04 18:14:11.048 | INFO     | __main__:best_ensemble_size_randomSub:10 - Average F1-score for DecisionTreeClassifier_bag is 0.63358\n"
     ]
    },
    {
     "name": "stdout",
     "output_type": "stream",
     "text": [
      "[Decision Tree] The Best ensemble size with random subspacing is 2 with macro-averaged f1-score 0.66364\n"
     ]
    }
   ],
   "source": [
    "def best_ensemble_size_randomSub(classifier, ensemble_size, X_train, X_test, y_train, y_test):\n",
    "    result = {}\n",
    "    for e_size in ensemble_size:\n",
    "        bag = BaggingClassifier(classifier, n_estimators = e_size, max_features=0.5, bootstrap = True, random_state=1)\n",
    "        bag.fit(X_train, y_train)\n",
    "        pred = bag.predict(X_test)\n",
    "        scores_bag = f1_score(y_test, pred, average='macro')\n",
    "        clear_output()\n",
    "        logger.info(\"n_estimators={}\".format(e_size))\n",
    "        logger.info(\"Average F1-score for {} is {:.5f}\".format(classifier.__class__.__name__+'_bag',scores_bag))\n",
    "        result[e_size] = scores_bag\n",
    "\n",
    "    return sorted(result.items(), key=lambda x: x[1], reverse=True)[0]\n",
    "\n",
    "ensemble_size = range(2, 21, 2)\n",
    "result = best_ensemble_size_randomSub(dtc, ensemble_size, X_train, X_test, y_train, y_test)\n",
    "print(\"[Decision Tree] The Best ensemble size with random subspacing is {} with macro-averaged f1-score {:.5f}\".format(result[0],result[1]))"
   ]
  },
  {
   "cell_type": "code",
   "execution_count": 44,
   "id": "6dabd7db-2603-401f-abe8-63e3e875a695",
   "metadata": {},
   "outputs": [
    {
     "name": "stderr",
     "output_type": "stream",
     "text": [
      "2022-12-04 18:14:11.122 | INFO     | __main__:best_num_features_randomSub:10 - max_features=1.0\n",
      "2022-12-04 18:14:11.122 | INFO     | __main__:best_num_features_randomSub:11 - Average F1-score for DecisionTreeClassifier_bag is 0.72776\n"
     ]
    },
    {
     "name": "stdout",
     "output_type": "stream",
     "text": [
      "[Decision Tree] The Best max_features is 1.0 with ensemble_size=2 and macro-averaged f1-score 0.72776\n"
     ]
    }
   ],
   "source": [
    "def best_num_features_randomSub(classifier, ensemble_size, num_features, X_train, X_test, y_train, y_test):\n",
    "    result = {}\n",
    "    for feature in num_features:\n",
    "        bag = BaggingClassifier(classifier, n_estimators = ensemble_size, max_features = feature, \n",
    "                                bootstrap = True, random_state=1)\n",
    "        bag.fit(X_train, y_train)\n",
    "        pred = bag.predict(X_test)\n",
    "        scores_bag = f1_score(y_test, pred, average='macro')\n",
    "        clear_output()\n",
    "        logger.info(\"max_features={}\".format(feature))\n",
    "        logger.info(\"Average F1-score for {} is {:.5f}\".format(classifier.__class__.__name__+'_bag',scores_bag))\n",
    "        result[feature] = scores_bag\n",
    "    \n",
    "    # Accuracy rank, Bag estimators num, Best bag\n",
    "    rank = sorted(result.items(), key=lambda x: x[1], reverse=True)[0]\n",
    "    best_bag = BaggingClassifier(classifier, n_estimators = ensemble_size, max_features = rank[0], \n",
    "                                bootstrap = True, random_state=1).fit(X_train, y_train)\n",
    "    return (rank, bag.n_estimators, best_bag);\n",
    "\n",
    "num_features = [0.25, 0.5, 0.75, 1.0]\n",
    "rank, num, best_dtcBag_randomSub = best_num_features_randomSub(dtc, 2, num_features, X_train, X_test, y_train, y_test)\n",
    "full_result['dtc_bag_randomSub'] = rank[1]\n",
    "print(\"[Decision Tree] The Best max_features is {} with ensemble_size={} and macro-averaged f1-score {:.5f}\".format(rank[0], num, rank[1]))"
   ]
  },
  {
   "cell_type": "markdown",
   "id": "11e9ef6c-ab4e-432f-a270-c9e9e07c5c4a",
   "metadata": {
    "jp-MarkdownHeadingCollapsed": true,
    "tags": []
   },
   "source": [
    "### Neural Network"
   ]
  },
  {
   "cell_type": "code",
   "execution_count": 45,
   "id": "b8d5d44b-6cf9-4b3d-be43-fea742b7c059",
   "metadata": {},
   "outputs": [
    {
     "name": "stderr",
     "output_type": "stream",
     "text": [
      "2022-12-04 18:14:23.527 | INFO     | __main__:best_ensemble_size_randomSub:9 - n_estimators=20\n",
      "2022-12-04 18:14:23.528 | INFO     | __main__:best_ensemble_size_randomSub:10 - Average F1-score for MLPClassifier_bag is 0.61384\n"
     ]
    },
    {
     "name": "stdout",
     "output_type": "stream",
     "text": [
      "[Neural Network] The Best ensemble size with random subspacing is 2 with macro-averaged f1-score 0.61615\n"
     ]
    }
   ],
   "source": [
    "result = best_ensemble_size_randomSub(mlp, ensemble_size, X_train, X_test, y_train, y_test)\n",
    "print(\"[Neural Network] The Best ensemble size with random subspacing is {} with macro-averaged f1-score {:.5f}\".format(result[0],result[1]))"
   ]
  },
  {
   "cell_type": "code",
   "execution_count": 46,
   "id": "e8f07bd9-55c3-464c-891d-59b493f8c9fb",
   "metadata": {},
   "outputs": [
    {
     "name": "stderr",
     "output_type": "stream",
     "text": [
      "2022-12-04 18:14:24.388 | INFO     | __main__:best_num_features_randomSub:10 - max_features=1.0\n",
      "2022-12-04 18:14:24.388 | INFO     | __main__:best_num_features_randomSub:11 - Average F1-score for MLPClassifier_bag is 0.71026\n"
     ]
    },
    {
     "name": "stdout",
     "output_type": "stream",
     "text": [
      "Iteration 1, loss = 0.55933436\n",
      "Iteration 2, loss = 0.46266404\n",
      "Iteration 3, loss = 0.43321673\n",
      "Iteration 4, loss = 0.43040206\n",
      "Iteration 5, loss = 0.43500733\n",
      "Iteration 6, loss = 0.42675583\n",
      "Iteration 7, loss = 0.43075720\n",
      "Iteration 8, loss = 0.41781021\n",
      "Iteration 9, loss = 0.42176036\n",
      "Iteration 10, loss = 0.41856652\n",
      "Iteration 1, loss = 0.58673208\n",
      "Iteration 2, loss = 0.44488617\n",
      "Iteration 3, loss = 0.43476882\n",
      "Iteration 4, loss = 0.41119493\n",
      "Iteration 5, loss = 0.39898695\n",
      "Iteration 6, loss = 0.39761263\n"
     ]
    },
    {
     "name": "stderr",
     "output_type": "stream",
     "text": [
      "/opt/anaconda3/lib/python3.9/site-packages/sklearn/neural_network/_multilayer_perceptron.py:702: ConvergenceWarning: Stochastic Optimizer: Maximum iterations (10) reached and the optimization hasn't converged yet.\n",
      "  warnings.warn(\n"
     ]
    },
    {
     "name": "stdout",
     "output_type": "stream",
     "text": [
      "Iteration 7, loss = 0.39360869\n",
      "Iteration 8, loss = 0.40815626\n",
      "Iteration 9, loss = 0.39575967\n",
      "Iteration 10, loss = 0.38783436\n",
      "[Neural Network] The Best max_features is 0.75 with ensemble_size=2 and macro-averaged f1-score 0.73903\n"
     ]
    },
    {
     "name": "stderr",
     "output_type": "stream",
     "text": [
      "/opt/anaconda3/lib/python3.9/site-packages/sklearn/neural_network/_multilayer_perceptron.py:702: ConvergenceWarning: Stochastic Optimizer: Maximum iterations (10) reached and the optimization hasn't converged yet.\n",
      "  warnings.warn(\n"
     ]
    }
   ],
   "source": [
    "rank, num, best_mlpBag_randomSub = best_num_features_randomSub(mlp, 2, num_features, X_train, X_test, y_train, y_test)\n",
    "full_result['mlp_bag_randomSub'] = rank[1]\n",
    "print(\"[Neural Network] The Best max_features is {} with ensemble_size={} and macro-averaged f1-score {:.5f}\".format(rank[0], num, rank[1]))"
   ]
  },
  {
   "cell_type": "markdown",
   "id": "9b4cf46a-22e2-4a67-bfca-aab412024bc5",
   "metadata": {
    "jp-MarkdownHeadingCollapsed": true,
    "tags": []
   },
   "source": [
    "### K-Nearest Neighbours"
   ]
  },
  {
   "cell_type": "code",
   "execution_count": 47,
   "id": "e7c83a96-6e20-4737-9a89-5aed33eed02e",
   "metadata": {},
   "outputs": [
    {
     "name": "stderr",
     "output_type": "stream",
     "text": [
      "2022-12-04 18:14:27.511 | INFO     | __main__:best_ensemble_size_randomSub:9 - n_estimators=20\n",
      "2022-12-04 18:14:27.512 | INFO     | __main__:best_ensemble_size_randomSub:10 - Average F1-score for KNeighborsClassifier_bag is 0.69147\n"
     ]
    },
    {
     "name": "stdout",
     "output_type": "stream",
     "text": [
      "[K-Nearest Neighbours] The Best ensemble size with random subspacing is 20 with macro-averaged f1-score 0.69147\n"
     ]
    }
   ],
   "source": [
    "result = best_ensemble_size_randomSub(knn, ensemble_size, X_train, X_test, y_train, y_test)\n",
    "print(\"[K-Nearest Neighbours] The Best ensemble size with random subspacing is {} with macro-averaged f1-score {:.5f}\".format(result[0],result[1]))"
   ]
  },
  {
   "cell_type": "code",
   "execution_count": 48,
   "id": "3762acf2-d7e1-44c5-a366-6053ea3c3632",
   "metadata": {},
   "outputs": [
    {
     "name": "stderr",
     "output_type": "stream",
     "text": [
      "2022-12-04 18:14:30.455 | INFO     | __main__:best_num_features_randomSub:10 - max_features=1.0\n",
      "2022-12-04 18:14:30.455 | INFO     | __main__:best_num_features_randomSub:11 - Average F1-score for KNeighborsClassifier_bag is 0.73918\n"
     ]
    },
    {
     "name": "stdout",
     "output_type": "stream",
     "text": [
      "[K-Nearest Neighbours] The Best max_features is 0.75 with ensemble_size=20 and macro-averaged f1-score 0.75084\n"
     ]
    }
   ],
   "source": [
    "rank, num, best_knnBag_randomSub = best_num_features_randomSub(knn, 20, num_features, X_train, X_test, y_train, y_test)\n",
    "full_result['knn_bag_randomSub'] = rank[1]\n",
    "print(\"[K-Nearest Neighbours] The Best max_features is {} with ensemble_size={} and macro-averaged f1-score {:.5f}\".format(rank[0], num, rank[1]))"
   ]
  },
  {
   "cell_type": "markdown",
   "id": "61d479f0-42e3-4f00-b7d4-40f64c235024",
   "metadata": {
    "tags": []
   },
   "source": [
    "### Compare the different classifiers"
   ]
  },
  {
   "cell_type": "code",
   "execution_count": 49,
   "id": "84819cd0-7ca2-4e87-a56b-b1d51303dfe5",
   "metadata": {
    "tags": []
   },
   "outputs": [
    {
     "data": {
      "image/png": "[encoded data removed]",
      "text/plain": [
       "<Figure size 1296x288 with 6 Axes>"
      ]
     },
     "metadata": {
      "needs_background": "light"
     },
     "output_type": "display_data"
    }
   ],
   "source": [
    "fig, ax = plt.subplots(1, 3, figsize=(18, 4))\n",
    "ConfusionMatrixDisplay.from_estimator(best_dtcBag_randomSub, X_test, y_test, ax=ax[0])\\\n",
    "    .ax_.set_title(\"Decision Trees ensembles\\n(with random subspacing):\\nMax_depth=3, Min_leaf=1\\nn_estimators={}\\nmax_features={}\\nMacro-avg F1 score = {:.3f}\"\n",
    "                   .format(best_dtcBag_randomSub.n_estimators, best_dtcBag_randomSub.max_features, full_result['dtc_bag_randomSub']))\n",
    "\n",
    "ConfusionMatrixDisplay.from_estimator(best_mlpBag_randomSub, X_test, y_test, ax=ax[1])\\\n",
    "    .ax_.set_title(\"Neural Network ensembles\\n(with random subspacing):\\nhidden_layer_sizes=(10,)\\nactivation=\\'relu\\' solver=\\'adam\\'\\nn_estimators={}\\nmax_features={}\\nMacro-avg F1 score = {:.3f}\"\n",
    "                   .format(best_mlpBag_randomSub.n_estimators, best_mlpBag_randomSub.max_features, full_result['mlp_bag_randomSub']))\n",
    "\n",
    "ConfusionMatrixDisplay.from_estimator(best_knnBag_randomSub, X_test, y_test, ax=ax[2])\\\n",
    "    .ax_.set_title(\"K-Nearest Neighbours ensembles\\n(with random subspacing):\\nKNN(n_neighbors=1)\\nn_estimators={}\\nmax_features={}\\nMacro-avg F1 score = {:.3f}\"\n",
    "                   .format(best_knnBag_randomSub.n_estimators, best_knnBag_randomSub.max_features, full_result['knn_bag_randomSub']))\n",
    "clear_output()\n",
    "plt.show();"
   ]
  },
  {
   "cell_type": "markdown",
   "id": "80c52104-bb6e-4f56-8eb0-beb9f72fc4d8",
   "metadata": {},
   "source": [
    "<br/>**Insight**\n",
    "\n",
    "Similarly, we combined the three classifiers, but this time using a random subspacing approach. Despite some variation in the results, the KNN is still the best classifier. We can see from the above that it scored 0.751, followed by the neural network with 0.739. This time the decision tree scored the lowest with 0.728."
   ]
  },
  {
   "cell_type": "markdown",
   "id": "d90c2012-6877-490a-b826-ff3de2b84f14",
   "metadata": {
    "tags": []
   },
   "source": [
    "## **Question 1e** \n",
    "**Based on the lectures, which set of classifiers is expected to benefit more from bagging techniques than random subspacing and which classifiers benefit more from random subspacing? For your dataset, determine the best ensemble strategy for each of these classifiers. Discuss if this is in line with what you expected. Discuss if there is enough diversity in your ensemble and what else could you have done to improve the performance of your ensemble. [15 marks]**"
   ]
  },
  {
   "cell_type": "markdown",
   "id": "c12e6d2c-85c4-4821-af4f-67b300b905b9",
   "metadata": {},
   "source": [
    "<br/>**Insight**<br/>\n",
    "\n",
    "Normally, we believe that bagging methods encourage diversity in the ensemble and work better for 'unstable' classifiers, for example, decision trees and neural networks. The experimental results are somewhat consistent with what we would expect. The result of **decision trees** bagging is a significant improvement although the random subspacing does not show a distinct change. The most unexpected was the **neural network**, which decreased rather than improved the results of bagging in our experimental dataset. The use of random subspacing technique can result in better performance, but it is still not as good as the normal model. **k nearest neighbour** is the classifier that gets more benefit from the ensemble. In this case, the KNN classifier gains more from the random subspacing than the bagging technique.\n",
    "\n",
    "| Classifers| Best score for basic classifier <br/> (Q1-b) | Best score for ensembles with bagging <br/> (Q1-c) | Improve? | Best score for ensembles with random subspacing <br/> (Q1-d) | Improve? \n",
    "|:-:|:-:|:-:|:-:|:-:|:-:\n",
    "|  Decision Trees | 0.708 | 0.738 | Yes | 0.728 | No, but better than ordinary\n",
    "|  Neural Network | 0.748 | 0.726 | No | 0.739 | Yes, but not as good as ordinary\n",
    "|  k Nearest Neighbour | 0.691 | 0.739 | Yes | 0.751 | Yes\n",
    "\n",
    "I believe that there is a lack of sufficient diversity in this ensemble. Diversity is very important in collections, because the probability of a majority of voters being correct will increase as the ensemble grows only if the diversity in the ensemble continues to grow as well. To improve ensemble performance, we may consider using more estimators for bagging and random subspacing. In addition, when constructing an ensemble of classifiers, we need to balance diversity against accuracy (trade-off)."
   ]
  },
  {
   "cell_type": "markdown",
   "id": "d8ee47ca-6367-42ce-a723-8c91e2d1d9d9",
   "metadata": {
    "tags": []
   },
   "source": [
    "# **Question 2** \n",
    "**You are given a set of 10 balls and 10 bins (numbered 0 to 9). Initially, all the balls are in the bin number 5 and your goal is to ensure that the balls are well distributed across the bins eventually. Ideally, all balls should be in different bins. Train a reinforcement learning (RL) agent that should consider all balls in turn and for each ball $\\mathcal{b}$, decide whether to keep the ball in the current bin $\\mathscr{B}\\mathcal{b}$, move it to the bin $\\mathscr{B}\\mathcal{b} - 1$ or move it to the bin $\\mathscr{B}\\mathcal{b} + 1$. Note that the action to move to bin $\\mathscr{B}\\mathcal{b} - 1$ is only permissible if $\\mathscr{B}\\mathcal{b} - 1 ≥ 0$ and the action to move it to the bin $\\mathscr{B}\\mathcal{b} + 1$ is only permissible if $\\mathscr{B}\\mathcal{b} + 1 ≤ 9$.**"
   ]
  },
  {
   "cell_type": "markdown",
   "id": "0c5609b8-e596-40b7-ac5f-208d04af0419",
   "metadata": {
    "tags": []
   },
   "source": [
    "## **Question 2a** \n",
    "**Carefully decide the features to use in the state representation of your RL agent. Also, carefully decide the reward function for your RL agent and the length of an episode. Note that you can also have contextual features in your state representation, i.e., features that are specific to the ball with the current turn. [10 marks]**"
   ]
  },
  {
   "cell_type": "markdown",
   "id": "4c7576c4-33d5-4f9f-8c76-bf696b62337a",
   "metadata": {},
   "source": [
    "- We need **three actions** to represent how balls move: \n",
    "        1. LEFT: move ball to the left.\n",
    "        2. RIGHT: move ball to the right.\n",
    "        3. STAY: keep the ball in place.\n",
    "\n",
    "\n",
    "- A list of **bins** is required to represent the number of balls each bin.\n",
    "\n",
    "- **ball_pos** is used to track current ball's position.\n",
    "\n",
    "**Initial:**<br/>\n",
    "We set all balls in the NO.5 bin and initial `ball_pos` to 5. Since there are three actions, set `action_space` to 3. The observation will be the position of the ball and action of the agent, therefore, we set `observation_space` to [10,3].\n",
    "\n",
    "**Reset:**<br/>\n",
    "When the episode finish, we need to reset the whole environment for the next round, we reset `bins`, `ball_pos` and `observation`.\n",
    "\n",
    "**Step:**<br/>\n",
    "First, we will try to match the actions the agent made.\n",
    "\n",
    "1) When it wants to **move left**:\n",
    "- First check if current ball is already in the left most position (handle boundary problem).\n",
    "- If not, check that the adjacent left box is empty, or that all left boxes have fewer balls.\n",
    "- If so we can move ball to the left.\n",
    "- For the **reward**, if all the empty boxes on the left are more than those on the right, award `20`, otherwise, only reward `15`.\n",
    "\n",
    "2) When it wants to **move right**:\n",
    "- This is similar to the previous one, except that the left and right are opposite.\n",
    "\n",
    "3) When it wants to **stay**:\n",
    "- If the ball is already on the boundary (left or right) and it needs to stop, award `10`.\n",
    "- Otherwise, if it has only one ball in the left (right) bin and there are no other free bins in the left (right), award `10` as well.\n",
    "\n",
    "After this we need to check that there is one and **only** one ball in the bin where the ball has been moved. If so, **reposition** 'ball_pos' to `bin 5`.\n",
    "\n",
    "Finally, we check that the bins are in line with the winning situation.\n",
    "\n",
    "**Render:**<br/>\n",
    "We use render to visualise the environment."
   ]
  },
  {
   "cell_type": "markdown",
   "id": "423e8389-8230-450b-b194-7d62f5cf7893",
   "metadata": {
    "tags": []
   },
   "source": [
    "## **Question 2b** \n",
    "**Implement how the agent interacts with the environment (i.e., the step function, restart function, init function etc.) [10 marks]**"
   ]
  },
  {
   "cell_type": "code",
   "execution_count": 50,
   "id": "88fe7c13-d293-4d72-87a4-5d18b30c0c6e",
   "metadata": {},
   "outputs": [],
   "source": [
    "class CustomEnv(gym.Env):\n",
    "    metadata = {'render.modes': ['console']}\n",
    "    \n",
    "    # Define constants for actions\n",
    "    LEFT  = 0\n",
    "    RIGHT = 1\n",
    "    STAY  = 2\n",
    "    \n",
    "    def __init__(self):\n",
    "        super(CustomEnv, self).__init__()\n",
    "\n",
    "        self.bins  = [0,0,0,0,0,10,0,0,0,0]\n",
    "        self.ball_pos = 5\n",
    "        \n",
    "        # Define action and observation space\n",
    "        # Example when using discrete actions, we have three: left and right and stay\n",
    "        self.action_space = spaces.Discrete(3)\n",
    "        # The observation will be the position and action of the agent.\n",
    "        self.observation_space = spaces.MultiDiscrete([10,3])\n",
    "\n",
    "    def reset(self):\n",
    "        self.bins  = [0,0,0,0,0,10,0,0,0,0]\n",
    "        self.ball_pos = 5\n",
    "        observation = np.array([self.ball_pos,1])\n",
    "        return observation\n",
    "\n",
    "    def step(self, action):\n",
    "        reward = 0\n",
    "        done = False\n",
    "        \n",
    "        if action == self.LEFT:\n",
    "            if self.ball_pos != 0:\n",
    "                if (self.bins[self.ball_pos-1] == 0) | \\\n",
    "                    (sum(self.bins[:self.ball_pos]) < self.ball_pos):\n",
    "                    if self.bins[:self.ball_pos].count(0) > self.bins[self.ball_pos+1:].count(0):\n",
    "                        reward = 20\n",
    "                    else:\n",
    "                        reward = 15\n",
    "                    self.bins[self.ball_pos] -= 1\n",
    "                    self.ball_pos -= 1\n",
    "                    self.bins[self.ball_pos] += 1\n",
    "                    \n",
    "        elif action == self.RIGHT:\n",
    "            if self.ball_pos != 9:\n",
    "                if (self.bins[self.ball_pos+1] == 0) | \\\n",
    "                    (sum(self.bins[self.ball_pos+1:]) < self.ball_pos-1):\n",
    "                    if self.bins[:self.ball_pos].count(0) < self.bins[self.ball_pos+1:].count(0):\n",
    "                        reward = 20\n",
    "                    else:\n",
    "                        reward = 15\n",
    "                    self.bins[self.ball_pos] -= 1\n",
    "                    self.ball_pos += 1\n",
    "                    self.bins[self.ball_pos] += 1\n",
    "        \n",
    "        elif action == self.STAY:\n",
    "            if (self.ball_pos == 0) | (self.ball_pos == 9):\n",
    "                reward = 10\n",
    "            elif ((self.bins[self.ball_pos-1] == 1) & (sum(self.bins[:self.ball_pos]) == self.ball_pos)) |\\\n",
    "                 ((self.bins[self.ball_pos+1] == 1) & (sum(self.bins[self.ball_pos+1:]) == self.ball_pos-1)):\n",
    "                reward = 10\n",
    "        else:\n",
    "            raise ValueError(\"Received invalid action={} which is not part of the action space\".format(action))\n",
    "        \n",
    "        # Check that there is one and only one ball in the bin where the ball has been moved. \n",
    "        # If so, reposition 'ball_pos' to bin 5.\n",
    "        if self.bins[self.ball_pos] == 1:\n",
    "            self.ball_pos = 5\n",
    "        \n",
    "        # Finish?\n",
    "        if self.bins == [1,1,1,1,1,1,1,1,1,1]:\n",
    "            done = True\n",
    "            reward = 100\n",
    "            print(\"********************* Finish *********************\")\n",
    "\n",
    "        # Optionally we can pass additional info, we are not using that for now\n",
    "        observation = np.array([self.ball_pos,action])\n",
    "        info = {}\n",
    "        \n",
    "        return observation, reward, done, info\n",
    "\n",
    "    def render(self, mode='human'):\n",
    "        print(\"So far, the bins is {} \".format(self.bins))\n",
    "        print(\"Current in pos: {}\".format(self.ball_pos))\n",
    "        max_ = max(self.bins)\n",
    "        count = max_\n",
    "        for i in range(max_):\n",
    "            if i == max_-1:\n",
    "                s = ''\n",
    "                for n in self.bins:\n",
    "                    if n < count:\n",
    "                        s += '| |'\n",
    "                    else:\n",
    "                        s += '|o|'\n",
    "                count -= 1\n",
    "                print(s)\n",
    "            else:\n",
    "                s = ''\n",
    "                for n in self.bins:\n",
    "                    if n < count:\n",
    "                        s += '   '\n",
    "                    else:\n",
    "                        s += ' o '\n",
    "                count -= 1\n",
    "                print(s)\n",
    "        print('```' * 10)\n",
    "        print(\"\\n\")\n",
    "    def close(self):\n",
    "        pass"
   ]
  },
  {
   "cell_type": "code",
   "execution_count": 56,
   "id": "bc2ca19f-bb2f-446f-97de-d7643ceed66c",
   "metadata": {},
   "outputs": [
    {
     "name": "stdout",
     "output_type": "stream",
     "text": [
      "MultiDiscrete([10  3])\n"
     ]
    }
   ],
   "source": [
    "env = CustomEnv()\n",
    "print(env.observation_space)\n",
    "\n",
    "# If the environment don't follow the interface, an error will be thrown\n",
    "check_env(env, warn=True)"
   ]
  },
  {
   "cell_type": "code",
   "execution_count": 57,
   "id": "c5790e03-713e-41e9-9518-65d5cd9a8105",
   "metadata": {
    "collapsed": true,
    "jupyter": {
     "outputs_hidden": true
    },
    "tags": []
   },
   "outputs": [
    {
     "name": "stdout",
     "output_type": "stream",
     "text": [
      "Using cpu device\n",
      "Wrapping the env with a `Monitor` wrapper\n",
      "Wrapping the env in a DummyVecEnv.\n",
      "********************* Finish *********************\n",
      "********************* Finish *********************\n",
      "********************* Finish *********************\n",
      "********************* Finish *********************\n",
      "********************* Finish *********************\n",
      "********************* Finish *********************\n",
      "********************* Finish *********************\n",
      "********************* Finish *********************\n",
      "********************* Finish *********************\n",
      "********************* Finish *********************\n",
      "********************* Finish *********************\n",
      "********************* Finish *********************\n",
      "********************* Finish *********************\n",
      "********************* Finish *********************\n",
      "********************* Finish *********************\n",
      "********************* Finish *********************\n",
      "********************* Finish *********************\n",
      "********************* Finish *********************\n",
      "********************* Finish *********************\n",
      "********************* Finish *********************\n",
      "********************* Finish *********************\n",
      "********************* Finish *********************\n",
      "********************* Finish *********************\n",
      "********************* Finish *********************\n",
      "********************* Finish *********************\n",
      "********************* Finish *********************\n",
      "********************* Finish *********************\n",
      "********************* Finish *********************\n",
      "********************* Finish *********************\n",
      "********************* Finish *********************\n",
      "********************* Finish *********************\n",
      "********************* Finish *********************\n",
      "---------------------------------\n",
      "| rollout/           |          |\n",
      "|    ep_len_mean     | 62.9     |\n",
      "|    ep_rew_mean     | 577      |\n",
      "| time/              |          |\n",
      "|    fps             | 2177     |\n",
      "|    iterations      | 1        |\n",
      "|    time_elapsed    | 0        |\n",
      "|    total_timesteps | 2048     |\n",
      "---------------------------------\n",
      "********************* Finish *********************\n",
      "********************* Finish *********************\n",
      "********************* Finish *********************\n",
      "********************* Finish *********************\n",
      "********************* Finish *********************\n",
      "********************* Finish *********************\n",
      "********************* Finish *********************\n",
      "********************* Finish *********************\n",
      "********************* Finish *********************\n",
      "********************* Finish *********************\n",
      "********************* Finish *********************\n",
      "********************* Finish *********************\n",
      "********************* Finish *********************\n",
      "********************* Finish *********************\n",
      "********************* Finish *********************\n",
      "********************* Finish *********************\n",
      "********************* Finish *********************\n",
      "********************* Finish *********************\n",
      "********************* Finish *********************\n",
      "********************* Finish *********************\n",
      "********************* Finish *********************\n",
      "********************* Finish *********************\n",
      "********************* Finish *********************\n",
      "********************* Finish *********************\n",
      "********************* Finish *********************\n",
      "********************* Finish *********************\n",
      "********************* Finish *********************\n",
      "********************* Finish *********************\n",
      "********************* Finish *********************\n",
      "********************* Finish *********************\n",
      "********************* Finish *********************\n",
      "********************* Finish *********************\n",
      "********************* Finish *********************\n",
      "********************* Finish *********************\n",
      "********************* Finish *********************\n",
      "********************* Finish *********************\n",
      "-----------------------------------------\n",
      "| rollout/                |             |\n",
      "|    ep_len_mean          | 59.8        |\n",
      "|    ep_rew_mean          | 573         |\n",
      "| time/                   |             |\n",
      "|    fps                  | 1467        |\n",
      "|    iterations           | 2           |\n",
      "|    time_elapsed         | 2           |\n",
      "|    total_timesteps      | 4096        |\n",
      "| train/                  |             |\n",
      "|    approx_kl            | 0.012036429 |\n",
      "|    clip_fraction        | 0.108       |\n",
      "|    clip_range           | 0.2         |\n",
      "|    entropy_loss         | -1.09       |\n",
      "|    explained_variance   | -0.000888   |\n",
      "|    learning_rate        | 0.0003      |\n",
      "|    loss                 | 5.83e+03    |\n",
      "|    n_updates            | 10          |\n",
      "|    policy_gradient_loss | -0.0251     |\n",
      "|    value_loss           | 1.35e+04    |\n",
      "-----------------------------------------\n",
      "********************* Finish *********************\n",
      "********************* Finish *********************\n",
      "********************* Finish *********************\n",
      "********************* Finish *********************\n",
      "********************* Finish *********************\n",
      "********************* Finish *********************\n",
      "********************* Finish *********************\n",
      "********************* Finish *********************\n",
      "********************* Finish *********************\n",
      "********************* Finish *********************\n",
      "********************* Finish *********************\n",
      "********************* Finish *********************\n",
      "********************* Finish *********************\n",
      "********************* Finish *********************\n",
      "********************* Finish *********************\n",
      "********************* Finish *********************\n",
      "********************* Finish *********************\n",
      "********************* Finish *********************\n",
      "********************* Finish *********************\n",
      "********************* Finish *********************\n",
      "********************* Finish *********************\n",
      "********************* Finish *********************\n",
      "********************* Finish *********************\n",
      "********************* Finish *********************\n",
      "********************* Finish *********************\n",
      "********************* Finish *********************\n",
      "********************* Finish *********************\n",
      "********************* Finish *********************\n",
      "********************* Finish *********************\n",
      "********************* Finish *********************\n",
      "********************* Finish *********************\n",
      "********************* Finish *********************\n",
      "********************* Finish *********************\n",
      "********************* Finish *********************\n",
      "********************* Finish *********************\n",
      "********************* Finish *********************\n",
      "********************* Finish *********************\n",
      "********************* Finish *********************\n",
      "********************* Finish *********************\n",
      "********************* Finish *********************\n",
      "********************* Finish *********************\n",
      "-----------------------------------------\n",
      "| rollout/                |             |\n",
      "|    ep_len_mean          | 55.7        |\n",
      "|    ep_rew_mean          | 562         |\n",
      "| time/                   |             |\n",
      "|    fps                  | 1369        |\n",
      "|    iterations           | 3           |\n",
      "|    time_elapsed         | 4           |\n",
      "|    total_timesteps      | 6144        |\n",
      "| train/                  |             |\n",
      "|    approx_kl            | 0.011921156 |\n",
      "|    clip_fraction        | 0.106       |\n",
      "|    clip_range           | 0.2         |\n",
      "|    entropy_loss         | -1.07       |\n",
      "|    explained_variance   | 0.00346     |\n",
      "|    learning_rate        | 0.0003      |\n",
      "|    loss                 | 7e+03       |\n",
      "|    n_updates            | 20          |\n",
      "|    policy_gradient_loss | -0.02       |\n",
      "|    value_loss           | 1.45e+04    |\n",
      "-----------------------------------------\n",
      "********************* Finish *********************\n",
      "********************* Finish *********************\n",
      "********************* Finish *********************\n",
      "********************* Finish *********************\n",
      "********************* Finish *********************\n",
      "********************* Finish *********************\n",
      "********************* Finish *********************\n",
      "********************* Finish *********************\n",
      "********************* Finish *********************\n",
      "********************* Finish *********************\n",
      "********************* Finish *********************\n",
      "********************* Finish *********************\n",
      "********************* Finish *********************\n",
      "********************* Finish *********************\n",
      "********************* Finish *********************\n",
      "********************* Finish *********************\n",
      "********************* Finish *********************\n",
      "********************* Finish *********************\n",
      "********************* Finish *********************\n",
      "********************* Finish *********************\n",
      "********************* Finish *********************\n",
      "********************* Finish *********************\n",
      "********************* Finish *********************\n",
      "********************* Finish *********************\n",
      "********************* Finish *********************\n",
      "********************* Finish *********************\n",
      "********************* Finish *********************\n",
      "********************* Finish *********************\n",
      "********************* Finish *********************\n",
      "********************* Finish *********************\n",
      "********************* Finish *********************\n",
      "********************* Finish *********************\n",
      "********************* Finish *********************\n",
      "********************* Finish *********************\n",
      "********************* Finish *********************\n",
      "********************* Finish *********************\n",
      "********************* Finish *********************\n",
      "********************* Finish *********************\n",
      "********************* Finish *********************\n",
      "********************* Finish *********************\n",
      "********************* Finish *********************\n",
      "********************* Finish *********************\n",
      "********************* Finish *********************\n",
      "********************* Finish *********************\n",
      "********************* Finish *********************\n",
      "********************* Finish *********************\n",
      "********************* Finish *********************\n",
      "-----------------------------------------\n",
      "| rollout/                |             |\n",
      "|    ep_len_mean          | 47.9        |\n",
      "|    ep_rew_mean          | 550         |\n",
      "| time/                   |             |\n",
      "|    fps                  | 1283        |\n",
      "|    iterations           | 4           |\n",
      "|    time_elapsed         | 6           |\n",
      "|    total_timesteps      | 8192        |\n",
      "| train/                  |             |\n",
      "|    approx_kl            | 0.012890279 |\n",
      "|    clip_fraction        | 0.099       |\n",
      "|    clip_range           | 0.2         |\n",
      "|    entropy_loss         | -1.02       |\n",
      "|    explained_variance   | 0.000998    |\n",
      "|    learning_rate        | 0.0003      |\n",
      "|    loss                 | 7.96e+03    |\n",
      "|    n_updates            | 30          |\n",
      "|    policy_gradient_loss | -0.0192     |\n",
      "|    value_loss           | 1.54e+04    |\n",
      "-----------------------------------------\n",
      "********************* Finish *********************\n",
      "********************* Finish *********************\n",
      "********************* Finish *********************\n",
      "********************* Finish *********************\n",
      "********************* Finish *********************\n",
      "********************* Finish *********************\n",
      "********************* Finish *********************\n",
      "********************* Finish *********************\n",
      "********************* Finish *********************\n",
      "********************* Finish *********************\n",
      "********************* Finish *********************\n",
      "********************* Finish *********************\n",
      "********************* Finish *********************\n",
      "********************* Finish *********************\n",
      "********************* Finish *********************\n",
      "********************* Finish *********************\n",
      "********************* Finish *********************\n",
      "********************* Finish *********************\n",
      "********************* Finish *********************\n",
      "********************* Finish *********************\n",
      "********************* Finish *********************\n",
      "********************* Finish *********************\n",
      "********************* Finish *********************\n",
      "********************* Finish *********************\n",
      "********************* Finish *********************\n",
      "********************* Finish *********************\n",
      "********************* Finish *********************\n",
      "********************* Finish *********************\n",
      "********************* Finish *********************\n",
      "********************* Finish *********************\n",
      "********************* Finish *********************\n",
      "********************* Finish *********************\n",
      "********************* Finish *********************\n",
      "********************* Finish *********************\n",
      "********************* Finish *********************\n",
      "********************* Finish *********************\n",
      "********************* Finish *********************\n",
      "********************* Finish *********************\n",
      "********************* Finish *********************\n",
      "********************* Finish *********************\n",
      "********************* Finish *********************\n",
      "********************* Finish *********************\n",
      "********************* Finish *********************\n",
      "********************* Finish *********************\n",
      "********************* Finish *********************\n",
      "********************* Finish *********************\n",
      "********************* Finish *********************\n",
      "********************* Finish *********************\n",
      "********************* Finish *********************\n",
      "********************* Finish *********************\n",
      "------------------------------------------\n",
      "| rollout/                |              |\n",
      "|    ep_len_mean          | 42.8         |\n",
      "|    ep_rew_mean          | 543          |\n",
      "| time/                   |              |\n",
      "|    fps                  | 1238         |\n",
      "|    iterations           | 5            |\n",
      "|    time_elapsed         | 8            |\n",
      "|    total_timesteps      | 10240        |\n",
      "| train/                  |              |\n",
      "|    approx_kl            | 0.0089297425 |\n",
      "|    clip_fraction        | 0.0283       |\n",
      "|    clip_range           | 0.2          |\n",
      "|    entropy_loss         | -0.971       |\n",
      "|    explained_variance   | 0.000369     |\n",
      "|    learning_rate        | 0.0003       |\n",
      "|    loss                 | 8.62e+03     |\n",
      "|    n_updates            | 40           |\n",
      "|    policy_gradient_loss | -0.0113      |\n",
      "|    value_loss           | 1.73e+04     |\n",
      "------------------------------------------\n",
      "********************* Finish *********************\n",
      "********************* Finish *********************\n",
      "********************* Finish *********************\n",
      "********************* Finish *********************\n",
      "********************* Finish *********************\n",
      "********************* Finish *********************\n",
      "********************* Finish *********************\n",
      "********************* Finish *********************\n",
      "********************* Finish *********************\n",
      "********************* Finish *********************\n",
      "********************* Finish *********************\n",
      "********************* Finish *********************\n",
      "********************* Finish *********************\n",
      "********************* Finish *********************\n",
      "********************* Finish *********************\n",
      "********************* Finish *********************\n",
      "********************* Finish *********************\n",
      "********************* Finish *********************\n",
      "********************* Finish *********************\n",
      "********************* Finish *********************\n",
      "********************* Finish *********************\n",
      "********************* Finish *********************\n",
      "********************* Finish *********************\n",
      "********************* Finish *********************\n",
      "********************* Finish *********************\n",
      "********************* Finish *********************\n",
      "********************* Finish *********************\n",
      "********************* Finish *********************\n",
      "********************* Finish *********************\n",
      "********************* Finish *********************\n",
      "********************* Finish *********************\n",
      "********************* Finish *********************\n",
      "********************* Finish *********************\n",
      "********************* Finish *********************\n",
      "********************* Finish *********************\n",
      "********************* Finish *********************\n",
      "********************* Finish *********************\n",
      "********************* Finish *********************\n",
      "********************* Finish *********************\n",
      "********************* Finish *********************\n",
      "********************* Finish *********************\n",
      "********************* Finish *********************\n",
      "********************* Finish *********************\n",
      "********************* Finish *********************\n",
      "********************* Finish *********************\n",
      "********************* Finish *********************\n",
      "********************* Finish *********************\n",
      "********************* Finish *********************\n",
      "********************* Finish *********************\n",
      "********************* Finish *********************\n",
      "********************* Finish *********************\n",
      "********************* Finish *********************\n",
      "********************* Finish *********************\n",
      "-----------------------------------------\n",
      "| rollout/                |             |\n",
      "|    ep_len_mean          | 39.6        |\n",
      "|    ep_rew_mean          | 537         |\n",
      "| time/                   |             |\n",
      "|    fps                  | 1240        |\n",
      "|    iterations           | 6           |\n",
      "|    time_elapsed         | 9           |\n",
      "|    total_timesteps      | 12288       |\n",
      "| train/                  |             |\n",
      "|    approx_kl            | 0.007867569 |\n",
      "|    clip_fraction        | 0.0346      |\n",
      "|    clip_range           | 0.2         |\n",
      "|    entropy_loss         | -0.911      |\n",
      "|    explained_variance   | 0.000239    |\n",
      "|    learning_rate        | 0.0003      |\n",
      "|    loss                 | 7.32e+03    |\n",
      "|    n_updates            | 50          |\n",
      "|    policy_gradient_loss | -0.00916    |\n",
      "|    value_loss           | 1.77e+04    |\n",
      "-----------------------------------------\n",
      "********************* Finish *********************\n",
      "********************* Finish *********************\n",
      "********************* Finish *********************\n",
      "********************* Finish *********************\n",
      "********************* Finish *********************\n",
      "********************* Finish *********************\n",
      "********************* Finish *********************\n",
      "********************* Finish *********************\n",
      "********************* Finish *********************\n",
      "********************* Finish *********************\n",
      "********************* Finish *********************\n",
      "********************* Finish *********************\n",
      "********************* Finish *********************\n",
      "********************* Finish *********************\n",
      "********************* Finish *********************\n",
      "********************* Finish *********************\n",
      "********************* Finish *********************\n",
      "********************* Finish *********************\n",
      "********************* Finish *********************\n",
      "********************* Finish *********************\n",
      "********************* Finish *********************\n",
      "********************* Finish *********************\n",
      "********************* Finish *********************\n",
      "********************* Finish *********************\n",
      "********************* Finish *********************\n",
      "********************* Finish *********************\n",
      "********************* Finish *********************\n",
      "********************* Finish *********************\n",
      "********************* Finish *********************\n",
      "********************* Finish *********************\n",
      "********************* Finish *********************\n",
      "********************* Finish *********************\n",
      "********************* Finish *********************\n",
      "********************* Finish *********************\n",
      "********************* Finish *********************\n",
      "********************* Finish *********************\n",
      "********************* Finish *********************\n",
      "********************* Finish *********************\n",
      "********************* Finish *********************\n",
      "********************* Finish *********************\n",
      "********************* Finish *********************\n",
      "********************* Finish *********************\n",
      "********************* Finish *********************\n",
      "********************* Finish *********************\n",
      "********************* Finish *********************\n",
      "********************* Finish *********************\n",
      "********************* Finish *********************\n",
      "********************* Finish *********************\n",
      "********************* Finish *********************\n",
      "********************* Finish *********************\n",
      "********************* Finish *********************\n",
      "********************* Finish *********************\n",
      "********************* Finish *********************\n",
      "********************* Finish *********************\n",
      "********************* Finish *********************\n",
      "********************* Finish *********************\n",
      "-----------------------------------------\n",
      "| rollout/                |             |\n",
      "|    ep_len_mean          | 37.5        |\n",
      "|    ep_rew_mean          | 536         |\n",
      "| time/                   |             |\n",
      "|    fps                  | 1253        |\n",
      "|    iterations           | 7           |\n",
      "|    time_elapsed         | 11          |\n",
      "|    total_timesteps      | 14336       |\n",
      "| train/                  |             |\n",
      "|    approx_kl            | 0.006528509 |\n",
      "|    clip_fraction        | 0.0113      |\n",
      "|    clip_range           | 0.2         |\n",
      "|    entropy_loss         | -0.862      |\n",
      "|    explained_variance   | 0.000124    |\n",
      "|    learning_rate        | 0.0003      |\n",
      "|    loss                 | 9.59e+03    |\n",
      "|    n_updates            | 60          |\n",
      "|    policy_gradient_loss | -0.00502    |\n",
      "|    value_loss           | 1.86e+04    |\n",
      "-----------------------------------------\n",
      "********************* Finish *********************\n",
      "********************* Finish *********************\n",
      "********************* Finish *********************\n",
      "********************* Finish *********************\n",
      "********************* Finish *********************\n",
      "********************* Finish *********************\n",
      "********************* Finish *********************\n",
      "********************* Finish *********************\n",
      "********************* Finish *********************\n",
      "********************* Finish *********************\n",
      "********************* Finish *********************\n",
      "********************* Finish *********************\n",
      "********************* Finish *********************\n",
      "********************* Finish *********************\n",
      "********************* Finish *********************\n",
      "********************* Finish *********************\n",
      "********************* Finish *********************\n",
      "********************* Finish *********************\n",
      "********************* Finish *********************\n",
      "********************* Finish *********************\n",
      "********************* Finish *********************\n",
      "********************* Finish *********************\n",
      "********************* Finish *********************\n",
      "********************* Finish *********************\n",
      "********************* Finish *********************\n",
      "********************* Finish *********************\n",
      "********************* Finish *********************\n",
      "********************* Finish *********************\n",
      "********************* Finish *********************\n",
      "********************* Finish *********************\n",
      "********************* Finish *********************\n",
      "********************* Finish *********************\n",
      "********************* Finish *********************\n",
      "********************* Finish *********************\n",
      "********************* Finish *********************\n",
      "********************* Finish *********************\n",
      "********************* Finish *********************\n",
      "********************* Finish *********************\n",
      "********************* Finish *********************\n",
      "********************* Finish *********************\n",
      "********************* Finish *********************\n",
      "********************* Finish *********************\n",
      "********************* Finish *********************\n",
      "********************* Finish *********************\n",
      "********************* Finish *********************\n",
      "********************* Finish *********************\n",
      "********************* Finish *********************\n",
      "********************* Finish *********************\n",
      "********************* Finish *********************\n",
      "********************* Finish *********************\n",
      "********************* Finish *********************\n",
      "********************* Finish *********************\n",
      "********************* Finish *********************\n",
      "********************* Finish *********************\n",
      "********************* Finish *********************\n",
      "********************* Finish *********************\n",
      "********************* Finish *********************\n",
      "-----------------------------------------\n",
      "| rollout/                |             |\n",
      "|    ep_len_mean          | 36.4        |\n",
      "|    ep_rew_mean          | 537         |\n",
      "| time/                   |             |\n",
      "|    fps                  | 1263        |\n",
      "|    iterations           | 8           |\n",
      "|    time_elapsed         | 12          |\n",
      "|    total_timesteps      | 16384       |\n",
      "| train/                  |             |\n",
      "|    approx_kl            | 0.006597498 |\n",
      "|    clip_fraction        | 0.05        |\n",
      "|    clip_range           | 0.2         |\n",
      "|    entropy_loss         | -0.81       |\n",
      "|    explained_variance   | 6.63e-05    |\n",
      "|    learning_rate        | 0.0003      |\n",
      "|    loss                 | 9.17e+03    |\n",
      "|    n_updates            | 70          |\n",
      "|    policy_gradient_loss | -0.00981    |\n",
      "|    value_loss           | 1.88e+04    |\n",
      "-----------------------------------------\n",
      "********************* Finish *********************\n",
      "********************* Finish *********************\n",
      "********************* Finish *********************\n",
      "********************* Finish *********************\n",
      "********************* Finish *********************\n",
      "********************* Finish *********************\n",
      "********************* Finish *********************\n",
      "********************* Finish *********************\n",
      "********************* Finish *********************\n",
      "********************* Finish *********************\n",
      "********************* Finish *********************\n",
      "********************* Finish *********************\n",
      "********************* Finish *********************\n",
      "********************* Finish *********************\n",
      "********************* Finish *********************\n",
      "********************* Finish *********************\n",
      "********************* Finish *********************\n",
      "********************* Finish *********************\n",
      "********************* Finish *********************\n",
      "********************* Finish *********************\n",
      "********************* Finish *********************\n",
      "********************* Finish *********************\n",
      "********************* Finish *********************\n",
      "********************* Finish *********************\n",
      "********************* Finish *********************\n",
      "********************* Finish *********************\n",
      "********************* Finish *********************\n",
      "********************* Finish *********************\n",
      "********************* Finish *********************\n",
      "********************* Finish *********************\n",
      "********************* Finish *********************\n",
      "********************* Finish *********************\n",
      "********************* Finish *********************\n",
      "********************* Finish *********************\n",
      "********************* Finish *********************\n",
      "********************* Finish *********************\n",
      "********************* Finish *********************\n",
      "********************* Finish *********************\n",
      "********************* Finish *********************\n",
      "********************* Finish *********************\n",
      "********************* Finish *********************\n",
      "********************* Finish *********************\n",
      "********************* Finish *********************\n",
      "********************* Finish *********************\n",
      "********************* Finish *********************\n",
      "********************* Finish *********************\n",
      "********************* Finish *********************\n",
      "********************* Finish *********************\n",
      "********************* Finish *********************\n",
      "********************* Finish *********************\n",
      "********************* Finish *********************\n",
      "********************* Finish *********************\n",
      "********************* Finish *********************\n",
      "********************* Finish *********************\n",
      "********************* Finish *********************\n",
      "********************* Finish *********************\n",
      "********************* Finish *********************\n",
      "********************* Finish *********************\n",
      "********************* Finish *********************\n",
      "-----------------------------------------\n",
      "| rollout/                |             |\n",
      "|    ep_len_mean          | 35.3        |\n",
      "|    ep_rew_mean          | 530         |\n",
      "| time/                   |             |\n",
      "|    fps                  | 1252        |\n",
      "|    iterations           | 9           |\n",
      "|    time_elapsed         | 14          |\n",
      "|    total_timesteps      | 18432       |\n",
      "| train/                  |             |\n",
      "|    approx_kl            | 0.008376608 |\n",
      "|    clip_fraction        | 0.0536      |\n",
      "|    clip_range           | 0.2         |\n",
      "|    entropy_loss         | -0.745      |\n",
      "|    explained_variance   | 7.63e-05    |\n",
      "|    learning_rate        | 0.0003      |\n",
      "|    loss                 | 9.66e+03    |\n",
      "|    n_updates            | 80          |\n",
      "|    policy_gradient_loss | -0.00915    |\n",
      "|    value_loss           | 1.84e+04    |\n",
      "-----------------------------------------\n",
      "********************* Finish *********************\n",
      "********************* Finish *********************\n",
      "********************* Finish *********************\n",
      "********************* Finish *********************\n",
      "********************* Finish *********************\n",
      "********************* Finish *********************\n",
      "********************* Finish *********************\n",
      "********************* Finish *********************\n",
      "********************* Finish *********************\n",
      "********************* Finish *********************\n",
      "********************* Finish *********************\n",
      "********************* Finish *********************\n",
      "********************* Finish *********************\n",
      "********************* Finish *********************\n",
      "********************* Finish *********************\n",
      "********************* Finish *********************\n",
      "********************* Finish *********************\n",
      "********************* Finish *********************\n",
      "********************* Finish *********************\n",
      "********************* Finish *********************\n",
      "********************* Finish *********************\n",
      "********************* Finish *********************\n",
      "********************* Finish *********************\n",
      "********************* Finish *********************\n",
      "********************* Finish *********************\n",
      "********************* Finish *********************\n",
      "********************* Finish *********************\n",
      "********************* Finish *********************\n",
      "********************* Finish *********************\n",
      "********************* Finish *********************\n",
      "********************* Finish *********************\n",
      "********************* Finish *********************\n",
      "********************* Finish *********************\n",
      "********************* Finish *********************\n",
      "********************* Finish *********************\n",
      "********************* Finish *********************\n",
      "********************* Finish *********************\n",
      "********************* Finish *********************\n",
      "********************* Finish *********************\n",
      "********************* Finish *********************\n",
      "********************* Finish *********************\n",
      "********************* Finish *********************\n",
      "********************* Finish *********************\n",
      "********************* Finish *********************\n",
      "********************* Finish *********************\n",
      "********************* Finish *********************\n",
      "********************* Finish *********************\n",
      "********************* Finish *********************\n",
      "********************* Finish *********************\n",
      "********************* Finish *********************\n",
      "********************* Finish *********************\n",
      "********************* Finish *********************\n",
      "********************* Finish *********************\n",
      "********************* Finish *********************\n",
      "********************* Finish *********************\n",
      "********************* Finish *********************\n",
      "********************* Finish *********************\n",
      "********************* Finish *********************\n",
      "********************* Finish *********************\n",
      "********************* Finish *********************\n",
      "********************* Finish *********************\n",
      "********************* Finish *********************\n",
      "------------------------------------------\n",
      "| rollout/                |              |\n",
      "|    ep_len_mean          | 33.6         |\n",
      "|    ep_rew_mean          | 529          |\n",
      "| time/                   |              |\n",
      "|    fps                  | 1249         |\n",
      "|    iterations           | 10           |\n",
      "|    time_elapsed         | 16           |\n",
      "|    total_timesteps      | 20480        |\n",
      "| train/                  |              |\n",
      "|    approx_kl            | 0.0044588437 |\n",
      "|    clip_fraction        | 0.0192       |\n",
      "|    clip_range           | 0.2          |\n",
      "|    entropy_loss         | -0.714       |\n",
      "|    explained_variance   | 3.79e-05     |\n",
      "|    learning_rate        | 0.0003       |\n",
      "|    loss                 | 8.71e+03     |\n",
      "|    n_updates            | 90           |\n",
      "|    policy_gradient_loss | -0.00425     |\n",
      "|    value_loss           | 1.77e+04     |\n",
      "------------------------------------------\n",
      "********************* Finish *********************\n",
      "********************* Finish *********************\n",
      "********************* Finish *********************\n",
      "********************* Finish *********************\n",
      "********************* Finish *********************\n",
      "********************* Finish *********************\n",
      "********************* Finish *********************\n",
      "********************* Finish *********************\n",
      "********************* Finish *********************\n",
      "********************* Finish *********************\n",
      "********************* Finish *********************\n",
      "********************* Finish *********************\n",
      "********************* Finish *********************\n",
      "********************* Finish *********************\n",
      "********************* Finish *********************\n",
      "********************* Finish *********************\n",
      "********************* Finish *********************\n",
      "********************* Finish *********************\n",
      "********************* Finish *********************\n",
      "********************* Finish *********************\n",
      "********************* Finish *********************\n",
      "********************* Finish *********************\n",
      "********************* Finish *********************\n",
      "********************* Finish *********************\n",
      "********************* Finish *********************\n",
      "********************* Finish *********************\n",
      "********************* Finish *********************\n",
      "********************* Finish *********************\n",
      "********************* Finish *********************\n",
      "********************* Finish *********************\n",
      "********************* Finish *********************\n",
      "********************* Finish *********************\n",
      "********************* Finish *********************\n",
      "********************* Finish *********************\n",
      "********************* Finish *********************\n",
      "********************* Finish *********************\n",
      "********************* Finish *********************\n",
      "********************* Finish *********************\n",
      "********************* Finish *********************\n",
      "********************* Finish *********************\n",
      "********************* Finish *********************\n",
      "********************* Finish *********************\n",
      "********************* Finish *********************\n",
      "********************* Finish *********************\n",
      "********************* Finish *********************\n",
      "********************* Finish *********************\n",
      "********************* Finish *********************\n",
      "********************* Finish *********************\n",
      "********************* Finish *********************\n",
      "********************* Finish *********************\n",
      "********************* Finish *********************\n",
      "********************* Finish *********************\n",
      "********************* Finish *********************\n",
      "********************* Finish *********************\n",
      "********************* Finish *********************\n",
      "********************* Finish *********************\n",
      "********************* Finish *********************\n",
      "********************* Finish *********************\n",
      "********************* Finish *********************\n",
      "********************* Finish *********************\n",
      "********************* Finish *********************\n",
      "********************* Finish *********************\n",
      "********************* Finish *********************\n",
      "********************* Finish *********************\n",
      "********************* Finish *********************\n",
      "------------------------------------------\n",
      "| rollout/                |              |\n",
      "|    ep_len_mean          | 32.1         |\n",
      "|    ep_rew_mean          | 530          |\n",
      "| time/                   |              |\n",
      "|    fps                  | 1236         |\n",
      "|    iterations           | 11           |\n",
      "|    time_elapsed         | 18           |\n",
      "|    total_timesteps      | 22528        |\n",
      "| train/                  |              |\n",
      "|    approx_kl            | 0.0064059407 |\n",
      "|    clip_fraction        | 0.0242       |\n",
      "|    clip_range           | 0.2          |\n",
      "|    entropy_loss         | -0.688       |\n",
      "|    explained_variance   | 3.37e-05     |\n",
      "|    learning_rate        | 0.0003       |\n",
      "|    loss                 | 9.24e+03     |\n",
      "|    n_updates            | 100          |\n",
      "|    policy_gradient_loss | -0.00445     |\n",
      "|    value_loss           | 1.86e+04     |\n",
      "------------------------------------------\n",
      "********************* Finish *********************\n",
      "********************* Finish *********************\n",
      "********************* Finish *********************\n",
      "********************* Finish *********************\n",
      "********************* Finish *********************\n",
      "********************* Finish *********************\n",
      "********************* Finish *********************\n",
      "********************* Finish *********************\n",
      "********************* Finish *********************\n",
      "********************* Finish *********************\n",
      "********************* Finish *********************\n",
      "********************* Finish *********************\n",
      "********************* Finish *********************\n",
      "********************* Finish *********************\n",
      "********************* Finish *********************\n",
      "********************* Finish *********************\n",
      "********************* Finish *********************\n",
      "********************* Finish *********************\n",
      "********************* Finish *********************\n",
      "********************* Finish *********************\n",
      "********************* Finish *********************\n",
      "********************* Finish *********************\n",
      "********************* Finish *********************\n",
      "********************* Finish *********************\n",
      "********************* Finish *********************\n",
      "********************* Finish *********************\n",
      "********************* Finish *********************\n",
      "********************* Finish *********************\n",
      "********************* Finish *********************\n",
      "********************* Finish *********************\n",
      "********************* Finish *********************\n",
      "********************* Finish *********************\n",
      "********************* Finish *********************\n",
      "********************* Finish *********************\n",
      "********************* Finish *********************\n",
      "********************* Finish *********************\n",
      "********************* Finish *********************\n",
      "********************* Finish *********************\n",
      "********************* Finish *********************\n",
      "********************* Finish *********************\n",
      "********************* Finish *********************\n",
      "********************* Finish *********************\n",
      "********************* Finish *********************\n",
      "********************* Finish *********************\n",
      "********************* Finish *********************\n",
      "********************* Finish *********************\n",
      "********************* Finish *********************\n",
      "********************* Finish *********************\n",
      "********************* Finish *********************\n",
      "********************* Finish *********************\n",
      "********************* Finish *********************\n",
      "********************* Finish *********************\n",
      "********************* Finish *********************\n",
      "********************* Finish *********************\n",
      "********************* Finish *********************\n",
      "********************* Finish *********************\n",
      "********************* Finish *********************\n",
      "********************* Finish *********************\n",
      "********************* Finish *********************\n",
      "********************* Finish *********************\n",
      "********************* Finish *********************\n",
      "********************* Finish *********************\n",
      "********************* Finish *********************\n",
      "********************* Finish *********************\n",
      "-----------------------------------------\n",
      "| rollout/                |             |\n",
      "|    ep_len_mean          | 31.6        |\n",
      "|    ep_rew_mean          | 527         |\n",
      "| time/                   |             |\n",
      "|    fps                  | 1236        |\n",
      "|    iterations           | 12          |\n",
      "|    time_elapsed         | 19          |\n",
      "|    total_timesteps      | 24576       |\n",
      "| train/                  |             |\n",
      "|    approx_kl            | 0.005376924 |\n",
      "|    clip_fraction        | 0.0259      |\n",
      "|    clip_range           | 0.2         |\n",
      "|    entropy_loss         | -0.662      |\n",
      "|    explained_variance   | 2.58e-05    |\n",
      "|    learning_rate        | 0.0003      |\n",
      "|    loss                 | 9.07e+03    |\n",
      "|    n_updates            | 110         |\n",
      "|    policy_gradient_loss | -0.00691    |\n",
      "|    value_loss           | 1.89e+04    |\n",
      "-----------------------------------------\n",
      "********************* Finish *********************\n",
      "********************* Finish *********************\n",
      "********************* Finish *********************\n",
      "********************* Finish *********************\n",
      "********************* Finish *********************\n",
      "********************* Finish *********************\n",
      "********************* Finish *********************\n",
      "********************* Finish *********************\n",
      "********************* Finish *********************\n",
      "********************* Finish *********************\n",
      "********************* Finish *********************\n",
      "********************* Finish *********************\n",
      "********************* Finish *********************\n",
      "********************* Finish *********************\n",
      "********************* Finish *********************\n",
      "********************* Finish *********************\n",
      "********************* Finish *********************\n",
      "********************* Finish *********************\n",
      "********************* Finish *********************\n",
      "********************* Finish *********************\n",
      "********************* Finish *********************\n",
      "********************* Finish *********************\n",
      "********************* Finish *********************\n",
      "********************* Finish *********************\n",
      "********************* Finish *********************\n",
      "********************* Finish *********************\n",
      "********************* Finish *********************\n",
      "********************* Finish *********************\n",
      "********************* Finish *********************\n",
      "********************* Finish *********************\n",
      "********************* Finish *********************\n",
      "********************* Finish *********************\n",
      "********************* Finish *********************\n",
      "********************* Finish *********************\n",
      "********************* Finish *********************\n",
      "********************* Finish *********************\n",
      "********************* Finish *********************\n",
      "********************* Finish *********************\n",
      "********************* Finish *********************\n",
      "********************* Finish *********************\n",
      "********************* Finish *********************\n",
      "********************* Finish *********************\n",
      "********************* Finish *********************\n",
      "********************* Finish *********************\n",
      "********************* Finish *********************\n",
      "********************* Finish *********************\n",
      "********************* Finish *********************\n",
      "********************* Finish *********************\n",
      "********************* Finish *********************\n",
      "********************* Finish *********************\n",
      "********************* Finish *********************\n",
      "********************* Finish *********************\n",
      "********************* Finish *********************\n",
      "********************* Finish *********************\n",
      "********************* Finish *********************\n",
      "********************* Finish *********************\n",
      "********************* Finish *********************\n",
      "********************* Finish *********************\n",
      "********************* Finish *********************\n",
      "********************* Finish *********************\n",
      "********************* Finish *********************\n",
      "********************* Finish *********************\n",
      "********************* Finish *********************\n",
      "********************* Finish *********************\n",
      "------------------------------------------\n",
      "| rollout/                |              |\n",
      "|    ep_len_mean          | 32.1         |\n",
      "|    ep_rew_mean          | 524          |\n",
      "| time/                   |              |\n",
      "|    fps                  | 1243         |\n",
      "|    iterations           | 13           |\n",
      "|    time_elapsed         | 21           |\n",
      "|    total_timesteps      | 26624        |\n",
      "| train/                  |              |\n",
      "|    approx_kl            | 0.0076377075 |\n",
      "|    clip_fraction        | 0.0272       |\n",
      "|    clip_range           | 0.2          |\n",
      "|    entropy_loss         | -0.637       |\n",
      "|    explained_variance   | 2.14e-05     |\n",
      "|    learning_rate        | 0.0003       |\n",
      "|    loss                 | 8.49e+03     |\n",
      "|    n_updates            | 120          |\n",
      "|    policy_gradient_loss | -0.00382     |\n",
      "|    value_loss           | 1.8e+04      |\n",
      "------------------------------------------\n",
      "********************* Finish *********************\n",
      "********************* Finish *********************\n",
      "********************* Finish *********************\n",
      "********************* Finish *********************\n",
      "********************* Finish *********************\n",
      "********************* Finish *********************\n",
      "********************* Finish *********************\n",
      "********************* Finish *********************\n",
      "********************* Finish *********************\n",
      "********************* Finish *********************\n",
      "********************* Finish *********************\n",
      "********************* Finish *********************\n",
      "********************* Finish *********************\n",
      "********************* Finish *********************\n",
      "********************* Finish *********************\n",
      "********************* Finish *********************\n",
      "********************* Finish *********************\n",
      "********************* Finish *********************\n",
      "********************* Finish *********************\n",
      "********************* Finish *********************\n",
      "********************* Finish *********************\n",
      "********************* Finish *********************\n",
      "********************* Finish *********************\n",
      "********************* Finish *********************\n",
      "********************* Finish *********************\n",
      "********************* Finish *********************\n",
      "********************* Finish *********************\n",
      "********************* Finish *********************\n",
      "********************* Finish *********************\n",
      "********************* Finish *********************\n",
      "********************* Finish *********************\n",
      "********************* Finish *********************\n",
      "********************* Finish *********************\n",
      "********************* Finish *********************\n",
      "********************* Finish *********************\n",
      "********************* Finish *********************\n",
      "********************* Finish *********************\n",
      "********************* Finish *********************\n",
      "********************* Finish *********************\n",
      "********************* Finish *********************\n",
      "********************* Finish *********************\n",
      "********************* Finish *********************\n",
      "********************* Finish *********************\n",
      "********************* Finish *********************\n",
      "********************* Finish *********************\n",
      "********************* Finish *********************\n",
      "********************* Finish *********************\n",
      "********************* Finish *********************\n",
      "********************* Finish *********************\n",
      "********************* Finish *********************\n",
      "********************* Finish *********************\n",
      "********************* Finish *********************\n",
      "********************* Finish *********************\n",
      "********************* Finish *********************\n",
      "********************* Finish *********************\n",
      "********************* Finish *********************\n",
      "********************* Finish *********************\n",
      "********************* Finish *********************\n",
      "********************* Finish *********************\n",
      "********************* Finish *********************\n",
      "********************* Finish *********************\n",
      "********************* Finish *********************\n",
      "********************* Finish *********************\n",
      "********************* Finish *********************\n",
      "********************* Finish *********************\n",
      "------------------------------------------\n",
      "| rollout/                |              |\n",
      "|    ep_len_mean          | 31.7         |\n",
      "|    ep_rew_mean          | 524          |\n",
      "| time/                   |              |\n",
      "|    fps                  | 1249         |\n",
      "|    iterations           | 14           |\n",
      "|    time_elapsed         | 22           |\n",
      "|    total_timesteps      | 28672        |\n",
      "| train/                  |              |\n",
      "|    approx_kl            | 0.0039191875 |\n",
      "|    clip_fraction        | 0.0327       |\n",
      "|    clip_range           | 0.2          |\n",
      "|    entropy_loss         | -0.654       |\n",
      "|    explained_variance   | 1.64e-05     |\n",
      "|    learning_rate        | 0.0003       |\n",
      "|    loss                 | 8.64e+03     |\n",
      "|    n_updates            | 130          |\n",
      "|    policy_gradient_loss | -0.00494     |\n",
      "|    value_loss           | 1.61e+04     |\n",
      "------------------------------------------\n",
      "********************* Finish *********************\n",
      "********************* Finish *********************\n",
      "********************* Finish *********************\n",
      "********************* Finish *********************\n",
      "********************* Finish *********************\n",
      "********************* Finish *********************\n",
      "********************* Finish *********************\n",
      "********************* Finish *********************\n",
      "********************* Finish *********************\n",
      "********************* Finish *********************\n",
      "********************* Finish *********************\n",
      "********************* Finish *********************\n",
      "********************* Finish *********************\n",
      "********************* Finish *********************\n",
      "********************* Finish *********************\n",
      "********************* Finish *********************\n",
      "********************* Finish *********************\n",
      "********************* Finish *********************\n",
      "********************* Finish *********************\n",
      "********************* Finish *********************\n",
      "********************* Finish *********************\n",
      "********************* Finish *********************\n",
      "********************* Finish *********************\n",
      "********************* Finish *********************\n",
      "********************* Finish *********************\n",
      "********************* Finish *********************\n",
      "********************* Finish *********************\n",
      "********************* Finish *********************\n",
      "********************* Finish *********************\n",
      "********************* Finish *********************\n",
      "********************* Finish *********************\n",
      "********************* Finish *********************\n",
      "********************* Finish *********************\n",
      "********************* Finish *********************\n",
      "********************* Finish *********************\n",
      "********************* Finish *********************\n",
      "********************* Finish *********************\n",
      "********************* Finish *********************\n",
      "********************* Finish *********************\n",
      "********************* Finish *********************\n",
      "********************* Finish *********************\n",
      "********************* Finish *********************\n",
      "********************* Finish *********************\n",
      "********************* Finish *********************\n",
      "********************* Finish *********************\n",
      "********************* Finish *********************\n",
      "********************* Finish *********************\n",
      "********************* Finish *********************\n",
      "********************* Finish *********************\n",
      "********************* Finish *********************\n",
      "********************* Finish *********************\n",
      "********************* Finish *********************\n",
      "********************* Finish *********************\n",
      "********************* Finish *********************\n",
      "********************* Finish *********************\n",
      "********************* Finish *********************\n",
      "********************* Finish *********************\n",
      "********************* Finish *********************\n",
      "********************* Finish *********************\n",
      "********************* Finish *********************\n",
      "********************* Finish *********************\n",
      "********************* Finish *********************\n",
      "********************* Finish *********************\n",
      "********************* Finish *********************\n",
      "********************* Finish *********************\n",
      "********************* Finish *********************\n",
      "------------------------------------------\n",
      "| rollout/                |              |\n",
      "|    ep_len_mean          | 31.1         |\n",
      "|    ep_rew_mean          | 528          |\n",
      "| time/                   |              |\n",
      "|    fps                  | 1255         |\n",
      "|    iterations           | 15           |\n",
      "|    time_elapsed         | 24           |\n",
      "|    total_timesteps      | 30720        |\n",
      "| train/                  |              |\n",
      "|    approx_kl            | 0.0064422693 |\n",
      "|    clip_fraction        | 0.031        |\n",
      "|    clip_range           | 0.2          |\n",
      "|    entropy_loss         | -0.639       |\n",
      "|    explained_variance   | 1.52e-05     |\n",
      "|    learning_rate        | 0.0003       |\n",
      "|    loss                 | 7.91e+03     |\n",
      "|    n_updates            | 140          |\n",
      "|    policy_gradient_loss | -0.00729     |\n",
      "|    value_loss           | 1.66e+04     |\n",
      "------------------------------------------\n",
      "********************* Finish *********************\n",
      "********************* Finish *********************\n",
      "********************* Finish *********************\n",
      "********************* Finish *********************\n",
      "********************* Finish *********************\n",
      "********************* Finish *********************\n",
      "********************* Finish *********************\n",
      "********************* Finish *********************\n",
      "********************* Finish *********************\n",
      "********************* Finish *********************\n",
      "********************* Finish *********************\n",
      "********************* Finish *********************\n",
      "********************* Finish *********************\n",
      "********************* Finish *********************\n",
      "********************* Finish *********************\n",
      "********************* Finish *********************\n",
      "********************* Finish *********************\n",
      "********************* Finish *********************\n",
      "********************* Finish *********************\n",
      "********************* Finish *********************\n",
      "********************* Finish *********************\n",
      "********************* Finish *********************\n",
      "********************* Finish *********************\n",
      "********************* Finish *********************\n",
      "********************* Finish *********************\n",
      "********************* Finish *********************\n",
      "********************* Finish *********************\n",
      "********************* Finish *********************\n",
      "********************* Finish *********************\n",
      "********************* Finish *********************\n",
      "********************* Finish *********************\n",
      "********************* Finish *********************\n",
      "********************* Finish *********************\n",
      "********************* Finish *********************\n",
      "********************* Finish *********************\n",
      "********************* Finish *********************\n",
      "********************* Finish *********************\n",
      "********************* Finish *********************\n",
      "********************* Finish *********************\n",
      "********************* Finish *********************\n",
      "********************* Finish *********************\n",
      "********************* Finish *********************\n",
      "********************* Finish *********************\n",
      "********************* Finish *********************\n",
      "********************* Finish *********************\n",
      "********************* Finish *********************\n",
      "********************* Finish *********************\n",
      "********************* Finish *********************\n",
      "********************* Finish *********************\n",
      "********************* Finish *********************\n",
      "********************* Finish *********************\n",
      "********************* Finish *********************\n",
      "********************* Finish *********************\n",
      "********************* Finish *********************\n",
      "********************* Finish *********************\n",
      "********************* Finish *********************\n",
      "********************* Finish *********************\n",
      "********************* Finish *********************\n",
      "********************* Finish *********************\n",
      "********************* Finish *********************\n",
      "********************* Finish *********************\n",
      "********************* Finish *********************\n",
      "********************* Finish *********************\n",
      "********************* Finish *********************\n",
      "********************* Finish *********************\n",
      "------------------------------------------\n",
      "| rollout/                |              |\n",
      "|    ep_len_mean          | 31.5         |\n",
      "|    ep_rew_mean          | 530          |\n",
      "| time/                   |              |\n",
      "|    fps                  | 1260         |\n",
      "|    iterations           | 16           |\n",
      "|    time_elapsed         | 26           |\n",
      "|    total_timesteps      | 32768        |\n",
      "| train/                  |              |\n",
      "|    approx_kl            | 0.0056452653 |\n",
      "|    clip_fraction        | 0.0333       |\n",
      "|    clip_range           | 0.2          |\n",
      "|    entropy_loss         | -0.643       |\n",
      "|    explained_variance   | 9.78e-06     |\n",
      "|    learning_rate        | 0.0003       |\n",
      "|    loss                 | 7.58e+03     |\n",
      "|    n_updates            | 150          |\n",
      "|    policy_gradient_loss | -0.00402     |\n",
      "|    value_loss           | 1.66e+04     |\n",
      "------------------------------------------\n",
      "********************* Finish *********************\n",
      "********************* Finish *********************\n",
      "********************* Finish *********************\n",
      "********************* Finish *********************\n",
      "********************* Finish *********************\n",
      "********************* Finish *********************\n",
      "********************* Finish *********************\n",
      "********************* Finish *********************\n",
      "********************* Finish *********************\n",
      "********************* Finish *********************\n",
      "********************* Finish *********************\n",
      "********************* Finish *********************\n",
      "********************* Finish *********************\n",
      "********************* Finish *********************\n",
      "********************* Finish *********************\n",
      "********************* Finish *********************\n",
      "********************* Finish *********************\n",
      "********************* Finish *********************\n",
      "********************* Finish *********************\n",
      "********************* Finish *********************\n",
      "********************* Finish *********************\n",
      "********************* Finish *********************\n",
      "********************* Finish *********************\n",
      "********************* Finish *********************\n",
      "********************* Finish *********************\n",
      "********************* Finish *********************\n",
      "********************* Finish *********************\n",
      "********************* Finish *********************\n",
      "********************* Finish *********************\n",
      "********************* Finish *********************\n",
      "********************* Finish *********************\n",
      "********************* Finish *********************\n",
      "********************* Finish *********************\n",
      "********************* Finish *********************\n",
      "********************* Finish *********************\n",
      "********************* Finish *********************\n",
      "********************* Finish *********************\n",
      "********************* Finish *********************\n",
      "********************* Finish *********************\n",
      "********************* Finish *********************\n",
      "********************* Finish *********************\n",
      "********************* Finish *********************\n",
      "********************* Finish *********************\n",
      "********************* Finish *********************\n",
      "********************* Finish *********************\n",
      "********************* Finish *********************\n",
      "********************* Finish *********************\n",
      "********************* Finish *********************\n",
      "********************* Finish *********************\n",
      "********************* Finish *********************\n",
      "********************* Finish *********************\n",
      "********************* Finish *********************\n",
      "********************* Finish *********************\n",
      "********************* Finish *********************\n",
      "********************* Finish *********************\n",
      "********************* Finish *********************\n",
      "********************* Finish *********************\n",
      "********************* Finish *********************\n",
      "********************* Finish *********************\n",
      "********************* Finish *********************\n",
      "********************* Finish *********************\n",
      "********************* Finish *********************\n",
      "********************* Finish *********************\n",
      "********************* Finish *********************\n",
      "------------------------------------------\n",
      "| rollout/                |              |\n",
      "|    ep_len_mean          | 32.1         |\n",
      "|    ep_rew_mean          | 532          |\n",
      "| time/                   |              |\n",
      "|    fps                  | 1262         |\n",
      "|    iterations           | 17           |\n",
      "|    time_elapsed         | 27           |\n",
      "|    total_timesteps      | 34816        |\n",
      "| train/                  |              |\n",
      "|    approx_kl            | 0.0018543819 |\n",
      "|    clip_fraction        | 0.00513      |\n",
      "|    clip_range           | 0.2          |\n",
      "|    entropy_loss         | -0.637       |\n",
      "|    explained_variance   | 9.89e-06     |\n",
      "|    learning_rate        | 0.0003       |\n",
      "|    loss                 | 6.36e+03     |\n",
      "|    n_updates            | 160          |\n",
      "|    policy_gradient_loss | -0.00242     |\n",
      "|    value_loss           | 1.59e+04     |\n",
      "------------------------------------------\n",
      "********************* Finish *********************\n",
      "********************* Finish *********************\n",
      "********************* Finish *********************\n",
      "********************* Finish *********************\n",
      "********************* Finish *********************\n",
      "********************* Finish *********************\n",
      "********************* Finish *********************\n",
      "********************* Finish *********************\n",
      "********************* Finish *********************\n",
      "********************* Finish *********************\n",
      "********************* Finish *********************\n",
      "********************* Finish *********************\n",
      "********************* Finish *********************\n",
      "********************* Finish *********************\n",
      "********************* Finish *********************\n",
      "********************* Finish *********************\n",
      "********************* Finish *********************\n",
      "********************* Finish *********************\n",
      "********************* Finish *********************\n",
      "********************* Finish *********************\n",
      "********************* Finish *********************\n",
      "********************* Finish *********************\n",
      "********************* Finish *********************\n",
      "********************* Finish *********************\n",
      "********************* Finish *********************\n",
      "********************* Finish *********************\n",
      "********************* Finish *********************\n",
      "********************* Finish *********************\n",
      "********************* Finish *********************\n",
      "********************* Finish *********************\n",
      "********************* Finish *********************\n",
      "********************* Finish *********************\n",
      "********************* Finish *********************\n",
      "********************* Finish *********************\n",
      "********************* Finish *********************\n",
      "********************* Finish *********************\n",
      "********************* Finish *********************\n",
      "********************* Finish *********************\n",
      "********************* Finish *********************\n",
      "********************* Finish *********************\n",
      "********************* Finish *********************\n",
      "********************* Finish *********************\n",
      "********************* Finish *********************\n",
      "********************* Finish *********************\n",
      "********************* Finish *********************\n",
      "********************* Finish *********************\n",
      "********************* Finish *********************\n",
      "********************* Finish *********************\n",
      "********************* Finish *********************\n",
      "********************* Finish *********************\n",
      "********************* Finish *********************\n",
      "********************* Finish *********************\n",
      "********************* Finish *********************\n",
      "********************* Finish *********************\n",
      "********************* Finish *********************\n",
      "********************* Finish *********************\n",
      "********************* Finish *********************\n",
      "********************* Finish *********************\n",
      "********************* Finish *********************\n",
      "********************* Finish *********************\n",
      "********************* Finish *********************\n",
      "********************* Finish *********************\n",
      "********************* Finish *********************\n",
      "********************* Finish *********************\n",
      "********************* Finish *********************\n",
      "********************* Finish *********************\n",
      "********************* Finish *********************\n",
      "********************* Finish *********************\n",
      "-----------------------------------------\n",
      "| rollout/                |             |\n",
      "|    ep_len_mean          | 31          |\n",
      "|    ep_rew_mean          | 530         |\n",
      "| time/                   |             |\n",
      "|    fps                  | 1264        |\n",
      "|    iterations           | 18          |\n",
      "|    time_elapsed         | 29          |\n",
      "|    total_timesteps      | 36864       |\n",
      "| train/                  |             |\n",
      "|    approx_kl            | 0.003686131 |\n",
      "|    clip_fraction        | 0.0171      |\n",
      "|    clip_range           | 0.2         |\n",
      "|    entropy_loss         | -0.62       |\n",
      "|    explained_variance   | 8.82e-06    |\n",
      "|    learning_rate        | 0.0003      |\n",
      "|    loss                 | 7.97e+03    |\n",
      "|    n_updates            | 170         |\n",
      "|    policy_gradient_loss | -0.00361    |\n",
      "|    value_loss           | 1.5e+04     |\n",
      "-----------------------------------------\n",
      "********************* Finish *********************\n",
      "********************* Finish *********************\n",
      "********************* Finish *********************\n",
      "********************* Finish *********************\n",
      "********************* Finish *********************\n",
      "********************* Finish *********************\n",
      "********************* Finish *********************\n",
      "********************* Finish *********************\n",
      "********************* Finish *********************\n",
      "********************* Finish *********************\n",
      "********************* Finish *********************\n",
      "********************* Finish *********************\n",
      "********************* Finish *********************\n",
      "********************* Finish *********************\n",
      "********************* Finish *********************\n",
      "********************* Finish *********************\n",
      "********************* Finish *********************\n",
      "********************* Finish *********************\n",
      "********************* Finish *********************\n",
      "********************* Finish *********************\n",
      "********************* Finish *********************\n",
      "********************* Finish *********************\n",
      "********************* Finish *********************\n",
      "********************* Finish *********************\n",
      "********************* Finish *********************\n",
      "********************* Finish *********************\n",
      "********************* Finish *********************\n",
      "********************* Finish *********************\n",
      "********************* Finish *********************\n",
      "********************* Finish *********************\n",
      "********************* Finish *********************\n",
      "********************* Finish *********************\n",
      "********************* Finish *********************\n",
      "********************* Finish *********************\n",
      "********************* Finish *********************\n",
      "********************* Finish *********************\n",
      "********************* Finish *********************\n",
      "********************* Finish *********************\n",
      "********************* Finish *********************\n",
      "********************* Finish *********************\n",
      "********************* Finish *********************\n",
      "********************* Finish *********************\n",
      "********************* Finish *********************\n",
      "********************* Finish *********************\n",
      "********************* Finish *********************\n",
      "********************* Finish *********************\n",
      "********************* Finish *********************\n",
      "********************* Finish *********************\n",
      "********************* Finish *********************\n",
      "********************* Finish *********************\n",
      "********************* Finish *********************\n",
      "********************* Finish *********************\n",
      "********************* Finish *********************\n",
      "********************* Finish *********************\n",
      "********************* Finish *********************\n",
      "********************* Finish *********************\n",
      "********************* Finish *********************\n",
      "********************* Finish *********************\n",
      "********************* Finish *********************\n",
      "********************* Finish *********************\n",
      "********************* Finish *********************\n",
      "********************* Finish *********************\n",
      "********************* Finish *********************\n",
      "********************* Finish *********************\n",
      "********************* Finish *********************\n",
      "********************* Finish *********************\n",
      "********************* Finish *********************\n",
      "********************* Finish *********************\n",
      "********************* Finish *********************\n",
      "-----------------------------------------\n",
      "| rollout/                |             |\n",
      "|    ep_len_mean          | 30.1        |\n",
      "|    ep_rew_mean          | 527         |\n",
      "| time/                   |             |\n",
      "|    fps                  | 1266        |\n",
      "|    iterations           | 19          |\n",
      "|    time_elapsed         | 30          |\n",
      "|    total_timesteps      | 38912       |\n",
      "| train/                  |             |\n",
      "|    approx_kl            | 0.004150236 |\n",
      "|    clip_fraction        | 0.0287      |\n",
      "|    clip_range           | 0.2         |\n",
      "|    entropy_loss         | -0.58       |\n",
      "|    explained_variance   | 7.63e-06    |\n",
      "|    learning_rate        | 0.0003      |\n",
      "|    loss                 | 6.76e+03    |\n",
      "|    n_updates            | 180         |\n",
      "|    policy_gradient_loss | -0.00517    |\n",
      "|    value_loss           | 1.52e+04    |\n",
      "-----------------------------------------\n",
      "********************* Finish *********************\n",
      "********************* Finish *********************\n",
      "********************* Finish *********************\n",
      "********************* Finish *********************\n",
      "********************* Finish *********************\n",
      "********************* Finish *********************\n",
      "********************* Finish *********************\n",
      "********************* Finish *********************\n",
      "********************* Finish *********************\n",
      "********************* Finish *********************\n",
      "********************* Finish *********************\n",
      "********************* Finish *********************\n",
      "********************* Finish *********************\n",
      "********************* Finish *********************\n",
      "********************* Finish *********************\n",
      "********************* Finish *********************\n",
      "********************* Finish *********************\n",
      "********************* Finish *********************\n",
      "********************* Finish *********************\n",
      "********************* Finish *********************\n",
      "********************* Finish *********************\n",
      "********************* Finish *********************\n",
      "********************* Finish *********************\n",
      "********************* Finish *********************\n",
      "********************* Finish *********************\n",
      "********************* Finish *********************\n",
      "********************* Finish *********************\n",
      "********************* Finish *********************\n",
      "********************* Finish *********************\n",
      "********************* Finish *********************\n",
      "********************* Finish *********************\n",
      "********************* Finish *********************\n",
      "********************* Finish *********************\n",
      "********************* Finish *********************\n",
      "********************* Finish *********************\n",
      "********************* Finish *********************\n",
      "********************* Finish *********************\n",
      "********************* Finish *********************\n",
      "********************* Finish *********************\n",
      "********************* Finish *********************\n",
      "********************* Finish *********************\n",
      "********************* Finish *********************\n",
      "********************* Finish *********************\n",
      "********************* Finish *********************\n",
      "********************* Finish *********************\n",
      "********************* Finish *********************\n",
      "********************* Finish *********************\n",
      "********************* Finish *********************\n",
      "********************* Finish *********************\n",
      "********************* Finish *********************\n",
      "********************* Finish *********************\n",
      "********************* Finish *********************\n",
      "********************* Finish *********************\n",
      "********************* Finish *********************\n",
      "********************* Finish *********************\n",
      "********************* Finish *********************\n",
      "********************* Finish *********************\n",
      "********************* Finish *********************\n",
      "********************* Finish *********************\n",
      "********************* Finish *********************\n",
      "********************* Finish *********************\n",
      "********************* Finish *********************\n",
      "********************* Finish *********************\n",
      "********************* Finish *********************\n",
      "********************* Finish *********************\n",
      "********************* Finish *********************\n",
      "********************* Finish *********************\n",
      "********************* Finish *********************\n",
      "------------------------------------------\n",
      "| rollout/                |              |\n",
      "|    ep_len_mean          | 30           |\n",
      "|    ep_rew_mean          | 526          |\n",
      "| time/                   |              |\n",
      "|    fps                  | 1270         |\n",
      "|    iterations           | 20           |\n",
      "|    time_elapsed         | 32           |\n",
      "|    total_timesteps      | 40960        |\n",
      "| train/                  |              |\n",
      "|    approx_kl            | 0.0020835008 |\n",
      "|    clip_fraction        | 0.00903      |\n",
      "|    clip_range           | 0.2          |\n",
      "|    entropy_loss         | -0.551       |\n",
      "|    explained_variance   | 5.78e-06     |\n",
      "|    learning_rate        | 0.0003       |\n",
      "|    loss                 | 6.46e+03     |\n",
      "|    n_updates            | 190          |\n",
      "|    policy_gradient_loss | -0.00186     |\n",
      "|    value_loss           | 1.46e+04     |\n",
      "------------------------------------------\n",
      "********************* Finish *********************\n",
      "********************* Finish *********************\n",
      "********************* Finish *********************\n",
      "********************* Finish *********************\n",
      "********************* Finish *********************\n",
      "********************* Finish *********************\n",
      "********************* Finish *********************\n",
      "********************* Finish *********************\n",
      "********************* Finish *********************\n",
      "********************* Finish *********************\n",
      "********************* Finish *********************\n",
      "********************* Finish *********************\n",
      "********************* Finish *********************\n",
      "********************* Finish *********************\n",
      "********************* Finish *********************\n",
      "********************* Finish *********************\n",
      "********************* Finish *********************\n",
      "********************* Finish *********************\n",
      "********************* Finish *********************\n",
      "********************* Finish *********************\n",
      "********************* Finish *********************\n",
      "********************* Finish *********************\n",
      "********************* Finish *********************\n",
      "********************* Finish *********************\n",
      "********************* Finish *********************\n",
      "********************* Finish *********************\n",
      "********************* Finish *********************\n",
      "********************* Finish *********************\n",
      "********************* Finish *********************\n",
      "********************* Finish *********************\n",
      "********************* Finish *********************\n",
      "********************* Finish *********************\n",
      "********************* Finish *********************\n",
      "********************* Finish *********************\n",
      "********************* Finish *********************\n",
      "********************* Finish *********************\n",
      "********************* Finish *********************\n",
      "********************* Finish *********************\n",
      "********************* Finish *********************\n",
      "********************* Finish *********************\n",
      "********************* Finish *********************\n",
      "********************* Finish *********************\n",
      "********************* Finish *********************\n",
      "********************* Finish *********************\n",
      "********************* Finish *********************\n",
      "********************* Finish *********************\n",
      "********************* Finish *********************\n",
      "********************* Finish *********************\n",
      "********************* Finish *********************\n",
      "********************* Finish *********************\n",
      "********************* Finish *********************\n",
      "********************* Finish *********************\n",
      "********************* Finish *********************\n",
      "********************* Finish *********************\n",
      "********************* Finish *********************\n",
      "********************* Finish *********************\n",
      "********************* Finish *********************\n",
      "********************* Finish *********************\n",
      "********************* Finish *********************\n",
      "********************* Finish *********************\n",
      "********************* Finish *********************\n",
      "********************* Finish *********************\n",
      "********************* Finish *********************\n",
      "********************* Finish *********************\n",
      "********************* Finish *********************\n",
      "********************* Finish *********************\n",
      "********************* Finish *********************\n",
      "------------------------------------------\n",
      "| rollout/                |              |\n",
      "|    ep_len_mean          | 30.3         |\n",
      "|    ep_rew_mean          | 524          |\n",
      "| time/                   |              |\n",
      "|    fps                  | 1274         |\n",
      "|    iterations           | 21           |\n",
      "|    time_elapsed         | 33           |\n",
      "|    total_timesteps      | 43008        |\n",
      "| train/                  |              |\n",
      "|    approx_kl            | 0.0047423886 |\n",
      "|    clip_fraction        | 0.0175       |\n",
      "|    clip_range           | 0.2          |\n",
      "|    entropy_loss         | -0.533       |\n",
      "|    explained_variance   | 5.19e-06     |\n",
      "|    learning_rate        | 0.0003       |\n",
      "|    loss                 | 7.31e+03     |\n",
      "|    n_updates            | 200          |\n",
      "|    policy_gradient_loss | -0.00391     |\n",
      "|    value_loss           | 1.4e+04      |\n",
      "------------------------------------------\n",
      "********************* Finish *********************\n",
      "********************* Finish *********************\n",
      "********************* Finish *********************\n",
      "********************* Finish *********************\n",
      "********************* Finish *********************\n",
      "********************* Finish *********************\n",
      "********************* Finish *********************\n",
      "********************* Finish *********************\n",
      "********************* Finish *********************\n",
      "********************* Finish *********************\n",
      "********************* Finish *********************\n",
      "********************* Finish *********************\n",
      "********************* Finish *********************\n",
      "********************* Finish *********************\n",
      "********************* Finish *********************\n",
      "********************* Finish *********************\n",
      "********************* Finish *********************\n",
      "********************* Finish *********************\n",
      "********************* Finish *********************\n",
      "********************* Finish *********************\n",
      "********************* Finish *********************\n",
      "********************* Finish *********************\n",
      "********************* Finish *********************\n",
      "********************* Finish *********************\n",
      "********************* Finish *********************\n",
      "********************* Finish *********************\n",
      "********************* Finish *********************\n",
      "********************* Finish *********************\n",
      "********************* Finish *********************\n",
      "********************* Finish *********************\n",
      "********************* Finish *********************\n",
      "********************* Finish *********************\n",
      "********************* Finish *********************\n",
      "********************* Finish *********************\n",
      "********************* Finish *********************\n",
      "********************* Finish *********************\n",
      "********************* Finish *********************\n",
      "********************* Finish *********************\n",
      "********************* Finish *********************\n",
      "********************* Finish *********************\n",
      "********************* Finish *********************\n",
      "********************* Finish *********************\n",
      "********************* Finish *********************\n",
      "********************* Finish *********************\n",
      "********************* Finish *********************\n",
      "********************* Finish *********************\n",
      "********************* Finish *********************\n",
      "********************* Finish *********************\n",
      "********************* Finish *********************\n",
      "********************* Finish *********************\n",
      "********************* Finish *********************\n",
      "********************* Finish *********************\n",
      "********************* Finish *********************\n",
      "********************* Finish *********************\n",
      "********************* Finish *********************\n",
      "********************* Finish *********************\n",
      "********************* Finish *********************\n",
      "********************* Finish *********************\n",
      "********************* Finish *********************\n",
      "********************* Finish *********************\n",
      "********************* Finish *********************\n",
      "********************* Finish *********************\n",
      "********************* Finish *********************\n",
      "********************* Finish *********************\n",
      "********************* Finish *********************\n",
      "********************* Finish *********************\n",
      "********************* Finish *********************\n",
      "********************* Finish *********************\n",
      "********************* Finish *********************\n",
      "------------------------------------------\n",
      "| rollout/                |              |\n",
      "|    ep_len_mean          | 29.9         |\n",
      "|    ep_rew_mean          | 527          |\n",
      "| time/                   |              |\n",
      "|    fps                  | 1276         |\n",
      "|    iterations           | 22           |\n",
      "|    time_elapsed         | 35           |\n",
      "|    total_timesteps      | 45056        |\n",
      "| train/                  |              |\n",
      "|    approx_kl            | 0.0054031787 |\n",
      "|    clip_fraction        | 0.028        |\n",
      "|    clip_range           | 0.2          |\n",
      "|    entropy_loss         | -0.545       |\n",
      "|    explained_variance   | 3.04e-06     |\n",
      "|    learning_rate        | 0.0003       |\n",
      "|    loss                 | 7.6e+03      |\n",
      "|    n_updates            | 210          |\n",
      "|    policy_gradient_loss | -0.00396     |\n",
      "|    value_loss           | 1.31e+04     |\n",
      "------------------------------------------\n",
      "********************* Finish *********************\n",
      "********************* Finish *********************\n",
      "********************* Finish *********************\n",
      "********************* Finish *********************\n",
      "********************* Finish *********************\n",
      "********************* Finish *********************\n",
      "********************* Finish *********************\n",
      "********************* Finish *********************\n",
      "********************* Finish *********************\n",
      "********************* Finish *********************\n",
      "********************* Finish *********************\n",
      "********************* Finish *********************\n",
      "********************* Finish *********************\n",
      "********************* Finish *********************\n",
      "********************* Finish *********************\n",
      "********************* Finish *********************\n",
      "********************* Finish *********************\n",
      "********************* Finish *********************\n",
      "********************* Finish *********************\n",
      "********************* Finish *********************\n",
      "********************* Finish *********************\n",
      "********************* Finish *********************\n",
      "********************* Finish *********************\n",
      "********************* Finish *********************\n",
      "********************* Finish *********************\n",
      "********************* Finish *********************\n",
      "********************* Finish *********************\n",
      "********************* Finish *********************\n",
      "********************* Finish *********************\n",
      "********************* Finish *********************\n",
      "********************* Finish *********************\n",
      "********************* Finish *********************\n",
      "********************* Finish *********************\n",
      "********************* Finish *********************\n",
      "********************* Finish *********************\n",
      "********************* Finish *********************\n",
      "********************* Finish *********************\n",
      "********************* Finish *********************\n",
      "********************* Finish *********************\n",
      "********************* Finish *********************\n",
      "********************* Finish *********************\n",
      "********************* Finish *********************\n",
      "********************* Finish *********************\n",
      "********************* Finish *********************\n",
      "********************* Finish *********************\n",
      "********************* Finish *********************\n",
      "********************* Finish *********************\n",
      "********************* Finish *********************\n",
      "********************* Finish *********************\n",
      "********************* Finish *********************\n",
      "********************* Finish *********************\n",
      "********************* Finish *********************\n",
      "********************* Finish *********************\n",
      "********************* Finish *********************\n",
      "********************* Finish *********************\n",
      "********************* Finish *********************\n",
      "********************* Finish *********************\n",
      "********************* Finish *********************\n",
      "********************* Finish *********************\n",
      "********************* Finish *********************\n",
      "********************* Finish *********************\n",
      "********************* Finish *********************\n",
      "********************* Finish *********************\n",
      "********************* Finish *********************\n",
      "********************* Finish *********************\n",
      "********************* Finish *********************\n",
      "********************* Finish *********************\n",
      "********************* Finish *********************\n",
      "********************* Finish *********************\n",
      "------------------------------------------\n",
      "| rollout/                |              |\n",
      "|    ep_len_mean          | 29.7         |\n",
      "|    ep_rew_mean          | 526          |\n",
      "| time/                   |              |\n",
      "|    fps                  | 1279         |\n",
      "|    iterations           | 23           |\n",
      "|    time_elapsed         | 36           |\n",
      "|    total_timesteps      | 47104        |\n",
      "| train/                  |              |\n",
      "|    approx_kl            | 0.0049275197 |\n",
      "|    clip_fraction        | 0.0169       |\n",
      "|    clip_range           | 0.2          |\n",
      "|    entropy_loss         | -0.527       |\n",
      "|    explained_variance   | 3.81e-06     |\n",
      "|    learning_rate        | 0.0003       |\n",
      "|    loss                 | 7.11e+03     |\n",
      "|    n_updates            | 220          |\n",
      "|    policy_gradient_loss | -0.00232     |\n",
      "|    value_loss           | 1.3e+04      |\n",
      "------------------------------------------\n",
      "********************* Finish *********************\n",
      "********************* Finish *********************\n",
      "********************* Finish *********************\n",
      "********************* Finish *********************\n",
      "********************* Finish *********************\n",
      "********************* Finish *********************\n",
      "********************* Finish *********************\n",
      "********************* Finish *********************\n",
      "********************* Finish *********************\n",
      "********************* Finish *********************\n",
      "********************* Finish *********************\n",
      "********************* Finish *********************\n",
      "********************* Finish *********************\n",
      "********************* Finish *********************\n",
      "********************* Finish *********************\n",
      "********************* Finish *********************\n",
      "********************* Finish *********************\n",
      "********************* Finish *********************\n",
      "********************* Finish *********************\n",
      "********************* Finish *********************\n",
      "********************* Finish *********************\n",
      "********************* Finish *********************\n",
      "********************* Finish *********************\n",
      "********************* Finish *********************\n",
      "********************* Finish *********************\n",
      "********************* Finish *********************\n",
      "********************* Finish *********************\n",
      "********************* Finish *********************\n",
      "********************* Finish *********************\n",
      "********************* Finish *********************\n",
      "********************* Finish *********************\n",
      "********************* Finish *********************\n",
      "********************* Finish *********************\n",
      "********************* Finish *********************\n",
      "********************* Finish *********************\n",
      "********************* Finish *********************\n",
      "********************* Finish *********************\n",
      "********************* Finish *********************\n",
      "********************* Finish *********************\n",
      "********************* Finish *********************\n",
      "********************* Finish *********************\n",
      "********************* Finish *********************\n",
      "********************* Finish *********************\n",
      "********************* Finish *********************\n",
      "********************* Finish *********************\n",
      "********************* Finish *********************\n",
      "********************* Finish *********************\n",
      "********************* Finish *********************\n",
      "********************* Finish *********************\n",
      "********************* Finish *********************\n",
      "********************* Finish *********************\n",
      "********************* Finish *********************\n",
      "********************* Finish *********************\n",
      "********************* Finish *********************\n",
      "********************* Finish *********************\n",
      "********************* Finish *********************\n",
      "********************* Finish *********************\n",
      "********************* Finish *********************\n",
      "********************* Finish *********************\n",
      "********************* Finish *********************\n",
      "********************* Finish *********************\n",
      "********************* Finish *********************\n",
      "********************* Finish *********************\n",
      "********************* Finish *********************\n",
      "********************* Finish *********************\n",
      "********************* Finish *********************\n",
      "------------------------------------------\n",
      "| rollout/                |              |\n",
      "|    ep_len_mean          | 30.4         |\n",
      "|    ep_rew_mean          | 528          |\n",
      "| time/                   |              |\n",
      "|    fps                  | 1280         |\n",
      "|    iterations           | 24           |\n",
      "|    time_elapsed         | 38           |\n",
      "|    total_timesteps      | 49152        |\n",
      "| train/                  |              |\n",
      "|    approx_kl            | 0.0058383504 |\n",
      "|    clip_fraction        | 0.0288       |\n",
      "|    clip_range           | 0.2          |\n",
      "|    entropy_loss         | -0.535       |\n",
      "|    explained_variance   | 2.68e-06     |\n",
      "|    learning_rate        | 0.0003       |\n",
      "|    loss                 | 5.2e+03      |\n",
      "|    n_updates            | 230          |\n",
      "|    policy_gradient_loss | -0.00343     |\n",
      "|    value_loss           | 1.25e+04     |\n",
      "------------------------------------------\n",
      "********************* Finish *********************\n",
      "********************* Finish *********************\n",
      "********************* Finish *********************\n",
      "********************* Finish *********************\n",
      "********************* Finish *********************\n",
      "********************* Finish *********************\n",
      "********************* Finish *********************\n",
      "********************* Finish *********************\n",
      "********************* Finish *********************\n",
      "********************* Finish *********************\n",
      "********************* Finish *********************\n",
      "********************* Finish *********************\n",
      "********************* Finish *********************\n",
      "********************* Finish *********************\n",
      "********************* Finish *********************\n",
      "********************* Finish *********************\n",
      "********************* Finish *********************\n",
      "********************* Finish *********************\n",
      "********************* Finish *********************\n",
      "********************* Finish *********************\n",
      "********************* Finish *********************\n",
      "********************* Finish *********************\n",
      "********************* Finish *********************\n",
      "********************* Finish *********************\n",
      "********************* Finish *********************\n",
      "********************* Finish *********************\n",
      "********************* Finish *********************\n",
      "********************* Finish *********************\n",
      "********************* Finish *********************\n",
      "********************* Finish *********************\n",
      "********************* Finish *********************\n",
      "********************* Finish *********************\n",
      "********************* Finish *********************\n",
      "********************* Finish *********************\n",
      "********************* Finish *********************\n",
      "********************* Finish *********************\n",
      "********************* Finish *********************\n",
      "********************* Finish *********************\n",
      "********************* Finish *********************\n",
      "********************* Finish *********************\n",
      "********************* Finish *********************\n",
      "********************* Finish *********************\n",
      "********************* Finish *********************\n",
      "********************* Finish *********************\n",
      "********************* Finish *********************\n",
      "********************* Finish *********************\n",
      "********************* Finish *********************\n",
      "********************* Finish *********************\n",
      "********************* Finish *********************\n",
      "********************* Finish *********************\n",
      "********************* Finish *********************\n",
      "********************* Finish *********************\n",
      "********************* Finish *********************\n",
      "********************* Finish *********************\n",
      "********************* Finish *********************\n",
      "********************* Finish *********************\n",
      "********************* Finish *********************\n",
      "********************* Finish *********************\n",
      "********************* Finish *********************\n",
      "********************* Finish *********************\n",
      "********************* Finish *********************\n",
      "********************* Finish *********************\n",
      "********************* Finish *********************\n",
      "********************* Finish *********************\n",
      "********************* Finish *********************\n",
      "********************* Finish *********************\n",
      "********************* Finish *********************\n",
      "********************* Finish *********************\n",
      "********************* Finish *********************\n",
      "-----------------------------------------\n",
      "| rollout/                |             |\n",
      "|    ep_len_mean          | 30          |\n",
      "|    ep_rew_mean          | 526         |\n",
      "| time/                   |             |\n",
      "|    fps                  | 1282        |\n",
      "|    iterations           | 25          |\n",
      "|    time_elapsed         | 39          |\n",
      "|    total_timesteps      | 51200       |\n",
      "| train/                  |             |\n",
      "|    approx_kl            | 0.007900601 |\n",
      "|    clip_fraction        | 0.062       |\n",
      "|    clip_range           | 0.2         |\n",
      "|    entropy_loss         | -0.538      |\n",
      "|    explained_variance   | 2.74e-06    |\n",
      "|    learning_rate        | 0.0003      |\n",
      "|    loss                 | 4.83e+03    |\n",
      "|    n_updates            | 240         |\n",
      "|    policy_gradient_loss | -0.00639    |\n",
      "|    value_loss           | 1.16e+04    |\n",
      "-----------------------------------------\n"
     ]
    }
   ],
   "source": [
    "start_time = time.time()\n",
    "# Train the agent\n",
    "model = PPO('MlpPolicy', env, verbose=1).learn(50000)\n",
    "finish_time = time.time()"
   ]
  },
  {
   "cell_type": "code",
   "execution_count": 58,
   "id": "ed53771f-3b45-47a0-b882-b35a4b87c45a",
   "metadata": {
    "tags": []
   },
   "outputs": [
    {
     "name": "stdout",
     "output_type": "stream",
     "text": [
      "Step 1\n",
      "Action:  0\n",
      "obs= [5 0] reward= 20 done= False\n",
      "So far, the bins is [0, 0, 0, 0, 1, 9, 0, 0, 0, 0] \n",
      "Current in pos: 5\n",
      "                o             \n",
      "                o             \n",
      "                o             \n",
      "                o             \n",
      "                o             \n",
      "                o             \n",
      "                o             \n",
      "                o             \n",
      "| || || || ||o||o|| || || || |\n",
      "``````````````````````````````\n",
      "\n",
      "\n",
      "Step 2\n",
      "Action:  1\n",
      "obs= [5 1] reward= 15 done= False\n",
      "So far, the bins is [0, 0, 0, 0, 1, 8, 1, 0, 0, 0] \n",
      "Current in pos: 5\n",
      "                o             \n",
      "                o             \n",
      "                o             \n",
      "                o             \n",
      "                o             \n",
      "                o             \n",
      "                o             \n",
      "| || || || ||o||o||o|| || || |\n",
      "``````````````````````````````\n",
      "\n",
      "\n",
      "Step 3\n",
      "Action:  0\n",
      "obs= [4 0] reward= 20 done= False\n",
      "So far, the bins is [0, 0, 0, 0, 2, 7, 1, 0, 0, 0] \n",
      "Current in pos: 4\n",
      "                o             \n",
      "                o             \n",
      "                o             \n",
      "                o             \n",
      "                o             \n",
      "             o  o             \n",
      "| || || || ||o||o||o|| || || |\n",
      "``````````````````````````````\n",
      "\n",
      "\n",
      "Step 4\n",
      "Action:  0\n",
      "obs= [5 0] reward= 20 done= False\n",
      "So far, the bins is [0, 0, 0, 1, 1, 7, 1, 0, 0, 0] \n",
      "Current in pos: 5\n",
      "                o             \n",
      "                o             \n",
      "                o             \n",
      "                o             \n",
      "                o             \n",
      "                o             \n",
      "| || || ||o||o||o||o|| || || |\n",
      "``````````````````````````````\n",
      "\n",
      "\n",
      "Step 5\n",
      "Action:  1\n",
      "obs= [6 1] reward= 15 done= False\n",
      "So far, the bins is [0, 0, 0, 1, 1, 6, 2, 0, 0, 0] \n",
      "Current in pos: 6\n",
      "                o             \n",
      "                o             \n",
      "                o             \n",
      "                o             \n",
      "                o  o          \n",
      "| || || ||o||o||o||o|| || || |\n",
      "``````````````````````````````\n",
      "\n",
      "\n",
      "Step 6\n",
      "Action:  1\n",
      "obs= [5 1] reward= 15 done= False\n",
      "So far, the bins is [0, 0, 0, 1, 1, 6, 1, 1, 0, 0] \n",
      "Current in pos: 5\n",
      "                o             \n",
      "                o             \n",
      "                o             \n",
      "                o             \n",
      "                o             \n",
      "| || || ||o||o||o||o||o|| || |\n",
      "``````````````````````````````\n",
      "\n",
      "\n",
      "Step 7\n",
      "Action:  0\n",
      "obs= [4 0] reward= 20 done= False\n",
      "So far, the bins is [0, 0, 0, 1, 2, 5, 1, 1, 0, 0] \n",
      "Current in pos: 4\n",
      "                o             \n",
      "                o             \n",
      "                o             \n",
      "             o  o             \n",
      "| || || ||o||o||o||o||o|| || |\n",
      "``````````````````````````````\n",
      "\n",
      "\n",
      "Step 8\n",
      "Action:  0\n",
      "obs= [3 0] reward= 20 done= False\n",
      "So far, the bins is [0, 0, 0, 2, 1, 5, 1, 1, 0, 0] \n",
      "Current in pos: 3\n",
      "                o             \n",
      "                o             \n",
      "                o             \n",
      "          o     o             \n",
      "| || || ||o||o||o||o||o|| || |\n",
      "``````````````````````````````\n",
      "\n",
      "\n",
      "Step 9\n",
      "Action:  0\n",
      "obs= [5 0] reward= 20 done= False\n",
      "So far, the bins is [0, 0, 1, 1, 1, 5, 1, 1, 0, 0] \n",
      "Current in pos: 5\n",
      "                o             \n",
      "                o             \n",
      "                o             \n",
      "                o             \n",
      "| || ||o||o||o||o||o||o|| || |\n",
      "``````````````````````````````\n",
      "\n",
      "\n",
      "Step 10\n",
      "Action:  1\n",
      "obs= [6 1] reward= 15 done= False\n",
      "So far, the bins is [0, 0, 1, 1, 1, 4, 2, 1, 0, 0] \n",
      "Current in pos: 6\n",
      "                o             \n",
      "                o             \n",
      "                o  o          \n",
      "| || ||o||o||o||o||o||o|| || |\n",
      "``````````````````````````````\n",
      "\n",
      "\n",
      "Step 11\n",
      "Action:  1\n",
      "obs= [7 1] reward= 15 done= False\n",
      "So far, the bins is [0, 0, 1, 1, 1, 4, 1, 2, 0, 0] \n",
      "Current in pos: 7\n",
      "                o             \n",
      "                o             \n",
      "                o     o       \n",
      "| || ||o||o||o||o||o||o|| || |\n",
      "``````````````````````````````\n",
      "\n",
      "\n",
      "Step 12\n",
      "Action:  1\n",
      "obs= [5 1] reward= 15 done= False\n",
      "So far, the bins is [0, 0, 1, 1, 1, 4, 1, 1, 1, 0] \n",
      "Current in pos: 5\n",
      "                o             \n",
      "                o             \n",
      "                o             \n",
      "| || ||o||o||o||o||o||o||o|| |\n",
      "``````````````````````````````\n",
      "\n",
      "\n",
      "Step 13\n",
      "Action:  0\n",
      "obs= [4 0] reward= 20 done= False\n",
      "So far, the bins is [0, 0, 1, 1, 2, 3, 1, 1, 1, 0] \n",
      "Current in pos: 4\n",
      "                o             \n",
      "             o  o             \n",
      "| || ||o||o||o||o||o||o||o|| |\n",
      "``````````````````````````````\n",
      "\n",
      "\n",
      "Step 14\n",
      "Action:  0\n",
      "obs= [3 0] reward= 20 done= False\n",
      "So far, the bins is [0, 0, 1, 2, 1, 3, 1, 1, 1, 0] \n",
      "Current in pos: 3\n",
      "                o             \n",
      "          o     o             \n",
      "| || ||o||o||o||o||o||o||o|| |\n",
      "``````````````````````````````\n",
      "\n",
      "\n",
      "Step 15\n",
      "Action:  0\n",
      "obs= [2 0] reward= 20 done= False\n",
      "So far, the bins is [0, 0, 2, 1, 1, 3, 1, 1, 1, 0] \n",
      "Current in pos: 2\n",
      "                o             \n",
      "       o        o             \n",
      "| || ||o||o||o||o||o||o||o|| |\n",
      "``````````````````````````````\n",
      "\n",
      "\n",
      "Step 16\n",
      "Action:  0\n",
      "obs= [5 0] reward= 20 done= False\n",
      "So far, the bins is [0, 1, 1, 1, 1, 3, 1, 1, 1, 0] \n",
      "Current in pos: 5\n",
      "                o             \n",
      "                o             \n",
      "| ||o||o||o||o||o||o||o||o|| |\n",
      "``````````````````````````````\n",
      "\n",
      "\n",
      "Step 17\n",
      "Action:  1\n",
      "obs= [6 1] reward= 15 done= False\n",
      "So far, the bins is [0, 1, 1, 1, 1, 2, 2, 1, 1, 0] \n",
      "Current in pos: 6\n",
      "                o  o          \n",
      "| ||o||o||o||o||o||o||o||o|| |\n",
      "``````````````````````````````\n",
      "\n",
      "\n",
      "Step 18\n",
      "Action:  1\n",
      "obs= [7 1] reward= 15 done= False\n",
      "So far, the bins is [0, 1, 1, 1, 1, 2, 1, 2, 1, 0] \n",
      "Current in pos: 7\n",
      "                o     o       \n",
      "| ||o||o||o||o||o||o||o||o|| |\n",
      "``````````````````````````````\n",
      "\n",
      "\n",
      "Step 19\n",
      "Action:  1\n",
      "obs= [8 1] reward= 15 done= False\n",
      "So far, the bins is [0, 1, 1, 1, 1, 2, 1, 1, 2, 0] \n",
      "Current in pos: 8\n",
      "                o        o    \n",
      "| ||o||o||o||o||o||o||o||o|| |\n",
      "``````````````````````````````\n",
      "\n",
      "\n",
      "Step 20\n",
      "Action:  1\n",
      "obs= [5 1] reward= 15 done= False\n",
      "So far, the bins is [0, 1, 1, 1, 1, 2, 1, 1, 1, 1] \n",
      "Current in pos: 5\n",
      "                o             \n",
      "| ||o||o||o||o||o||o||o||o||o|\n",
      "``````````````````````````````\n",
      "\n",
      "\n",
      "Step 21\n",
      "Action:  0\n",
      "obs= [4 0] reward= 20 done= False\n",
      "So far, the bins is [0, 1, 1, 1, 2, 1, 1, 1, 1, 1] \n",
      "Current in pos: 4\n",
      "             o                \n",
      "| ||o||o||o||o||o||o||o||o||o|\n",
      "``````````````````````````````\n",
      "\n",
      "\n",
      "Step 22\n",
      "Action:  0\n",
      "obs= [3 0] reward= 20 done= False\n",
      "So far, the bins is [0, 1, 1, 2, 1, 1, 1, 1, 1, 1] \n",
      "Current in pos: 3\n",
      "          o                   \n",
      "| ||o||o||o||o||o||o||o||o||o|\n",
      "``````````````````````````````\n",
      "\n",
      "\n",
      "Step 23\n",
      "Action:  0\n",
      "obs= [2 0] reward= 20 done= False\n",
      "So far, the bins is [0, 1, 2, 1, 1, 1, 1, 1, 1, 1] \n",
      "Current in pos: 2\n",
      "       o                      \n",
      "| ||o||o||o||o||o||o||o||o||o|\n",
      "``````````````````````````````\n",
      "\n",
      "\n",
      "Step 24\n",
      "Action:  0\n",
      "obs= [1 0] reward= 20 done= False\n",
      "So far, the bins is [0, 2, 1, 1, 1, 1, 1, 1, 1, 1] \n",
      "Current in pos: 1\n",
      "    o                         \n",
      "| ||o||o||o||o||o||o||o||o||o|\n",
      "``````````````````````````````\n",
      "\n",
      "\n",
      "Step 25\n",
      "Action:  0\n",
      "********************* Finish *********************\n",
      "obs= [5 0] reward= 100 done= True\n",
      "So far, the bins is [1, 1, 1, 1, 1, 1, 1, 1, 1, 1] \n",
      "Current in pos: 5\n",
      "|o||o||o||o||o||o||o||o||o||o|\n",
      "``````````````````````````````\n",
      "\n",
      "\n",
      "Goal reached! reward= 100\n"
     ]
    }
   ],
   "source": [
    "# Test the trained agent\n",
    "obs = env.reset()\n",
    "#env.render()\n",
    "step = 0\n",
    "for i in range(50):\n",
    "    action, _ = model.predict(obs, deterministic=True)\n",
    "    print(\"Step {}\".format(step + 1))\n",
    "    print(\"Action: \", action)\n",
    "    obs, reward, done, info = env.step(action)\n",
    "    print('obs=', obs, 'reward=', reward, 'done=', done)\n",
    "    env.render(mode='console')\n",
    "    if done:\n",
    "        # Note that the VecEnv resets automatically\n",
    "        # when a done signal is encountered\n",
    "        print(\"Goal reached!\", \"reward=\", reward)\n",
    "        break\n",
    "    step+=1"
   ]
  },
  {
   "cell_type": "markdown",
   "id": "38fad3be-d0e1-4d5f-8e24-776ef201f490",
   "metadata": {
    "tags": []
   },
   "source": [
    "## **Question 2c** \n",
    "**Compare the RL strategies PPO, DQN and A2C for this problem. Are they able to learn a consistent winning policy after (i) 50,000 episodes, (ii) 100,000 episodes and (iii) 200,000 episodes? Which policy learns the strategy quickest? Why do you think this is the case? [10 marks]**"
   ]
  },
  {
   "cell_type": "markdown",
   "id": "dcd0ebd2-a282-44dd-9688-c3f1dfe62f75",
   "metadata": {
    "tags": []
   },
   "source": [
    "### **PPO**\n",
    "#### (i) **50,000** episodes (~41s)"
   ]
  },
  {
   "cell_type": "code",
   "execution_count": 59,
   "id": "f69b1391-d0e2-4193-a2bc-d74026f0953b",
   "metadata": {},
   "outputs": [
    {
     "name": "stdout",
     "output_type": "stream",
     "text": [
      "PPO learn 50,000 episodes runtime: 40.55 seconds.\n"
     ]
    }
   ],
   "source": [
    "runtime = {}\n",
    "runtime['PPO 50,000 eps'] = finish_time - start_time\n",
    "print(\"PPO learn 50,000 episodes runtime: {} seconds.\".format(round(runtime['PPO 50,000 eps'], 2)))"
   ]
  },
  {
   "cell_type": "code",
   "execution_count": 60,
   "id": "514621b6-88f6-41d7-83bb-049dfb78e810",
   "metadata": {},
   "outputs": [
    {
     "name": "stdout",
     "output_type": "stream",
     "text": [
      "mean_reward=530.00 +/- 0.0\n"
     ]
    }
   ],
   "source": [
    "# Evaluate the policy\n",
    "mean_reward, std_reward = evaluate_policy(model.policy, model.get_env(), n_eval_episodes=100, deterministic=True)\n",
    "clear_output()\n",
    "print(f\"mean_reward={mean_reward:.2f} +/- {std_reward}\")"
   ]
  },
  {
   "cell_type": "markdown",
   "id": "c96387e2-fbca-404c-9c35-62dfb38523b8",
   "metadata": {
    "jp-MarkdownHeadingCollapsed": true,
    "tags": []
   },
   "source": [
    "#### (ii) **100,000** episodes (~80s)"
   ]
  },
  {
   "cell_type": "code",
   "execution_count": 61,
   "id": "0c62758a-50b6-457a-bd1f-cee5293292a3",
   "metadata": {
    "collapsed": true,
    "jupyter": {
     "outputs_hidden": true
    },
    "tags": []
   },
   "outputs": [],
   "source": [
    "# Train the agent\n",
    "start_time = time.time()\n",
    "model_PPO_100k = PPO('MlpPolicy', env, verbose=1).learn(100000)\n",
    "finish_time = time.time()\n",
    "clear_output()"
   ]
  },
  {
   "cell_type": "code",
   "execution_count": 62,
   "id": "eaeca2db-b8d2-4540-8d96-ee1120902190",
   "metadata": {},
   "outputs": [
    {
     "name": "stdout",
     "output_type": "stream",
     "text": [
      "PPO learn 100,000 episodes runtime: 80.0 seconds.\n"
     ]
    }
   ],
   "source": [
    "runtime['PPO 100,000 eps'] = finish_time - start_time\n",
    "print(\"PPO learn 100,000 episodes runtime: {} seconds.\".format(round(runtime['PPO 100,000 eps'], 2)))"
   ]
  },
  {
   "cell_type": "markdown",
   "id": "00936674-7fa9-47b3-af7e-1d8a4b26e565",
   "metadata": {
    "tags": []
   },
   "source": [
    "#### (iii) **200,000** episodes (~153s)"
   ]
  },
  {
   "cell_type": "code",
   "execution_count": 63,
   "id": "97ad7376-c006-466d-91f9-565dcb6d9ca5",
   "metadata": {
    "tags": []
   },
   "outputs": [],
   "source": [
    "# Train the agent\n",
    "start_time = time.time()\n",
    "model_PPO_200k = PPO('MlpPolicy', env, verbose=1).learn(200000)\n",
    "finish_time = time.time()\n",
    "clear_output()"
   ]
  },
  {
   "cell_type": "code",
   "execution_count": 64,
   "id": "f2046a1c-5288-492e-9b74-5228a069a4e3",
   "metadata": {},
   "outputs": [
    {
     "name": "stdout",
     "output_type": "stream",
     "text": [
      "PPO learn 200,000 episodes runtime: 152.64 seconds.\n"
     ]
    }
   ],
   "source": [
    "runtime['PPO 200,000 eps'] = finish_time - start_time\n",
    "print(\"PPO learn 200,000 episodes runtime: {} seconds.\".format(round(runtime['PPO 200,000 eps'], 2)))"
   ]
  },
  {
   "cell_type": "markdown",
   "id": "52adaed7-9c7d-41de-9c01-df1660ee0c48",
   "metadata": {
    "tags": []
   },
   "source": [
    "### **DQN**\n",
    "#### (i) **50,000** episodes (~6s)"
   ]
  },
  {
   "cell_type": "code",
   "execution_count": 65,
   "id": "7a474c85-c10b-4dde-8418-2dc5b1145550",
   "metadata": {
    "tags": []
   },
   "outputs": [],
   "source": [
    "# Train the agent\n",
    "start_time = time.time()\n",
    "model_DQN_50k = DQN('MlpPolicy', env, verbose=1).learn(50000)\n",
    "finish_time = time.time()\n",
    "clear_output()"
   ]
  },
  {
   "cell_type": "code",
   "execution_count": 66,
   "id": "c0a56da1-4e6d-4238-bb3e-ceb63d818e38",
   "metadata": {},
   "outputs": [
    {
     "name": "stdout",
     "output_type": "stream",
     "text": [
      "DQN learn 50,000 episodes runtime: 5.55 seconds.\n"
     ]
    }
   ],
   "source": [
    "runtime['DQN 50,000 eps'] = finish_time - start_time\n",
    "print(\"DQN learn 50,000 episodes runtime: {} seconds.\".format(round(runtime['DQN 50,000 eps'], 2)))"
   ]
  },
  {
   "cell_type": "markdown",
   "id": "a4091d59-a6aa-46a8-aa2a-b0957404eb6c",
   "metadata": {
    "tags": []
   },
   "source": [
    "#### (ii) **100,000** episodes (~42s)"
   ]
  },
  {
   "cell_type": "code",
   "execution_count": 67,
   "id": "b0fa724d-ff9c-474a-813d-1ce984832929",
   "metadata": {
    "tags": []
   },
   "outputs": [],
   "source": [
    "# Train the agent\n",
    "start_time = time.time()\n",
    "model_DQN_100k = DQN('MlpPolicy', env, verbose=1).learn(100000)\n",
    "finish_time = time.time()\n",
    "clear_output()"
   ]
  },
  {
   "cell_type": "code",
   "execution_count": 68,
   "id": "ef3324bd-a12d-420e-a8e4-95519164594c",
   "metadata": {},
   "outputs": [
    {
     "name": "stdout",
     "output_type": "stream",
     "text": [
      "DQN learn 100,000 episodes runtime: 42.01 seconds.\n"
     ]
    }
   ],
   "source": [
    "runtime['DQN 100,000 eps'] = finish_time - start_time\n",
    "print(\"DQN learn 100,000 episodes runtime: {} seconds.\".format(round(runtime['DQN 100,000 eps'], 2)))"
   ]
  },
  {
   "cell_type": "markdown",
   "id": "c90d1f0e-e177-42f4-b34e-3c004dd24bdd",
   "metadata": {
    "tags": []
   },
   "source": [
    "#### (iii) **200,000** episodes (~110s)"
   ]
  },
  {
   "cell_type": "code",
   "execution_count": 69,
   "id": "6da69e0e-2fab-4cdd-bf7b-c99c0b74a39a",
   "metadata": {
    "tags": []
   },
   "outputs": [],
   "source": [
    "# Train the agent\n",
    "start_time = time.time()\n",
    "model_DQN_200k = DQN('MlpPolicy', env, verbose=1).learn(200000)\n",
    "finish_time = time.time()\n",
    "clear_output()"
   ]
  },
  {
   "cell_type": "code",
   "execution_count": 70,
   "id": "4385047e-3283-4c44-8ef3-a51087fe55cf",
   "metadata": {},
   "outputs": [
    {
     "name": "stdout",
     "output_type": "stream",
     "text": [
      "DQN learn 200,000 episodes runtime: 109.7 seconds.\n"
     ]
    }
   ],
   "source": [
    "runtime['DQN 200,000 eps'] = finish_time - start_time\n",
    "print(\"DQN learn 200,000 episodes runtime: {} seconds.\".format(round(runtime['DQN 200,000 eps'], 2)))"
   ]
  },
  {
   "cell_type": "markdown",
   "id": "9b8de66f-d15d-45ce-ba66-2e1f0fe61387",
   "metadata": {
    "tags": []
   },
   "source": [
    "### **A2C**\n",
    "#### (i) **50,000** episodes (~49s)"
   ]
  },
  {
   "cell_type": "code",
   "execution_count": 71,
   "id": "58dda3f9-cc9c-40da-8d69-f2892cf3b4fe",
   "metadata": {
    "tags": []
   },
   "outputs": [],
   "source": [
    "# Train the agent\n",
    "start_time = time.time()\n",
    "model_A2C_50k = A2C('MlpPolicy', env, verbose=1).learn(50000)\n",
    "finish_time = time.time()\n",
    "clear_output()"
   ]
  },
  {
   "cell_type": "code",
   "execution_count": 72,
   "id": "af694242-0e48-4e0c-af23-82076c48163d",
   "metadata": {},
   "outputs": [
    {
     "name": "stdout",
     "output_type": "stream",
     "text": [
      "A2C learn 50,000 episodes runtime: 48.98 seconds.\n"
     ]
    }
   ],
   "source": [
    "runtime['A2C 50,000 eps'] = finish_time - start_time\n",
    "print(\"A2C learn 50,000 episodes runtime: {} seconds.\".format(round(runtime['A2C 50,000 eps'], 2)))"
   ]
  },
  {
   "cell_type": "markdown",
   "id": "7a898535-4c32-4a69-806f-1b5e2fa5d5bf",
   "metadata": {
    "tags": []
   },
   "source": [
    "#### (ii) **100,000** episodes (~94s)"
   ]
  },
  {
   "cell_type": "code",
   "execution_count": 73,
   "id": "b675e17e-e948-4705-8646-03ab42dce2df",
   "metadata": {
    "tags": []
   },
   "outputs": [],
   "source": [
    "# Train the agent\n",
    "start_time = time.time()\n",
    "model_A2C_100k = A2C('MlpPolicy', env, verbose=1).learn(100000)\n",
    "finish_time = time.time()\n",
    "clear_output()"
   ]
  },
  {
   "cell_type": "code",
   "execution_count": 74,
   "id": "2d1f0ed2-fd9d-4557-a3d8-51a5411f0e8e",
   "metadata": {},
   "outputs": [
    {
     "name": "stdout",
     "output_type": "stream",
     "text": [
      "A2C learn 100,000 episodes runtime: 93.64 seconds.\n"
     ]
    }
   ],
   "source": [
    "runtime['A2C 100,000 eps'] = finish_time - start_time\n",
    "print(\"A2C learn 100,000 episodes runtime: {} seconds.\".format(round(runtime['A2C 100,000 eps'], 2)))"
   ]
  },
  {
   "cell_type": "markdown",
   "id": "589d1808-9c21-47ca-9af0-f985415ec27f",
   "metadata": {
    "tags": []
   },
   "source": [
    "#### (iii) **200,000** episodes (~190s)"
   ]
  },
  {
   "cell_type": "code",
   "execution_count": 75,
   "id": "918a80a1-9b58-4ed8-8d17-71cdeceb2416",
   "metadata": {
    "tags": []
   },
   "outputs": [],
   "source": [
    "# Train the agent\n",
    "start_time = time.time()\n",
    "model_A2C_200k = A2C('MlpPolicy', env, verbose=1).learn(200000)\n",
    "finish_time = time.time()\n",
    "clear_output()"
   ]
  },
  {
   "cell_type": "code",
   "execution_count": 76,
   "id": "f829d5f6-40e2-4676-be09-cad2bbd152db",
   "metadata": {},
   "outputs": [
    {
     "name": "stdout",
     "output_type": "stream",
     "text": [
      "A2C learn 200,000 episodes runtime: 189.91 seconds.\n"
     ]
    }
   ],
   "source": [
    "runtime['A2C 200,000 eps'] = finish_time - start_time\n",
    "print(\"A2C learn 200,000 episodes runtime: {} seconds.\".format(round(runtime['A2C 200,000 eps'], 2)))"
   ]
  },
  {
   "cell_type": "markdown",
   "id": "2db7fc3d-f267-4620-909a-74c2bb8e3325",
   "metadata": {
    "tags": []
   },
   "source": [
    "### **Comparison**"
   ]
  },
  {
   "cell_type": "code",
   "execution_count": 78,
   "id": "51b18135-9d6e-48e7-a25e-468e46ffd4a7",
   "metadata": {},
   "outputs": [],
   "source": [
    "# for i,v in runtime.items():\n",
    "#     print(\"{} runtime: {} seconds.\".format(i,round(v,2)))"
   ]
  },
  {
   "cell_type": "markdown",
   "id": "3d5aa900-7511-4ded-911d-12bb0ac1f24b",
   "metadata": {},
   "source": [
    "| Run times| 50,000 eps | 100,000 eps | 200,000 eps \n",
    "|:-:|:-:|:-:|:-:|\n",
    "|  **PPO** | 40.55 | 80.0 | 152.64 \n",
    "|  **DQN** | 5.55 | 42.01 | 109.7 \n",
    "|  **A2C** | 48.98 | 93.64 | 189.91\n",
    "\n",
    "From the table above we can see that they are still able to learn a consistent winning strategy after 50,000  episodes, 100,000  episodes or even 200,000  episodes, but among them **DQN is the best performer** and it is the fastest learning method in all respects. Because it is based on Q network use off-policy method and slow convergence but efficiency is high. It was followed by the PPO method which is an on-policy algorithm. The slowest learner was A2C, it is an off-policy method and uses advantage estimates to calculate the value proposition for each action state pair."
   ]
  },
  {
   "cell_type": "markdown",
   "id": "bbfbfdc5-ee21-43e3-abd4-3296c96e8b5b",
   "metadata": {
    "tags": []
   },
   "source": [
    "## **Question 2d** \n",
    "**For the best RL strategy, start with a neural network architecture consisting of 3 hidden layers of 64 neurons each and gradually decrease the number of neurons and number of layers. What is the minimal architecture that still allows you to successfully learn a winning strategy? For example, can you learn a winning strategy with a single hidden layer of 2 neurons? Why do you think this is the case? [10 marks]**"
   ]
  },
  {
   "cell_type": "markdown",
   "id": "0d24c32f-1205-4479-9cbd-39e4a0419c4a",
   "metadata": {},
   "source": [
    "### 3 hidden layers of 64 neurons"
   ]
  },
  {
   "cell_type": "code",
   "execution_count": 79,
   "id": "0f6e83e5-c7a4-4726-b114-016eff7b0f01",
   "metadata": {},
   "outputs": [
    {
     "name": "stdout",
     "output_type": "stream",
     "text": [
      "Model: \"sequential\"\n",
      "_________________________________________________________________\n",
      " Layer (type)                Output Shape              Param #   \n",
      "=================================================================\n",
      " dense (Dense)               (None, 1, 64)             192       \n",
      "                                                                 \n",
      " dense_1 (Dense)             (None, 1, 64)             4160      \n",
      "                                                                 \n",
      " dense_2 (Dense)             (None, 1, 3)              195       \n",
      "                                                                 \n",
      " flatten (Flatten)           (None, 3)                 0         \n",
      "                                                                 \n",
      "=================================================================\n",
      "Total params: 4,547\n",
      "Trainable params: 4,547\n",
      "Non-trainable params: 0\n",
      "_________________________________________________________________\n"
     ]
    }
   ],
   "source": [
    "env = CustomEnv()\n",
    "check_env(env, warn=True)\n",
    "\n",
    "# getting the shape of our observation space and the number of actions\n",
    "states = env.observation_space.shape[0]\n",
    "actions = env.action_space.n\n",
    "\n",
    "# building the model\n",
    "model = Sequential()    \n",
    "model.add(Dense(64, activation='relu', input_shape = (1,states)))\n",
    "model.add(Dense(64, activation='relu'))\n",
    "model.add(Dense(actions, activation='linear'))\n",
    "model.add(Flatten()) \n",
    "model.summary()"
   ]
  },
  {
   "cell_type": "markdown",
   "id": "7a76ce0f-e9fe-456d-84ce-1f9302a2716e",
   "metadata": {},
   "source": [
    " Building the agent then compile"
   ]
  },
  {
   "cell_type": "code",
   "execution_count": 80,
   "id": "afbb0e5a-e335-49c0-b8f7-491446478825",
   "metadata": {},
   "outputs": [],
   "source": [
    "memory = SequentialMemory(limit=50000, window_length=1)\n",
    "policy = BoltzmannQPolicy()"
   ]
  },
  {
   "cell_type": "code",
   "execution_count": 82,
   "id": "273b5698-9dc7-463a-93fe-a0543f5ef841",
   "metadata": {
    "collapsed": true,
    "jupyter": {
     "outputs_hidden": true
    },
    "tags": []
   },
   "outputs": [
    {
     "name": "stdout",
     "output_type": "stream",
     "text": [
      "Training for 5000 steps ...\n",
      "Interval 1 (0 steps performed)\n",
      "   31/10000 [..............................] - ETA: 3:06 - reward: 11.4516********************* Finish *********************\n",
      "   59/10000 [..............................] - ETA: 2:02 - reward: 15.8475********************* Finish *********************\n",
      "   87/10000 [..............................] - ETA: 1:40 - reward: 15.8046********************* Finish *********************\n",
      "  122/10000 [..............................] - ETA: 1:24 - reward: 16.3525********************* Finish *********************\n",
      "  145/10000 [..............................] - ETA: 1:17 - reward: 17.1379********************* Finish *********************\n",
      "  177/10000 [..............................] - ETA: 1:12 - reward: 16.7514********************* Finish *********************\n",
      "  199/10000 [..............................] - ETA: 1:09 - reward: 17.1608********************* Finish *********************\n",
      "  233/10000 [..............................] - ETA: 1:05 - reward: 17.3605********************* Finish *********************\n",
      "  255/10000 [..............................] - ETA: 1:03 - reward: 17.5686********************* Finish *********************\n",
      "  285/10000 [..............................] - ETA: 1:01 - reward: 17.7895********************* Finish *********************\n",
      "  306/10000 [..............................] - ETA: 1:00 - reward: 18.1046********************* Finish *********************\n",
      "  351/10000 [>.............................] - ETA: 58s - reward: 17.5783********************* Finish *********************\n",
      "  373/10000 [>.............................] - ETA: 57s - reward: 17.7614********************* Finish *********************\n",
      "  394/10000 [>.............................] - ETA: 57s - reward: 17.9315********************* Finish *********************\n",
      "  427/10000 [>.............................] - ETA: 55s - reward: 18.0445********************* Finish *********************\n",
      "  449/10000 [>.............................] - ETA: 55s - reward: 18.1626********************* Finish *********************\n",
      "  492/10000 [>.............................] - ETA: 54s - reward: 17.7134********************* Finish *********************\n",
      "  527/10000 [>.............................] - ETA: 53s - reward: 17.6945********************* Finish *********************\n",
      "  549/10000 [>.............................] - ETA: 52s - reward: 17.8142********************* Finish *********************\n",
      "  580/10000 [>.............................] - ETA: 52s - reward: 17.9138********************* Finish *********************\n",
      "  602/10000 [>.............................] - ETA: 52s - reward: 18.0150********************* Finish *********************\n",
      "  642/10000 [>.............................] - ETA: 51s - reward: 17.8115********************* Finish *********************\n",
      "  660/10000 [>.............................] - ETA: 51s - reward: 17.8864********************* Finish *********************\n",
      "  704/10000 [=>............................] - ETA: 50s - reward: 17.6349********************* Finish *********************\n",
      "  752/10000 [=>............................] - ETA: 50s - reward: 17.2141********************* Finish *********************\n",
      "  785/10000 [=>............................] - ETA: 49s - reward: 17.1401********************* Finish *********************\n",
      "  841/10000 [=>............................] - ETA: 48s - reward: 16.6885********************* Finish *********************\n",
      "  862/10000 [=>............................] - ETA: 48s - reward: 16.7807********************* Finish *********************\n",
      "  906/10000 [=>............................] - ETA: 48s - reward: 16.5287********************* Finish *********************\n",
      "  939/10000 [=>............................] - ETA: 47s - reward: 16.4696********************* Finish *********************\n",
      "  974/10000 [=>............................] - ETA: 47s - reward: 16.5246********************* Finish *********************\n",
      "  996/10000 [=>............................] - ETA: 47s - reward: 16.5914********************* Finish *********************\n",
      " 1027/10000 [==>...........................] - ETA: 47s - reward: 16.6894********************* Finish *********************\n",
      " 1111/10000 [==>...........................] - ETA: 46s - reward: 15.9766********************* Finish *********************\n",
      " 1141/10000 [==>...........................] - ETA: 46s - reward: 15.9816********************* Finish *********************\n",
      " 1161/10000 [==>...........................] - ETA: 46s - reward: 16.0422********************* Finish *********************\n",
      " 1259/10000 [==>...........................] - ETA: 45s - reward: 15.4130********************* Finish *********************\n",
      " 1323/10000 [==>...........................] - ETA: 45s - reward: 15.1701********************* Finish *********************\n",
      " 1359/10000 [===>..........................] - ETA: 44s - reward: 15.1508********************* Finish *********************\n",
      " 1432/10000 [===>..........................] - ETA: 43s - reward: 14.8953********************* Finish *********************\n",
      " 1517/10000 [===>..........................] - ETA: 43s - reward: 14.4232********************* Finish *********************\n",
      " 1563/10000 [===>..........................] - ETA: 42s - reward: 14.3826********************* Finish *********************\n",
      " 1612/10000 [===>..........................] - ETA: 42s - reward: 14.2990********************* Finish *********************\n",
      " 1675/10000 [====>.........................] - ETA: 41s - reward: 14.0866********************* Finish *********************\n",
      " 1828/10000 [====>.........................] - ETA: 40s - reward: 13.6406********************* Finish *********************\n",
      " 2164/10000 [=====>........................] - ETA: 37s - reward: 12.6987********************* Finish *********************\n",
      " 4990/10000 [=============>................] - ETA: 22s - reward: 11.1653done, took 22.520 seconds\n"
     ]
    },
    {
     "data": {
      "text/plain": [
       "<keras.callbacks.History at 0x7fa5a6d604c0>"
      ]
     },
     "execution_count": 82,
     "metadata": {},
     "output_type": "execute_result"
    }
   ],
   "source": [
    "# building the agent\n",
    "dqn = DQNAgent(model=model, memory=memory, policy=policy, nb_actions=actions, \\\n",
    "               nb_steps_warmup=10, target_model_update=1e-2)\n",
    "\n",
    "dqn.compile(Adam(lr=1e-3), metrics=['mae'])\n",
    "dqn.fit(env, nb_steps=5000, visualize=False, verbose=1)"
   ]
  },
  {
   "cell_type": "markdown",
   "id": "43d7ef4a-b352-456a-8aa7-1f70e81b91cf",
   "metadata": {},
   "source": [
    "### 3 hidden layers of 16 neurons"
   ]
  },
  {
   "cell_type": "code",
   "execution_count": 83,
   "id": "c8a22ca1-3791-4f4c-8621-c3a783de8ab7",
   "metadata": {
    "collapsed": true,
    "jupyter": {
     "outputs_hidden": true
    },
    "tags": []
   },
   "outputs": [
    {
     "name": "stdout",
     "output_type": "stream",
     "text": [
      "Model: \"sequential_1\"\n",
      "_________________________________________________________________\n",
      " Layer (type)                Output Shape              Param #   \n",
      "=================================================================\n",
      " dense_3 (Dense)             (None, 1, 16)             48        \n",
      "                                                                 \n",
      " dense_4 (Dense)             (None, 1, 16)             272       \n",
      "                                                                 \n",
      " dense_5 (Dense)             (None, 1, 3)              51        \n",
      "                                                                 \n",
      " flatten_1 (Flatten)         (None, 3)                 0         \n",
      "                                                                 \n",
      "=================================================================\n",
      "Total params: 371\n",
      "Trainable params: 371\n",
      "Non-trainable params: 0\n",
      "_________________________________________________________________\n",
      "Training for 5000 steps ...\n",
      "Interval 1 (0 steps performed)\n",
      "   90/10000 [..............................] - ETA: 2:05 - reward: 5.1111********************* Finish *********************\n",
      "  181/10000 [..............................] - ETA: 1:27 - reward: 5.9669********************* Finish *********************\n",
      "  246/10000 [..............................] - ETA: 1:16 - reward: 6.7073********************* Finish *********************\n",
      "  739/10000 [=>............................] - ETA: 53s - reward: 3.0041********************* Finish *********************\n",
      "  843/10000 [=>............................] - ETA: 52s - reward: 3.2740********************* Finish *********************\n",
      "  978/10000 [=>............................] - ETA: 49s - reward: 3.5685********************* Finish *********************\n",
      " 1053/10000 [==>...........................] - ETA: 49s - reward: 3.7417********************* Finish *********************\n",
      " 1108/10000 [==>...........................] - ETA: 48s - reward: 4.1381********************* Finish *********************\n",
      " 1161/10000 [==>...........................] - ETA: 48s - reward: 4.3798********************* Finish *********************\n",
      " 1216/10000 [==>...........................] - ETA: 47s - reward: 4.6340********************* Finish *********************\n",
      " 1259/10000 [==>...........................] - ETA: 47s - reward: 4.8967********************* Finish *********************\n",
      " 1330/10000 [==>...........................] - ETA: 46s - reward: 5.0865********************* Finish *********************\n",
      " 1594/10000 [===>..........................] - ETA: 43s - reward: 4.6989********************* Finish *********************\n",
      " 1716/10000 [====>.........................] - ETA: 43s - reward: 4.7640********************* Finish *********************\n",
      " 1777/10000 [====>.........................] - ETA: 42s - reward: 4.8931********************* Finish *********************\n",
      " 1948/10000 [====>.........................] - ETA: 41s - reward: 5.1591********************* Finish *********************\n",
      " 4992/10000 [=============>................] - ETA: 24s - reward: 8.0168done, took 24.710 seconds\n"
     ]
    },
    {
     "data": {
      "text/plain": [
       "<keras.callbacks.History at 0x7fa5a54d4dc0>"
      ]
     },
     "execution_count": 83,
     "metadata": {},
     "output_type": "execute_result"
    }
   ],
   "source": [
    "env = CustomEnv()\n",
    "check_env(env, warn=True)\n",
    "\n",
    "# getting the shape of our observation space and the number of actions\n",
    "states = env.observation_space.shape[0]\n",
    "actions = env.action_space.n\n",
    "\n",
    "# building the model\n",
    "model = Sequential()    \n",
    "model.add(Dense(16, activation='relu', input_shape = (1,states)))\n",
    "model.add(Dense(16, activation='relu'))\n",
    "model.add(Dense(actions, activation='linear'))\n",
    "model.add(Flatten()) \n",
    "model.summary()\n",
    "\n",
    "# building the agent\n",
    "dqn = DQNAgent(model=model, memory=memory, policy=policy, nb_actions=actions, \\\n",
    "               nb_steps_warmup=10, target_model_update=1e-2)\n",
    "\n",
    "dqn.compile(Adam(lr=1e-3), metrics=['mae'])\n",
    "dqn.fit(env, nb_steps=5000, visualize=False, verbose=1)"
   ]
  },
  {
   "cell_type": "markdown",
   "id": "2026edf9-475b-4c8f-9aa6-870a67d232ea",
   "metadata": {},
   "source": [
    "### 3 hidden layers of 3 neurons"
   ]
  },
  {
   "cell_type": "code",
   "execution_count": 84,
   "id": "5ddaafd1-607f-4424-80da-46f814dfb0d0",
   "metadata": {
    "collapsed": true,
    "jupyter": {
     "outputs_hidden": true
    },
    "tags": []
   },
   "outputs": [
    {
     "name": "stdout",
     "output_type": "stream",
     "text": [
      "Model: \"sequential_2\"\n",
      "_________________________________________________________________\n",
      " Layer (type)                Output Shape              Param #   \n",
      "=================================================================\n",
      " dense_6 (Dense)             (None, 1, 3)              9         \n",
      "                                                                 \n",
      " dense_7 (Dense)             (None, 1, 3)              12        \n",
      "                                                                 \n",
      " dense_8 (Dense)             (None, 1, 3)              12        \n",
      "                                                                 \n",
      " flatten_2 (Flatten)         (None, 3)                 0         \n",
      "                                                                 \n",
      "=================================================================\n",
      "Total params: 33\n",
      "Trainable params: 33\n",
      "Non-trainable params: 0\n",
      "_________________________________________________________________\n",
      "Training for 5000 steps ...\n",
      "Interval 1 (0 steps performed)\n",
      "  906/10000 [=>............................] - ETA: 52s - reward: 2.2792********************* Finish *********************\n",
      " 2773/10000 [=======>......................] - ETA: 36s - reward: 4.7692********************* Finish *********************\n",
      " 3771/10000 [==========>...................] - ETA: 30s - reward: 4.7428********************* Finish *********************\n",
      " 4992/10000 [=============>................] - ETA: 23s - reward: 3.6218done, took 24.035 seconds\n"
     ]
    },
    {
     "data": {
      "text/plain": [
       "<keras.callbacks.History at 0x7fa5a494d670>"
      ]
     },
     "execution_count": 84,
     "metadata": {},
     "output_type": "execute_result"
    }
   ],
   "source": [
    "env = CustomEnv()\n",
    "check_env(env, warn=True)\n",
    "\n",
    "# getting the shape of our observation space and the number of actions\n",
    "states = env.observation_space.shape[0]\n",
    "actions = env.action_space.n\n",
    "\n",
    "# building the model\n",
    "model = Sequential()    \n",
    "model.add(Dense(3, activation='relu', input_shape = (1,states)))\n",
    "model.add(Dense(3, activation='relu'))\n",
    "model.add(Dense(actions, activation='linear'))\n",
    "model.add(Flatten()) \n",
    "model.summary()\n",
    "\n",
    "# building the agent\n",
    "dqn = DQNAgent(model=model, memory=memory, policy=policy, nb_actions=actions, \\\n",
    "               nb_steps_warmup=10, target_model_update=1e-2)\n",
    "\n",
    "dqn.compile(Adam(lr=1e-3), metrics=['mae'])\n",
    "dqn.fit(env, nb_steps=5000, visualize=False, verbose=1)"
   ]
  },
  {
   "cell_type": "markdown",
   "id": "b78aa3b9-ed38-49e2-8f16-85ecd07b858f",
   "metadata": {
    "tags": []
   },
   "source": [
    "### 2 hidden layers of 64 neurons"
   ]
  },
  {
   "cell_type": "code",
   "execution_count": 85,
   "id": "ee8a905b-68c2-4d85-8896-3683383d45d1",
   "metadata": {
    "collapsed": true,
    "jupyter": {
     "outputs_hidden": true
    },
    "tags": []
   },
   "outputs": [
    {
     "name": "stdout",
     "output_type": "stream",
     "text": [
      "Model: \"sequential_3\"\n",
      "_________________________________________________________________\n",
      " Layer (type)                Output Shape              Param #   \n",
      "=================================================================\n",
      " dense_9 (Dense)             (None, 1, 64)             192       \n",
      "                                                                 \n",
      " dense_10 (Dense)            (None, 1, 3)              195       \n",
      "                                                                 \n",
      " flatten_3 (Flatten)         (None, 3)                 0         \n",
      "                                                                 \n",
      "=================================================================\n",
      "Total params: 387\n",
      "Trainable params: 387\n",
      "Non-trainable params: 0\n",
      "_________________________________________________________________\n",
      "Training for 5000 steps ...\n",
      "Interval 1 (0 steps performed)\n",
      "   56/10000 [..............................] - ETA: 2:46 - reward: 8.3929********************* Finish *********************\n",
      "  274/10000 [..............................] - ETA: 1:13 - reward: 6.8431********************* Finish *********************\n",
      "  362/10000 [>.............................] - ETA: 1:06 - reward: 7.1685********************* Finish *********************\n",
      "  473/10000 [>.............................] - ETA: 1:02 - reward: 7.0085********************* Finish *********************\n",
      "  569/10000 [>.............................] - ETA: 59s - reward: 6.9684********************* Finish *********************\n",
      "  676/10000 [=>............................] - ETA: 56s - reward: 6.8269********************* Finish *********************\n",
      "  740/10000 [=>............................] - ETA: 55s - reward: 7.0338********************* Finish *********************\n",
      "  785/10000 [=>............................] - ETA: 54s - reward: 7.3312********************* Finish *********************\n",
      "  845/10000 [=>............................] - ETA: 53s - reward: 7.5089********************* Finish *********************\n",
      "  889/10000 [=>............................] - ETA: 52s - reward: 7.7165********************* Finish *********************\n",
      "  950/10000 [=>............................] - ETA: 51s - reward: 7.8842********************* Finish *********************\n",
      "  994/10000 [=>............................] - ETA: 51s - reward: 8.0584********************* Finish *********************\n",
      " 1037/10000 [==>...........................] - ETA: 50s - reward: 8.2642********************* Finish *********************\n",
      " 1079/10000 [==>...........................] - ETA: 50s - reward: 8.4569********************* Finish *********************\n",
      " 1113/10000 [==>...........................] - ETA: 49s - reward: 8.6388********************* Finish *********************\n",
      " 1160/10000 [==>...........................] - ETA: 49s - reward: 8.8319********************* Finish *********************\n",
      " 1195/10000 [==>...........................] - ETA: 48s - reward: 9.0167********************* Finish *********************\n",
      " 1229/10000 [==>...........................] - ETA: 48s - reward: 9.1375********************* Finish *********************\n",
      " 1272/10000 [==>...........................] - ETA: 47s - reward: 9.2964********************* Finish *********************\n",
      " 1319/10000 [==>...........................] - ETA: 47s - reward: 9.3821********************* Finish *********************\n",
      " 1354/10000 [===>..........................] - ETA: 46s - reward: 9.5162********************* Finish *********************\n",
      " 1385/10000 [===>..........................] - ETA: 46s - reward: 9.6643********************* Finish *********************\n",
      " 1429/10000 [===>..........................] - ETA: 46s - reward: 9.8006********************* Finish *********************\n",
      " 1471/10000 [===>..........................] - ETA: 45s - reward: 9.8980********************* Finish *********************\n",
      " 1504/10000 [===>..........................] - ETA: 45s - reward: 10.0133********************* Finish *********************\n",
      " 1539/10000 [===>..........................] - ETA: 45s - reward: 10.1040********************* Finish *********************\n",
      " 1578/10000 [===>..........................] - ETA: 45s - reward: 10.2281********************* Finish *********************\n",
      " 1609/10000 [===>..........................] - ETA: 44s - reward: 10.3170********************* Finish *********************\n",
      " 1638/10000 [===>..........................] - ETA: 44s - reward: 10.4335********************* Finish *********************\n",
      " 1678/10000 [====>.........................] - ETA: 44s - reward: 10.5364********************* Finish *********************\n",
      " 1714/10000 [====>.........................] - ETA: 44s - reward: 10.6651********************* Finish *********************\n",
      " 1743/10000 [====>.........................] - ETA: 44s - reward: 10.7458********************* Finish *********************\n",
      " 1773/10000 [====>.........................] - ETA: 44s - reward: 10.8460********************* Finish *********************\n",
      " 1811/10000 [====>.........................] - ETA: 43s - reward: 10.9663********************* Finish *********************\n",
      " 1842/10000 [====>.........................] - ETA: 43s - reward: 11.0641********************* Finish *********************\n",
      " 1870/10000 [====>.........................] - ETA: 43s - reward: 11.1524********************* Finish *********************\n",
      " 1907/10000 [====>.........................] - ETA: 43s - reward: 11.2638********************* Finish *********************\n",
      " 1937/10000 [====>.........................] - ETA: 43s - reward: 11.3423********************* Finish *********************\n",
      " 1966/10000 [====>.........................] - ETA: 43s - reward: 11.4344********************* Finish *********************\n",
      " 1993/10000 [====>.........................] - ETA: 43s - reward: 11.5304********************* Finish *********************\n",
      " 2025/10000 [=====>........................] - ETA: 42s - reward: 11.6198********************* Finish *********************\n",
      " 2066/10000 [=====>........................] - ETA: 42s - reward: 11.6796********************* Finish *********************\n",
      " 2087/10000 [=====>........................] - ETA: 42s - reward: 11.7657********************* Finish *********************\n",
      " 2118/10000 [=====>........................] - ETA: 42s - reward: 11.8484********************* Finish *********************\n",
      " 2153/10000 [=====>........................] - ETA: 41s - reward: 11.9159********************* Finish *********************\n",
      " 2186/10000 [=====>........................] - ETA: 41s - reward: 11.9968********************* Finish *********************\n",
      " 2207/10000 [=====>........................] - ETA: 41s - reward: 12.0684********************* Finish *********************\n",
      " 2254/10000 [=====>........................] - ETA: 41s - reward: 12.0652********************* Finish *********************\n",
      " 2307/10000 [=====>........................] - ETA: 40s - reward: 12.0828********************* Finish *********************\n",
      " 2330/10000 [=====>........................] - ETA: 40s - reward: 12.1395********************* Finish *********************\n",
      " 2365/10000 [======>.......................] - ETA: 40s - reward: 12.1924********************* Finish *********************\n",
      " 2386/10000 [======>.......................] - ETA: 40s - reward: 12.2590********************* Finish *********************\n",
      " 2452/10000 [======>.......................] - ETA: 39s - reward: 12.2594********************* Finish *********************\n",
      " 2481/10000 [======>.......................] - ETA: 39s - reward: 12.3035********************* Finish *********************\n",
      " 2527/10000 [======>.......................] - ETA: 39s - reward: 12.3407********************* Finish *********************\n",
      " 2562/10000 [======>.......................] - ETA: 39s - reward: 12.3849********************* Finish *********************\n",
      " 2585/10000 [======>.......................] - ETA: 39s - reward: 12.4526********************* Finish *********************\n",
      " 2618/10000 [======>.......................] - ETA: 38s - reward: 12.4943********************* Finish *********************\n",
      " 2650/10000 [======>.......................] - ETA: 38s - reward: 12.5736********************* Finish *********************\n",
      " 2685/10000 [=======>......................] - ETA: 38s - reward: 12.5959********************* Finish *********************\n",
      " 2792/10000 [=======>......................] - ETA: 37s - reward: 12.3173********************* Finish *********************\n",
      " 2845/10000 [=======>......................] - ETA: 37s - reward: 12.3093********************* Finish *********************\n",
      " 2922/10000 [=======>......................] - ETA: 36s - reward: 12.3220********************* Finish *********************\n",
      " 2956/10000 [=======>......................] - ETA: 36s - reward: 12.3495********************* Finish *********************\n",
      " 2983/10000 [=======>......................] - ETA: 36s - reward: 12.4019********************* Finish *********************\n",
      " 3104/10000 [========>.....................] - ETA: 35s - reward: 12.4082********************* Finish *********************\n",
      " 3142/10000 [========>.....................] - ETA: 35s - reward: 12.4061********************* Finish *********************\n",
      " 3316/10000 [========>.....................] - ETA: 34s - reward: 12.1336********************* Finish *********************\n",
      " 3860/10000 [==========>...................] - ETA: 31s - reward: 11.7124********************* Finish *********************\n",
      " 3933/10000 [==========>...................] - ETA: 31s - reward: 11.6400********************* Finish *********************\n",
      " 4642/10000 [============>.................] - ETA: 27s - reward: 11.4380********************* Finish *********************\n",
      " 4993/10000 [=============>................] - ETA: 25s - reward: 10.7490done, took 25.917 seconds\n"
     ]
    },
    {
     "data": {
      "text/plain": [
       "<keras.callbacks.History at 0x7fa599b1b580>"
      ]
     },
     "execution_count": 85,
     "metadata": {},
     "output_type": "execute_result"
    }
   ],
   "source": [
    "env = CustomEnv()\n",
    "check_env(env, warn=True)\n",
    "\n",
    "# getting the shape of our observation space and the number of actions\n",
    "states = env.observation_space.shape[0]\n",
    "actions = env.action_space.n\n",
    "\n",
    "# building the model\n",
    "model = Sequential()    \n",
    "model.add(Dense(64, activation='relu', input_shape = (1,states)))\n",
    "model.add(Dense(actions, activation='linear'))\n",
    "model.add(Flatten()) \n",
    "model.summary()\n",
    "\n",
    "# building the agent\n",
    "dqn = DQNAgent(model=model, memory=memory, policy=policy, nb_actions=actions, \\\n",
    "               nb_steps_warmup=10, target_model_update=1e-2)\n",
    "\n",
    "dqn.compile(Adam(lr=1e-3), metrics=['mae'])\n",
    "dqn.fit(env, nb_steps=5000, visualize=False, verbose=1)"
   ]
  },
  {
   "cell_type": "markdown",
   "id": "8d70c416-64da-4edc-b1e0-a45a11bd1934",
   "metadata": {
    "tags": []
   },
   "source": [
    "### 2 hidden layers of 16 neurons "
   ]
  },
  {
   "cell_type": "code",
   "execution_count": 86,
   "id": "14d5e876-2eb8-4f8a-851f-bbd2db915c2c",
   "metadata": {
    "collapsed": true,
    "jupyter": {
     "outputs_hidden": true
    },
    "tags": []
   },
   "outputs": [
    {
     "name": "stdout",
     "output_type": "stream",
     "text": [
      "Model: \"sequential_4\"\n",
      "_________________________________________________________________\n",
      " Layer (type)                Output Shape              Param #   \n",
      "=================================================================\n",
      " dense_11 (Dense)            (None, 1, 16)             48        \n",
      "                                                                 \n",
      " dense_12 (Dense)            (None, 1, 3)              51        \n",
      "                                                                 \n",
      " flatten_4 (Flatten)         (None, 3)                 0         \n",
      "                                                                 \n",
      "=================================================================\n",
      "Total params: 99\n",
      "Trainable params: 99\n",
      "Non-trainable params: 0\n",
      "_________________________________________________________________\n",
      "Training for 5000 steps ...\n",
      "Interval 1 (0 steps performed)\n",
      "   58/10000 [..............................] - ETA: 3:18 - reward: 7.9310********************* Finish *********************\n",
      "  171/10000 [..............................] - ETA: 1:38 - reward: 8.5380********************* Finish *********************\n",
      "  524/10000 [>.............................] - ETA: 1:03 - reward: 4.8855********************* Finish *********************\n",
      "  625/10000 [>.............................] - ETA: 59s - reward: 5.1680 ********************* Finish *********************\n",
      "  668/10000 [=>............................] - ETA: 58s - reward: 5.4865********************* Finish *********************\n",
      "  736/10000 [=>............................] - ETA: 56s - reward: 5.8220********************* Finish *********************\n",
      "  769/10000 [=>............................] - ETA: 55s - reward: 6.1248********************* Finish *********************\n",
      "  821/10000 [=>............................] - ETA: 55s - reward: 6.5225********************* Finish *********************\n",
      "  876/10000 [=>............................] - ETA: 54s - reward: 6.7066********************* Finish *********************\n",
      "  918/10000 [=>............................] - ETA: 53s - reward: 7.0098********************* Finish *********************\n",
      "  961/10000 [=>............................] - ETA: 52s - reward: 7.2685********************* Finish *********************\n",
      " 1002/10000 [==>...........................] - ETA: 52s - reward: 7.4750********************* Finish *********************\n",
      " 1045/10000 [==>...........................] - ETA: 51s - reward: 7.6077********************* Finish *********************\n",
      " 1099/10000 [==>...........................] - ETA: 50s - reward: 7.7889********************* Finish *********************\n",
      " 1147/10000 [==>...........................] - ETA: 50s - reward: 7.9773********************* Finish *********************\n",
      " 1190/10000 [==>...........................] - ETA: 49s - reward: 8.1261********************* Finish *********************\n",
      " 1246/10000 [==>...........................] - ETA: 49s - reward: 8.2424********************* Finish *********************\n",
      " 1289/10000 [==>...........................] - ETA: 48s - reward: 8.3631********************* Finish *********************\n",
      " 1334/10000 [===>..........................] - ETA: 48s - reward: 8.4858********************* Finish *********************\n",
      " 1391/10000 [===>..........................] - ETA: 47s - reward: 8.5478********************* Finish *********************\n",
      " 1442/10000 [===>..........................] - ETA: 47s - reward: 8.5992********************* Finish *********************\n",
      " 1533/10000 [===>..........................] - ETA: 46s - reward: 8.4671********************* Finish *********************\n",
      " 1587/10000 [===>..........................] - ETA: 45s - reward: 8.5129********************* Finish *********************\n",
      " 1629/10000 [===>..........................] - ETA: 45s - reward: 8.6157********************* Finish *********************\n",
      " 1672/10000 [====>.........................] - ETA: 44s - reward: 8.7081********************* Finish *********************\n",
      " 1715/10000 [====>.........................] - ETA: 44s - reward: 8.8222********************* Finish *********************\n",
      " 1757/10000 [====>.........................] - ETA: 44s - reward: 8.9015********************* Finish *********************\n",
      " 1800/10000 [====>.........................] - ETA: 44s - reward: 8.9722********************* Finish *********************\n",
      " 1839/10000 [====>.........................] - ETA: 43s - reward: 9.0620********************* Finish *********************\n",
      " 1884/10000 [====>.........................] - ETA: 43s - reward: 9.1401********************* Finish *********************\n",
      " 1918/10000 [====>.........................] - ETA: 43s - reward: 9.2388********************* Finish *********************\n",
      " 1962/10000 [====>.........................] - ETA: 42s - reward: 9.3425********************* Finish *********************\n",
      " 2010/10000 [=====>........................] - ETA: 42s - reward: 9.4229********************* Finish *********************\n",
      " 2043/10000 [=====>........................] - ETA: 42s - reward: 9.5056********************* Finish *********************\n",
      " 2085/10000 [=====>........................] - ETA: 41s - reward: 9.5827********************* Finish *********************\n",
      " 2127/10000 [=====>........................] - ETA: 41s - reward: 9.6521********************* Finish *********************\n",
      " 2169/10000 [=====>........................] - ETA: 41s - reward: 9.7188********************* Finish *********************\n",
      " 2202/10000 [=====>........................] - ETA: 41s - reward: 9.7820********************* Finish *********************\n",
      " 2256/10000 [=====>........................] - ETA: 40s - reward: 9.8493********************* Finish *********************\n",
      " 2309/10000 [=====>........................] - ETA: 40s - reward: 9.8701********************* Finish *********************\n",
      " 2354/10000 [======>.......................] - ETA: 40s - reward: 9.8938********************* Finish *********************\n",
      " 2481/10000 [======>.......................] - ETA: 39s - reward: 9.8347********************* Finish *********************\n",
      " 2693/10000 [=======>......................] - ETA: 37s - reward: 9.7029********************* Finish *********************\n",
      " 4225/10000 [===========>..................] - ETA: 29s - reward: 9.7728********************* Finish *********************\n",
      " 4990/10000 [=============>................] - ETA: 25s - reward: 8.7866done, took 25.334 seconds\n"
     ]
    },
    {
     "data": {
      "text/plain": [
       "<keras.callbacks.History at 0x7fa59a02cb20>"
      ]
     },
     "execution_count": 86,
     "metadata": {},
     "output_type": "execute_result"
    }
   ],
   "source": [
    "env = CustomEnv()\n",
    "check_env(env, warn=True)\n",
    "\n",
    "# getting the shape of our observation space and the number of actions\n",
    "states = env.observation_space.shape[0]\n",
    "actions = env.action_space.n\n",
    "\n",
    "# building the model\n",
    "model = Sequential()    \n",
    "model.add(Dense(16, activation='relu', input_shape = (1,states)))\n",
    "model.add(Dense(actions, activation='linear'))\n",
    "model.add(Flatten()) \n",
    "model.summary()\n",
    "\n",
    "# building the agent\n",
    "dqn = DQNAgent(model=model, memory=memory, policy=policy, nb_actions=actions, \\\n",
    "               nb_steps_warmup=10, target_model_update=1e-2)\n",
    "\n",
    "dqn.compile(Adam(lr=1e-3), metrics=['mae'])\n",
    "dqn.fit(env, nb_steps=5000, visualize=False, verbose=1)"
   ]
  },
  {
   "cell_type": "markdown",
   "id": "44a148bb-acf9-4490-bf11-f110df391446",
   "metadata": {
    "tags": []
   },
   "source": [
    "### 2 hidden layers of 3 neurons each"
   ]
  },
  {
   "cell_type": "code",
   "execution_count": 87,
   "id": "bae943e3-de55-44a7-9adf-833a16bce4df",
   "metadata": {
    "tags": []
   },
   "outputs": [
    {
     "name": "stdout",
     "output_type": "stream",
     "text": [
      "Model: \"sequential_5\"\n",
      "_________________________________________________________________\n",
      " Layer (type)                Output Shape              Param #   \n",
      "=================================================================\n",
      " dense_13 (Dense)            (None, 1, 3)              9         \n",
      "                                                                 \n",
      " dense_14 (Dense)            (None, 1, 3)              12        \n",
      "                                                                 \n",
      " flatten_5 (Flatten)         (None, 3)                 0         \n",
      "                                                                 \n",
      "=================================================================\n",
      "Total params: 21\n",
      "Trainable params: 21\n",
      "Non-trainable params: 0\n",
      "_________________________________________________________________\n",
      "Training for 5000 steps ...\n",
      "Interval 1 (0 steps performed)\n",
      " 2117/10000 [=====>........................] - ETA: 43s - reward: 1.6060********************* Finish *********************\n",
      " 5000/10000 [==============>...............] - ETA: 25s - reward: 6.1960done, took 25.867 seconds\n"
     ]
    },
    {
     "data": {
      "text/plain": [
       "<keras.callbacks.History at 0x7fa59a399550>"
      ]
     },
     "execution_count": 87,
     "metadata": {},
     "output_type": "execute_result"
    }
   ],
   "source": [
    "env = CustomEnv()\n",
    "check_env(env, warn=True)\n",
    "\n",
    "# getting the shape of our observation space and the number of actions\n",
    "states = env.observation_space.shape[0]\n",
    "actions = env.action_space.n\n",
    "\n",
    "# building the model\n",
    "model = Sequential()    \n",
    "model.add(Dense(3, activation='relu', input_shape = (1,states)))\n",
    "model.add(Dense(actions, activation='linear'))\n",
    "model.add(Flatten()) \n",
    "model.summary()\n",
    "\n",
    "# building the agent\n",
    "dqn = DQNAgent(model=model, memory=memory, policy=policy, nb_actions=actions, \\\n",
    "               nb_steps_warmup=10, target_model_update=1e-2)\n",
    "\n",
    "dqn.compile(Adam(lr=1e-3), metrics=['mae'])\n",
    "dqn.fit(env, nb_steps=5000, visualize=False, verbose=1)"
   ]
  },
  {
   "cell_type": "markdown",
   "id": "9ddb3354-225c-4850-8544-af4a2fa64e06",
   "metadata": {
    "tags": []
   },
   "source": [
    "### 1 hidden layers of 3 neurons each"
   ]
  },
  {
   "cell_type": "code",
   "execution_count": 88,
   "id": "38d348d8-0abe-4682-8031-907b868c28cb",
   "metadata": {
    "tags": []
   },
   "outputs": [
    {
     "name": "stdout",
     "output_type": "stream",
     "text": [
      "Model: \"sequential_6\"\n",
      "_________________________________________________________________\n",
      " Layer (type)                Output Shape              Param #   \n",
      "=================================================================\n",
      " dense_15 (Dense)            (None, 1, 3)              9         \n",
      "                                                                 \n",
      " flatten_6 (Flatten)         (None, 3)                 0         \n",
      "                                                                 \n",
      "=================================================================\n",
      "Total params: 9\n",
      "Trainable params: 9\n",
      "Non-trainable params: 0\n",
      "_________________________________________________________________\n",
      "Training for 5000 steps ...\n",
      "Interval 1 (0 steps performed)\n",
      " 4991/10000 [=============>................] - ETA: 27s - reward: 9.1745done, took 28.041 seconds\n"
     ]
    },
    {
     "data": {
      "text/plain": [
       "<keras.callbacks.History at 0x7fa59a266730>"
      ]
     },
     "execution_count": 88,
     "metadata": {},
     "output_type": "execute_result"
    }
   ],
   "source": [
    "env = CustomEnv()\n",
    "check_env(env, warn=True)\n",
    "\n",
    "# getting the shape of our observation space and the number of actions\n",
    "states = env.observation_space.shape[0]\n",
    "actions = env.action_space.n\n",
    "\n",
    "# building the model\n",
    "model = Sequential()    \n",
    "model.add(Dense(3, activation='relu', input_shape = (1,states)))\n",
    "model.add(Flatten()) \n",
    "model.summary()\n",
    "\n",
    "# building the agent\n",
    "dqn = DQNAgent(model=model, memory=memory, policy=policy, nb_actions=actions, \\\n",
    "               nb_steps_warmup=10, target_model_update=1e-2)\n",
    "\n",
    "dqn.compile(Adam(lr=1e-3), metrics=['mae'])\n",
    "dqn.fit(env, nb_steps=5000, visualize=False, verbose=1)"
   ]
  },
  {
   "cell_type": "markdown",
   "id": "7966b4d4-254f-4504-992a-388fcadf8667",
   "metadata": {},
   "source": [
    "As we can see from the above experiments, a minimum of `one hidden layer and three neurons` is required for the neural network to successfully learn the winning strategy. This may be because the environment for this problem is relatively simple and does not require too much computational complexity, so very small neural network architectures can be used to solve the problem."
   ]
  },
  {
   "cell_type": "markdown",
   "id": "21c949d8-2b8d-464c-8260-c7c07bb6f4d3",
   "metadata": {
    "tags": []
   },
   "source": [
    "## **Question 2e** \n",
    "**Compare the effect of different state representations and different reward functions on the ability of the RL agent to learn a winning strategy quickly. [10 marks]**"
   ]
  },
  {
   "cell_type": "markdown",
   "id": "268b7368-348d-48db-b8a1-56fe32301a64",
   "metadata": {},
   "source": [
    "The process is omitted here and the results are as follows:\n",
    "\n",
    "||Finish: 100 <br/> Left: 20 and 15<br/> Right: 20 and 15 <br/>Stay: 10<br/>After 50k eps in PPO|Finish: 100 <br/> Left: 20 and 15<br/> Right: 20 and 15 <br/>Stay: 10<br/>After 100k eps in PPO|Finish: 500 <br/> Left: 300 and 200<br/> Right: 300 and 200 <br/>Stay: 100<br/>After 50k eps in PPO | Finish: 500 <br/> Left: 300 and 200<br/> Right: 300 and 200 <br/>Stay: 100<br/>After 100k eps in PPO\n",
    "|:-:|:-:|:-:|:-:|:-:| \n",
    "| **rollout/**                | | |               |              |\n",
    "|    ep_len_mean          | 29.6| 109| 44.5        |37.2          |\n",
    "|    ep_rew_mean          | 533| 1.24e+03| 6.71e+03      |6.6e+03       |\n",
    "| **time/**                  | | |               |              |\n",
    "|    fps                  | 1150| 1201 | 1177         | 1341         \n",
    "|    iterations           | 25| 49| 25            |49           |\n",
    "|    time_elapsed         | 44| 83| 43            | 74           |\n",
    "|    total_timesteps      | 51200| 100352| 51200        | 100352       |\n",
    "| **train/**                 | | |              |              |  \n",
    "|    approx_kl            | 0.0024244532| 0.0023405133| 0.00024393134 | 0.0004722143 |\n",
    "|    clip_fraction        | 0.0237| 0.0428| 0             | 0            |\n",
    "|    clip_range           | 0.2| 0.2| 0.2           | 0.2          |\n",
    "|    entropy_loss         |  -0.501| -0.299| -0.969        | -0.829       |\n",
    "|    explained_variance   | 2.86e-06| 0.000378| 1.79e-07      | 0            |\n",
    "|    learning_rate        | 0.0003| 0.0003| 0.0003        | 0.0003       |\n",
    "|    loss                 | 5.63e+03| 5.16e+03| 1.55e+06      | 1.63e+06     |\n",
    "|    n_updates            | 240| 480| 240           | 480          |\n",
    "|    policy_gradient_loss | -0.00372| -0.00661| -0.00107      | -0.00108     |\n",
    "|    value_loss           | 1.31e+04 | 1.06e+04 | 2.81e+06      | 3.3e+06      |\n",
    "|     ***Reset and predict***   | Yes | Yes | N/A | N/A|\n",
    "\n",
    "As we can see above, When we adjust the reward score upwards, the interval becomes larger. This can have an effect on the learning efficiency of the agent. Interestingly, when the reward is small, it is good for short term learning and it gives very good solutions in the 50k eps, however when the number of learning eps increases, it becomes worse instead. But this method all yields good predictions. In contrast when the reward is high, the longer the learning time, the better it will be. However, this method is not successful in predicting solutions in the short term. Therefore, we found that a good state representation and reward function have a significant impact on the ability of RL agents to learn winning strategies quickly. "
   ]
  }
 ],
 "metadata": {
  "kernelspec": {
   "display_name": "Python 3 (ipykernel)",
   "language": "python",
   "name": "python3"
  },
  "language_info": {
   "codemirror_mode": {
    "name": "ipython",
    "version": 3
   },
   "file_extension": ".py",
   "mimetype": "text/x-python",
   "name": "python",
   "nbconvert_exporter": "python",
   "pygments_lexer": "ipython3",
   "version": "3.9.7"
  }
 },
 "nbformat": 4,
 "nbformat_minor": 5
}
